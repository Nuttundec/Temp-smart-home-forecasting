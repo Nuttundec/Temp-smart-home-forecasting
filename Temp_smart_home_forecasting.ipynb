{
  "nbformat": 4,
  "nbformat_minor": 0,
  "metadata": {
    "colab": {
      "provenance": [],
      "toc_visible": true
    },
    "kernelspec": {
      "name": "python3",
      "display_name": "Python 3"
    },
    "language_info": {
      "name": "python"
    }
  },
  "cells": [
    {
      "cell_type": "markdown",
      "source": [
        "# Load Data\n",
        "- using gdown\n",
        "https://pypi.org/project/gdown/"
      ],
      "metadata": {
        "id": "oxHTONzBew9M"
      }
    },
    {
      "cell_type": "code",
      "source": [
        "!pip install imbalanced-learn"
      ],
      "metadata": {
        "colab": {
          "base_uri": "https://localhost:8080/"
        },
        "id": "9BUqV9OE_Ann",
        "outputId": "4de147e0-f3ca-4825-935c-6b6a3f856814"
      },
      "execution_count": null,
      "outputs": [
        {
          "output_type": "stream",
          "name": "stdout",
          "text": [
            "Looking in indexes: https://pypi.org/simple, https://us-python.pkg.dev/colab-wheels/public/simple/\n",
            "Requirement already satisfied: imbalanced-learn in /usr/local/lib/python3.10/dist-packages (0.10.1)\n",
            "Requirement already satisfied: numpy>=1.17.3 in /usr/local/lib/python3.10/dist-packages (from imbalanced-learn) (1.22.4)\n",
            "Requirement already satisfied: scipy>=1.3.2 in /usr/local/lib/python3.10/dist-packages (from imbalanced-learn) (1.10.1)\n",
            "Requirement already satisfied: scikit-learn>=1.0.2 in /usr/local/lib/python3.10/dist-packages (from imbalanced-learn) (1.2.2)\n",
            "Requirement already satisfied: joblib>=1.1.1 in /usr/local/lib/python3.10/dist-packages (from imbalanced-learn) (1.2.0)\n",
            "Requirement already satisfied: threadpoolctl>=2.0.0 in /usr/local/lib/python3.10/dist-packages (from imbalanced-learn) (3.1.0)\n"
          ]
        }
      ]
    },
    {
      "cell_type": "code",
      "source": [
        "# Builtin Lib\n",
        "import os\n",
        "\n",
        "# Installed Lib\n",
        "import gdown\n",
        "import pandas as pd\n",
        "import numpy as np\n",
        "from sklearn.model_selection import TimeSeriesSplit\n",
        "from sklearn.linear_model import LinearRegression\n",
        "from sklearn.linear_model import Ridge, Lasso, ElasticNet\n",
        "import matplotlib.pyplot as plt\n",
        "import seaborn as sns\n",
        "%matplotlib inline\n",
        "from sklearn.preprocessing import MinMaxScaler, StandardScaler\n",
        "from imblearn.over_sampling import SMOTE, BorderlineSMOTE, ADASYN, RandomOverSampler\n",
        "from sklearn.neighbors import KNeighborsClassifier\n",
        "import sklearn\n",
        "from sklearn.metrics import *\n",
        "from sklearn.model_selection import GridSearchCV\n",
        "from imblearn.pipeline import Pipeline"
      ],
      "metadata": {
        "id": "dpf5ACLifPvD"
      },
      "execution_count": null,
      "outputs": []
    },
    {
      "cell_type": "markdown",
      "source": [
        "# Define necessaries functions\n"
      ],
      "metadata": {
        "id": "gpaWkcCF1wl5"
      }
    },
    {
      "cell_type": "code",
      "source": [
        "#Load Data to Local\n",
        "def load_data():\n",
        "    url = \"https://drive.google.com/drive/folders/1-vqyfpMhuUjF0t_USdvoXMkW7HtuA0op\"\n",
        "    gdown.download_folder(url, quiet=True, use_cookies=False)\n",
        "    print(\"Finish Download\")\n",
        "\n",
        "def check_file_exist_in_local():\n",
        "    path = \"/content/data-home-temp\"\n",
        "    is_exists = os.path.exists(path)\n",
        "    if is_exists:\n",
        "        print(is_exists)\n",
        "    else:\n",
        "        print(\"Folder does not exists\")\n",
        "\n",
        "def read_file(path):\n",
        "    return pd.read_csv(path)\n",
        "\n",
        "#Define treshold for Binary Classification model\n",
        "def get_classs_temp(temp):\n",
        "    if temp < 20:\n",
        "        return 0\n",
        "    else:\n",
        "        return 1\n",
        "\n",
        "def get_classs_temps(temps):\n",
        "    return [get_classs_temp(temp) for temp in temps]\n",
        "\n",
        "#Correlation plot\n",
        "def plot_correlation(df, is_save=False):\n",
        "    df_corr = df.corr().abs()\n",
        "    plt.figure(figsize=(12,8))\n",
        "    mask = np.triu(np.ones_like(df_corr, dtype=bool))\n",
        "    sns.heatmap(df_corr, annot=True, fmt=\".2f\", linewidths=.5, mask=mask, robust=True)\n",
        "    plt.show()\n",
        "\n",
        "    if is_save:\n",
        "        plt.savefig('./correlation.png')\n",
        "\n",
        "#Split data\n",
        "def split_train_test1(df, features, train_size=0.8):\n",
        "    train_idx = int(len(df) * train_size)\n",
        "    df_train_prepared = df[features + [\"Id\", \"Indoor_temperature_room\"]][:train_idx]\n",
        "    df_valid_prepared = df[features + [\"Id\", \"Indoor_temperature_room\"]][train_idx:]\n",
        "    return df_train_prepared, df_valid_prepared\n",
        "\n",
        "def split_train_test2(df, features, train_size=0.8):\n",
        "    train_idx = int(len(df) * train_size)\n",
        "    df_train = df[features + [\"Id\", \"Indoor_temperature_room\", \"Temp_Class\"]][:train_idx]\n",
        "    df_test = df[features + [\"Id\", \"Indoor_temperature_room\", \"Temp_Class\"]][train_idx:]\n",
        "    return df_train, df_test\n",
        "\n",
        "def generate_list_timeseries_cv(x_train, cv=20):\n",
        "    tscv = TimeSeriesSplit(n_splits=cv, test_size=100)\n",
        "\n",
        "    cv_ls = []\n",
        "    for idx, (train_index, valid_index) in zip(range(0, 20, 1), tscv.split(x_train)):\n",
        "        cv_ls.append((train_index[idx*100:], valid_index))\n",
        "    return cv_ls\n",
        "\n",
        "#Cost function\n",
        "def cost_electricity(y_trues, y_preds):\n",
        "    cost = 0\n",
        "    for y_true, y_pred in zip(y_trues, y_preds):\n",
        "        if (y_true == 0) & (y_pred == 1):\n",
        "            cost += 100\n",
        "        else:\n",
        "            cost += 0\n",
        "    return cost\n",
        "\n",
        "#Transformation Function\n",
        "def initiate_estimator(params):\n",
        "    knn = KNeighborsClassifier(**params)\n",
        "    return knn\n",
        "\n",
        "def retrain_with_best_parameters(estimator, x_train, y_train):\n",
        "    estimator.fit(x_train, y_train)\n",
        "    return estimator\n",
        "\n",
        "def norm_train_test(x_train, x_test):\n",
        "    norm = MinMaxScaler()\n",
        "    x_train_norm = norm.fit_transform(x_train)\n",
        "    x_test_norm = norm.transform(x_test)\n",
        "    return x_train_norm, x_test_norm\n",
        "\n",
        "def std_train_test(x_train, x_test):\n",
        "    std = StandardScaler()\n",
        "    x_train_std = std.fit_transform(x_train)\n",
        "    x_test_std = std.transform(x_test)\n",
        "    return x_train_std, x_test_std\n",
        "\n",
        "#Oversampling Function\n",
        "def do_rand(x_train, y_train):\n",
        "    rand = RandomOverSampler(random_state=2022, sampling_strategy='minority')\n",
        "    x_train_rand, y_train_rand = rand.fit_resample(x_train, y_train)\n",
        "    return x_train_rand, y_train_rand\n",
        "\n",
        "def do_smote(x_train, y_train):\n",
        "    smote = SMOTE(random_state=2022, sampling_strategy='minority')\n",
        "    x_train_smote, y_train_smote = smote.fit_resample(x_train, y_train)\n",
        "    return x_train_smote, y_train_smote\n",
        "\n",
        "def do_bord(x_train, y_train):\n",
        "    bord = BorderlineSMOTE(random_state=2022, sampling_strategy='minority')\n",
        "    x_train_bord, y_train_bord = bord.fit_resample(x_train, y_train)\n",
        "    return x_train_bord, y_train_bord\n",
        "\n",
        "def do_adasyn(x_train, y_train):\n",
        "    adasyn = ADASYN(random_state=2022, sampling_strategy='minority')\n",
        "    x_train_adasyn, y_train_adasyn = adasyn.fit_resample(x_train, y_train)\n",
        "    return x_train_adasyn, y_train_adasyn\n",
        "\n",
        "#Performance Function\n",
        "def predict_with_best_model(estimator, x_train, x_test):\n",
        "    y_train_preds = estimator.predict(x_train)\n",
        "    y_test_preds = estimator.predict(x_test)\n",
        "    return y_train_preds, y_test_preds\n",
        "\n",
        "def avg_f1(y_trues, y_preds):\n",
        "    avg_f1 = (f1_score(y_trues, y_preds, pos_label=0) + f1_score(y_trues, y_preds, pos_label=1))/2\n",
        "    return avg_f1\n",
        "\n",
        "def check_performance_metrics(y_train_true, y_train_pred, y_test_true, y_test_pred):\n",
        "    print(classification_report(y_train_true, y_train_pred, target_names=[\"Temp < 20\", \"Temp >= 20\"]))\n",
        "    print(classification_report(y_test_true, y_test_pred, target_names=[\"Temp < 20\", \"Temp >= 20\"]))\n",
        "\n",
        "    print(f\"ROC AUC Score Train: {roc_auc_score(y_train, y_train_model_prob[:, 1]) * 100:.4f} %\")\n",
        "    print(f\"ROC AUC Score Val: {roc_auc_score(y_val, y_val_model_prob[:, 1]) * 100:.4f} %\")\n",
        "\n",
        "    print(f\"AVG Electricity Cost Train: {cost_electricity(y_train_true, y_train_pred)/len(y_train_true):.4f} Baht\")\n",
        "    print(f\"AVG Electricity Cost Val: {cost_electricity(y_test_true, y_test_pred)/len(y_test_true):.4f} Baht\")\n",
        "\n",
        "    print(f\"AVG F1 Score Train: {avg_f1(y_train_true, y_train_pred)*100:.4f} %\")\n",
        "    print(f\"AVG F1 Score Val: {avg_f1(y_test_true, y_test_pred)*100:.4f} %\")\n"
      ],
      "metadata": {
        "id": "MPOpNDt7QvUs"
      },
      "execution_count": null,
      "outputs": []
    },
    {
      "cell_type": "markdown",
      "source": [
        "# Step Code\n"
      ],
      "metadata": {
        "id": "6y2uufUR1Ord"
      }
    },
    {
      "cell_type": "code",
      "source": [
        "load_data()\n",
        "check_file_exist_in_local()\n",
        "\n",
        "df_train = read_file(\"/content/data-home-temp/train.csv\")\n",
        "df_test = read_file(\"/content/data-home-temp/test.csv\")"
      ],
      "metadata": {
        "colab": {
          "base_uri": "https://localhost:8080/"
        },
        "id": "TR3d-hqfQvH4",
        "outputId": "eada4a38-d83f-4d40-d069-bcbcbaea9cc6"
      },
      "execution_count": null,
      "outputs": [
        {
          "output_type": "stream",
          "name": "stdout",
          "text": [
            "Finish Download\n",
            "True\n"
          ]
        }
      ]
    },
    {
      "cell_type": "code",
      "source": [
        "plot_correlation(df_train, is_save=True)"
      ],
      "metadata": {
        "id": "v9-oOi1q93mW",
        "colab": {
          "base_uri": "https://localhost:8080/",
          "height": 973
        },
        "outputId": "cc03b4df-ea97-4cf4-c089-2eda6918c008"
      },
      "execution_count": null,
      "outputs": [
        {
          "output_type": "stream",
          "name": "stderr",
          "text": [
            "<ipython-input-4-e48fa8f24c85>:30: FutureWarning: The default value of numeric_only in DataFrame.corr is deprecated. In a future version, it will default to False. Select only valid columns or specify the value of numeric_only to silence this warning.\n",
            "  df_corr = df.corr().abs()\n"
          ]
        },
        {
          "output_type": "display_data",
          "data": {
            "text/plain": [
              "<Figure size 1200x800 with 2 Axes>"
            ],
            "image/png": "[encoded data removed]"
          },
          "metadata": {}
        },
        {
          "output_type": "display_data",
          "data": {
            "text/plain": [
              "<Figure size 640x480 with 0 Axes>"
            ]
          },
          "metadata": {}
        }
      ]
    },
    {
      "cell_type": "markdown",
      "source": [
        "#Regression"
      ],
      "metadata": {
        "id": "jgTajUbb-vOw"
      }
    },
    {
      "cell_type": "code",
      "source": [
        "#Define features columns\n",
        "FEATURES_COLUMNS = [\n",
        "    \"CO2_room\",\n",
        "    \"Relative_humidity_room\",\n",
        "    \"Meteo_Sun_irradiance\",\n",
        "    'Meteo_Rain',\n",
        "    'Meteo_Sun_dusk',\n",
        "    'Meteo_Wind',\n",
        "    'Meteo_Sun_light_in_west_facade',\n",
        "    'Meteo_Sun_light_in_east_facade',\n",
        "    'Outdoor_relative_humidity_Sensor',\n",
        "    'Day_of_the_week'\n",
        "]"
      ],
      "metadata": {
        "id": "tTrb2-cZ8LR1"
      },
      "execution_count": null,
      "outputs": []
    },
    {
      "cell_type": "code",
      "source": [
        "#Define X_train,X_val,y_train,y_val\n",
        "df_train_prepared, df_valid_prepared = split_train_test1(df_train, FEATURES_COLUMNS, train_size=0.8)\n",
        "print(f\"Train shape: {df_train_prepared.shape}\")\n",
        "print(f\"Val shape: {df_valid_prepared.shape}\")\n",
        "\n",
        "X_train = df_train_prepared[FEATURES_COLUMNS].values\n",
        "X_val = df_valid_prepared[FEATURES_COLUMNS].values\n",
        "\n",
        "y_train = df_train_prepared[\"Indoor_temperature_room\"].values\n",
        "y_val = df_valid_prepared[\"Indoor_temperature_room\"].values\n",
        "\n",
        "print(f\"X Train shape: {X_train.shape}\")\n",
        "print(f\"X Val shape: {X_val.shape}\")\n",
        "print(f\"Y Train shape: {y_train.shape}\")\n",
        "print(f\"Y Val shape: {y_val.shape}\")"
      ],
      "metadata": {
        "colab": {
          "base_uri": "https://localhost:8080/"
        },
        "id": "rroMXmw4-D6G",
        "outputId": "6f79b5f1-e7de-4595-b00f-90398b35592d"
      },
      "execution_count": null,
      "outputs": [
        {
          "output_type": "stream",
          "name": "stdout",
          "text": [
            "Train shape: (2211, 12)\n",
            "Val shape: (553, 12)\n",
            "X Train shape: (2211, 10)\n",
            "X Val shape: (553, 10)\n",
            "Y Train shape: (2211,)\n",
            "Y Val shape: (553,)\n"
          ]
        }
      ]
    },
    {
      "cell_type": "code",
      "source": [
        "# Normalization and Standardization\n",
        "def norm_train_test(x_train, x_val):\n",
        "    norm = MinMaxScaler()\n",
        "    X_train_norm = norm.fit_transform(X_train)\n",
        "    X_val_norm = norm.transform(X_val)\n",
        "    return X_train_norm, X_val_norm\n",
        "\n",
        "def std_train_test(x_train, x_val):\n",
        "    std = StandardScaler()\n",
        "    X_train_std = std.fit_transform(X_train_norm)\n",
        "    X_val_std = std.transform(X_val_norm)\n",
        "    return X_train_std, X_val_std"
      ],
      "metadata": {
        "id": "nRTklnmVAZoH"
      },
      "execution_count": null,
      "outputs": []
    },
    {
      "cell_type": "code",
      "source": [
        "X_train_norm, X_val_norm = norm_train_test(X_train, X_val)\n",
        "X_train_std, X_val_std = std_train_test(X_train_norm, X_val_norm)"
      ],
      "metadata": {
        "id": "mwVLrf0h7b-9"
      },
      "execution_count": null,
      "outputs": []
    },
    {
      "cell_type": "markdown",
      "source": [
        "##Model 1 (Linear Regression)"
      ],
      "metadata": {
        "id": "gBy04-9DD5vP"
      }
    },
    {
      "cell_type": "code",
      "source": [
        "lin_reg = LinearRegression()"
      ],
      "metadata": {
        "id": "tl49u7Nk-y6I"
      },
      "execution_count": null,
      "outputs": []
    },
    {
      "cell_type": "code",
      "source": [
        "lin_reg.fit(X_train_std, y_train)"
      ],
      "metadata": {
        "colab": {
          "base_uri": "https://localhost:8080/",
          "height": 75
        },
        "id": "j8SRu_mJ-0Mo",
        "outputId": "c90002b8-2fe2-477b-d9f2-3db02c56b338"
      },
      "execution_count": null,
      "outputs": [
        {
          "output_type": "execute_result",
          "data": {
            "text/plain": [
              "LinearRegression()"
            ],
            "text/html": [
              "<style>#sk-container-id-1 {color: black;background-color: white;}#sk-container-id-1 pre{padding: 0;}#sk-container-id-1 div.sk-toggleable {background-color: white;}#sk-container-id-1 label.sk-toggleable__label {cursor: pointer;display: block;width: 100%;margin-bottom: 0;padding: 0.3em;box-sizing: border-box;text-align: center;}#sk-container-id-1 label.sk-toggleable__label-arrow:before {content: \"▸\";float: left;margin-right: 0.25em;color: #696969;}#sk-container-id-1 label.sk-toggleable__label-arrow:hover:before {color: black;}#sk-container-id-1 div.sk-estimator:hover label.sk-toggleable__label-arrow:before {color: black;}#sk-container-id-1 div.sk-toggleable__content {max-height: 0;max-width: 0;overflow: hidden;text-align: left;background-color: #f0f8ff;}#sk-container-id-1 div.sk-toggleable__content pre {margin: 0.2em;color: black;border-radius: 0.25em;background-color: #f0f8ff;}#sk-container-id-1 input.sk-toggleable__control:checked~div.sk-toggleable__content {max-height: 200px;max-width: 100%;overflow: auto;}#sk-container-id-1 input.sk-toggleable__control:checked~label.sk-toggleable__label-arrow:before {content: \"▾\";}#sk-container-id-1 div.sk-estimator input.sk-toggleable__control:checked~label.sk-toggleable__label {background-color: #d4ebff;}#sk-container-id-1 div.sk-label input.sk-toggleable__control:checked~label.sk-toggleable__label {background-color: #d4ebff;}#sk-container-id-1 input.sk-hidden--visually {border: 0;clip: rect(1px 1px 1px 1px);clip: rect(1px, 1px, 1px, 1px);height: 1px;margin: -1px;overflow: hidden;padding: 0;position: absolute;width: 1px;}#sk-container-id-1 div.sk-estimator {font-family: monospace;background-color: #f0f8ff;border: 1px dotted black;border-radius: 0.25em;box-sizing: border-box;margin-bottom: 0.5em;}#sk-container-id-1 div.sk-estimator:hover {background-color: #d4ebff;}#sk-container-id-1 div.sk-parallel-item::after {content: \"\";width: 100%;border-bottom: 1px solid gray;flex-grow: 1;}#sk-container-id-1 div.sk-label:hover label.sk-toggleable__label {background-color: #d4ebff;}#sk-container-id-1 div.sk-serial::before {content: \"\";position: absolute;border-left: 1px solid gray;box-sizing: border-box;top: 0;bottom: 0;left: 50%;z-index: 0;}#sk-container-id-1 div.sk-serial {display: flex;flex-direction: column;align-items: center;background-color: white;padding-right: 0.2em;padding-left: 0.2em;position: relative;}#sk-container-id-1 div.sk-item {position: relative;z-index: 1;}#sk-container-id-1 div.sk-parallel {display: flex;align-items: stretch;justify-content: center;background-color: white;position: relative;}#sk-container-id-1 div.sk-item::before, #sk-container-id-1 div.sk-parallel-item::before {content: \"\";position: absolute;border-left: 1px solid gray;box-sizing: border-box;top: 0;bottom: 0;left: 50%;z-index: -1;}#sk-container-id-1 div.sk-parallel-item {display: flex;flex-direction: column;z-index: 1;position: relative;background-color: white;}#sk-container-id-1 div.sk-parallel-item:first-child::after {align-self: flex-end;width: 50%;}#sk-container-id-1 div.sk-parallel-item:last-child::after {align-self: flex-start;width: 50%;}#sk-container-id-1 div.sk-parallel-item:only-child::after {width: 0;}#sk-container-id-1 div.sk-dashed-wrapped {border: 1px dashed gray;margin: 0 0.4em 0.5em 0.4em;box-sizing: border-box;padding-bottom: 0.4em;background-color: white;}#sk-container-id-1 div.sk-label label {font-family: monospace;font-weight: bold;display: inline-block;line-height: 1.2em;}#sk-container-id-1 div.sk-label-container {text-align: center;}#sk-container-id-1 div.sk-container {/* jupyter's `normalize.less` sets `[hidden] { display: none; }` but bootstrap.min.css set `[hidden] { display: none !important; }` so we also need the `!important` here to be able to override the default hidden behavior on the sphinx rendered scikit-learn.org. See: https://github.com/scikit-learn/scikit-learn/issues/21755 */display: inline-block !important;position: relative;}#sk-container-id-1 div.sk-text-repr-fallback {display: none;}</style><div id=\"sk-container-id-1\" class=\"sk-top-container\"><div class=\"sk-text-repr-fallback\"><pre>LinearRegression()</pre><b>In a Jupyter environment, please rerun this cell to show the HTML representation or trust the notebook. <br />On GitHub, the HTML representation is unable to render, please try loading this page with nbviewer.org.</b></div><div class=\"sk-container\" hidden><div class=\"sk-item\"><div class=\"sk-estimator sk-toggleable\"><input class=\"sk-toggleable__control sk-hidden--visually\" id=\"sk-estimator-id-1\" type=\"checkbox\" checked><label for=\"sk-estimator-id-1\" class=\"sk-toggleable__label sk-toggleable__label-arrow\">LinearRegression</label><div class=\"sk-toggleable__content\"><pre>LinearRegression()</pre></div></div></div></div></div>"
            ]
          },
          "metadata": {},
          "execution_count": 30
        }
      ]
    },
    {
      "cell_type": "code",
      "source": [
        "y_train_pred = lin_reg.predict(X_train_std)"
      ],
      "metadata": {
        "id": "mxbdltUw-6-_"
      },
      "execution_count": null,
      "outputs": []
    },
    {
      "cell_type": "code",
      "source": [
        "y_val_pred = lin_reg.predict(X_val_std)"
      ],
      "metadata": {
        "id": "LDdB1DyA-8fn"
      },
      "execution_count": null,
      "outputs": []
    },
    {
      "cell_type": "code",
      "source": [
        "from sklearn.metrics import *"
      ],
      "metadata": {
        "id": "yFpILZFuAuRE"
      },
      "execution_count": null,
      "outputs": []
    },
    {
      "cell_type": "code",
      "source": [
        "print(\"R-Square Train: \", r2_score(y_train, y_train_pred))\n",
        "print(\"R-Square Validation: \",r2_score(y_val, y_val_pred))\n",
        "print(\"MSE Train: \", median_absolute_error(y_train, y_train_pred))\n",
        "print(\"MSE Validation: \", median_absolute_error(y_val, y_val_pred))"
      ],
      "metadata": {
        "colab": {
          "base_uri": "https://localhost:8080/"
        },
        "id": "mLLCYMtZAvq8",
        "outputId": "6f5217c6-236f-43dc-dae9-5efeaa21ec07"
      },
      "execution_count": null,
      "outputs": [
        {
          "output_type": "stream",
          "name": "stdout",
          "text": [
            "R-Square Train:  0.479568752669152\n",
            "R-Square Validation:  0.20518282557026513\n"
          ]
        }
      ]
    },
    {
      "cell_type": "code",
      "source": [],
      "metadata": {
        "id": "mpkMQff-ERMB"
      },
      "execution_count": null,
      "outputs": []
    },
    {
      "cell_type": "markdown",
      "source": [
        "###Check Polynomial"
      ],
      "metadata": {
        "id": "8daJpzY3BSJ7"
      }
    },
    {
      "cell_type": "code",
      "source": [
        "from sklearn.preprocessing import PolynomialFeatures"
      ],
      "metadata": {
        "id": "Be4tM5aiBTIb"
      },
      "execution_count": null,
      "outputs": []
    },
    {
      "cell_type": "code",
      "source": [
        "poly_reg = PolynomialFeatures(degree=4)"
      ],
      "metadata": {
        "id": "d_5NVBHUBUhy"
      },
      "execution_count": null,
      "outputs": []
    },
    {
      "cell_type": "code",
      "source": [
        "X_train_poly = poly_reg.fit_transform(X_train_std)\n",
        "X_val_poly = poly_reg.transform(X_val_std)"
      ],
      "metadata": {
        "id": "UHLpRDhYBVvS"
      },
      "execution_count": null,
      "outputs": []
    },
    {
      "cell_type": "code",
      "source": [
        "lin_reg2 = LinearRegression()"
      ],
      "metadata": {
        "id": "wAY6_dkGBnMz"
      },
      "execution_count": null,
      "outputs": []
    },
    {
      "cell_type": "code",
      "source": [
        "lin_reg2.fit(X_train_poly, y_train)"
      ],
      "metadata": {
        "colab": {
          "base_uri": "https://localhost:8080/",
          "height": 75
        },
        "id": "LAzP-vQCBoiq",
        "outputId": "cdd9ad14-176e-4867-c022-8abc219275ca"
      },
      "execution_count": null,
      "outputs": [
        {
          "output_type": "execute_result",
          "data": {
            "text/plain": [
              "LinearRegression()"
            ],
            "text/html": [
              "<style>#sk-container-id-2 {color: black;background-color: white;}#sk-container-id-2 pre{padding: 0;}#sk-container-id-2 div.sk-toggleable {background-color: white;}#sk-container-id-2 label.sk-toggleable__label {cursor: pointer;display: block;width: 100%;margin-bottom: 0;padding: 0.3em;box-sizing: border-box;text-align: center;}#sk-container-id-2 label.sk-toggleable__label-arrow:before {content: \"▸\";float: left;margin-right: 0.25em;color: #696969;}#sk-container-id-2 label.sk-toggleable__label-arrow:hover:before {color: black;}#sk-container-id-2 div.sk-estimator:hover label.sk-toggleable__label-arrow:before {color: black;}#sk-container-id-2 div.sk-toggleable__content {max-height: 0;max-width: 0;overflow: hidden;text-align: left;background-color: #f0f8ff;}#sk-container-id-2 div.sk-toggleable__content pre {margin: 0.2em;color: black;border-radius: 0.25em;background-color: #f0f8ff;}#sk-container-id-2 input.sk-toggleable__control:checked~div.sk-toggleable__content {max-height: 200px;max-width: 100%;overflow: auto;}#sk-container-id-2 input.sk-toggleable__control:checked~label.sk-toggleable__label-arrow:before {content: \"▾\";}#sk-container-id-2 div.sk-estimator input.sk-toggleable__control:checked~label.sk-toggleable__label {background-color: #d4ebff;}#sk-container-id-2 div.sk-label input.sk-toggleable__control:checked~label.sk-toggleable__label {background-color: #d4ebff;}#sk-container-id-2 input.sk-hidden--visually {border: 0;clip: rect(1px 1px 1px 1px);clip: rect(1px, 1px, 1px, 1px);height: 1px;margin: -1px;overflow: hidden;padding: 0;position: absolute;width: 1px;}#sk-container-id-2 div.sk-estimator {font-family: monospace;background-color: #f0f8ff;border: 1px dotted black;border-radius: 0.25em;box-sizing: border-box;margin-bottom: 0.5em;}#sk-container-id-2 div.sk-estimator:hover {background-color: #d4ebff;}#sk-container-id-2 div.sk-parallel-item::after {content: \"\";width: 100%;border-bottom: 1px solid gray;flex-grow: 1;}#sk-container-id-2 div.sk-label:hover label.sk-toggleable__label {background-color: #d4ebff;}#sk-container-id-2 div.sk-serial::before {content: \"\";position: absolute;border-left: 1px solid gray;box-sizing: border-box;top: 0;bottom: 0;left: 50%;z-index: 0;}#sk-container-id-2 div.sk-serial {display: flex;flex-direction: column;align-items: center;background-color: white;padding-right: 0.2em;padding-left: 0.2em;position: relative;}#sk-container-id-2 div.sk-item {position: relative;z-index: 1;}#sk-container-id-2 div.sk-parallel {display: flex;align-items: stretch;justify-content: center;background-color: white;position: relative;}#sk-container-id-2 div.sk-item::before, #sk-container-id-2 div.sk-parallel-item::before {content: \"\";position: absolute;border-left: 1px solid gray;box-sizing: border-box;top: 0;bottom: 0;left: 50%;z-index: -1;}#sk-container-id-2 div.sk-parallel-item {display: flex;flex-direction: column;z-index: 1;position: relative;background-color: white;}#sk-container-id-2 div.sk-parallel-item:first-child::after {align-self: flex-end;width: 50%;}#sk-container-id-2 div.sk-parallel-item:last-child::after {align-self: flex-start;width: 50%;}#sk-container-id-2 div.sk-parallel-item:only-child::after {width: 0;}#sk-container-id-2 div.sk-dashed-wrapped {border: 1px dashed gray;margin: 0 0.4em 0.5em 0.4em;box-sizing: border-box;padding-bottom: 0.4em;background-color: white;}#sk-container-id-2 div.sk-label label {font-family: monospace;font-weight: bold;display: inline-block;line-height: 1.2em;}#sk-container-id-2 div.sk-label-container {text-align: center;}#sk-container-id-2 div.sk-container {/* jupyter's `normalize.less` sets `[hidden] { display: none; }` but bootstrap.min.css set `[hidden] { display: none !important; }` so we also need the `!important` here to be able to override the default hidden behavior on the sphinx rendered scikit-learn.org. See: https://github.com/scikit-learn/scikit-learn/issues/21755 */display: inline-block !important;position: relative;}#sk-container-id-2 div.sk-text-repr-fallback {display: none;}</style><div id=\"sk-container-id-2\" class=\"sk-top-container\"><div class=\"sk-text-repr-fallback\"><pre>LinearRegression()</pre><b>In a Jupyter environment, please rerun this cell to show the HTML representation or trust the notebook. <br />On GitHub, the HTML representation is unable to render, please try loading this page with nbviewer.org.</b></div><div class=\"sk-container\" hidden><div class=\"sk-item\"><div class=\"sk-estimator sk-toggleable\"><input class=\"sk-toggleable__control sk-hidden--visually\" id=\"sk-estimator-id-2\" type=\"checkbox\" checked><label for=\"sk-estimator-id-2\" class=\"sk-toggleable__label sk-toggleable__label-arrow\">LinearRegression</label><div class=\"sk-toggleable__content\"><pre>LinearRegression()</pre></div></div></div></div></div>"
            ]
          },
          "metadata": {},
          "execution_count": 40
        }
      ]
    },
    {
      "cell_type": "code",
      "source": [
        "y_train_poly_pred = lin_reg2.predict(X_train_poly)\n",
        "y_val_poly_pred = lin_reg2.predict(X_val_poly)"
      ],
      "metadata": {
        "id": "V1NOM5aEB0N6"
      },
      "execution_count": null,
      "outputs": []
    },
    {
      "cell_type": "code",
      "source": [
        "print(\"R-Square Train: \", r2_score(y_train, y_train_poly_pred))\n",
        "print(\"R-Square Validation: \",r2_score(y_val, y_val_poly_pred))\n",
        "print(\"MSE Train: \", median_absolute_error(y_train, y_train_poly_pred))\n",
        "print(\"MSE Validation: \", median_absolute_error(y_val, y_val_poly_pred))"
      ],
      "metadata": {
        "colab": {
          "base_uri": "https://localhost:8080/"
        },
        "id": "-GffGSK_B10j",
        "outputId": "724367db-9ef9-4e62-bbf2-7008e373dbff"
      },
      "execution_count": null,
      "outputs": [
        {
          "output_type": "stream",
          "name": "stdout",
          "text": [
            "R-Square Train:  0.964633318199815\n",
            "R-Square Validation:  -840473664.0887684\n",
            "MSE Train:  0.23816047576367794\n",
            "MSE Validation:  5.189850504862889\n"
          ]
        }
      ]
    },
    {
      "cell_type": "code",
      "source": [],
      "metadata": {
        "id": "nzbgVTH4P_ws"
      },
      "execution_count": null,
      "outputs": []
    },
    {
      "cell_type": "code",
      "source": [],
      "metadata": {
        "id": "9ln3kIbBP_kk"
      },
      "execution_count": null,
      "outputs": []
    },
    {
      "cell_type": "markdown",
      "source": [
        "###Regularization"
      ],
      "metadata": {
        "id": "ICnjKPOUMI-c"
      }
    },
    {
      "cell_type": "markdown",
      "source": [
        "####Ridge"
      ],
      "metadata": {
        "id": "RszJWo6IiECp"
      }
    },
    {
      "cell_type": "code",
      "source": [
        "ridge_reg = Ridge()\n",
        "ridge_reg.fit(X_train_std, y_train)"
      ],
      "metadata": {
        "colab": {
          "base_uri": "https://localhost:8080/",
          "height": 75
        },
        "id": "uxLchJt7iI35",
        "outputId": "bb93b60e-f47d-42df-ec95-4b5cc55ec4fc"
      },
      "execution_count": null,
      "outputs": [
        {
          "output_type": "execute_result",
          "data": {
            "text/plain": [
              "Ridge()"
            ],
            "text/html": [
              "<style>#sk-container-id-3 {color: black;background-color: white;}#sk-container-id-3 pre{padding: 0;}#sk-container-id-3 div.sk-toggleable {background-color: white;}#sk-container-id-3 label.sk-toggleable__label {cursor: pointer;display: block;width: 100%;margin-bottom: 0;padding: 0.3em;box-sizing: border-box;text-align: center;}#sk-container-id-3 label.sk-toggleable__label-arrow:before {content: \"▸\";float: left;margin-right: 0.25em;color: #696969;}#sk-container-id-3 label.sk-toggleable__label-arrow:hover:before {color: black;}#sk-container-id-3 div.sk-estimator:hover label.sk-toggleable__label-arrow:before {color: black;}#sk-container-id-3 div.sk-toggleable__content {max-height: 0;max-width: 0;overflow: hidden;text-align: left;background-color: #f0f8ff;}#sk-container-id-3 div.sk-toggleable__content pre {margin: 0.2em;color: black;border-radius: 0.25em;background-color: #f0f8ff;}#sk-container-id-3 input.sk-toggleable__control:checked~div.sk-toggleable__content {max-height: 200px;max-width: 100%;overflow: auto;}#sk-container-id-3 input.sk-toggleable__control:checked~label.sk-toggleable__label-arrow:before {content: \"▾\";}#sk-container-id-3 div.sk-estimator input.sk-toggleable__control:checked~label.sk-toggleable__label {background-color: #d4ebff;}#sk-container-id-3 div.sk-label input.sk-toggleable__control:checked~label.sk-toggleable__label {background-color: #d4ebff;}#sk-container-id-3 input.sk-hidden--visually {border: 0;clip: rect(1px 1px 1px 1px);clip: rect(1px, 1px, 1px, 1px);height: 1px;margin: -1px;overflow: hidden;padding: 0;position: absolute;width: 1px;}#sk-container-id-3 div.sk-estimator {font-family: monospace;background-color: #f0f8ff;border: 1px dotted black;border-radius: 0.25em;box-sizing: border-box;margin-bottom: 0.5em;}#sk-container-id-3 div.sk-estimator:hover {background-color: #d4ebff;}#sk-container-id-3 div.sk-parallel-item::after {content: \"\";width: 100%;border-bottom: 1px solid gray;flex-grow: 1;}#sk-container-id-3 div.sk-label:hover label.sk-toggleable__label {background-color: #d4ebff;}#sk-container-id-3 div.sk-serial::before {content: \"\";position: absolute;border-left: 1px solid gray;box-sizing: border-box;top: 0;bottom: 0;left: 50%;z-index: 0;}#sk-container-id-3 div.sk-serial {display: flex;flex-direction: column;align-items: center;background-color: white;padding-right: 0.2em;padding-left: 0.2em;position: relative;}#sk-container-id-3 div.sk-item {position: relative;z-index: 1;}#sk-container-id-3 div.sk-parallel {display: flex;align-items: stretch;justify-content: center;background-color: white;position: relative;}#sk-container-id-3 div.sk-item::before, #sk-container-id-3 div.sk-parallel-item::before {content: \"\";position: absolute;border-left: 1px solid gray;box-sizing: border-box;top: 0;bottom: 0;left: 50%;z-index: -1;}#sk-container-id-3 div.sk-parallel-item {display: flex;flex-direction: column;z-index: 1;position: relative;background-color: white;}#sk-container-id-3 div.sk-parallel-item:first-child::after {align-self: flex-end;width: 50%;}#sk-container-id-3 div.sk-parallel-item:last-child::after {align-self: flex-start;width: 50%;}#sk-container-id-3 div.sk-parallel-item:only-child::after {width: 0;}#sk-container-id-3 div.sk-dashed-wrapped {border: 1px dashed gray;margin: 0 0.4em 0.5em 0.4em;box-sizing: border-box;padding-bottom: 0.4em;background-color: white;}#sk-container-id-3 div.sk-label label {font-family: monospace;font-weight: bold;display: inline-block;line-height: 1.2em;}#sk-container-id-3 div.sk-label-container {text-align: center;}#sk-container-id-3 div.sk-container {/* jupyter's `normalize.less` sets `[hidden] { display: none; }` but bootstrap.min.css set `[hidden] { display: none !important; }` so we also need the `!important` here to be able to override the default hidden behavior on the sphinx rendered scikit-learn.org. See: https://github.com/scikit-learn/scikit-learn/issues/21755 */display: inline-block !important;position: relative;}#sk-container-id-3 div.sk-text-repr-fallback {display: none;}</style><div id=\"sk-container-id-3\" class=\"sk-top-container\"><div class=\"sk-text-repr-fallback\"><pre>Ridge()</pre><b>In a Jupyter environment, please rerun this cell to show the HTML representation or trust the notebook. <br />On GitHub, the HTML representation is unable to render, please try loading this page with nbviewer.org.</b></div><div class=\"sk-container\" hidden><div class=\"sk-item\"><div class=\"sk-estimator sk-toggleable\"><input class=\"sk-toggleable__control sk-hidden--visually\" id=\"sk-estimator-id-3\" type=\"checkbox\" checked><label for=\"sk-estimator-id-3\" class=\"sk-toggleable__label sk-toggleable__label-arrow\">Ridge</label><div class=\"sk-toggleable__content\"><pre>Ridge()</pre></div></div></div></div></div>"
            ]
          },
          "metadata": {},
          "execution_count": 44
        }
      ]
    },
    {
      "cell_type": "code",
      "source": [
        "y_train_std_ridge_pred = ridge_reg.predict(X_train_std)\n",
        "y_val_std_ridge_pred = ridge_reg.predict(X_val_std)"
      ],
      "metadata": {
        "id": "zb5Q1feRibM7"
      },
      "execution_count": null,
      "outputs": []
    },
    {
      "cell_type": "code",
      "source": [
        "print(\"Ridge std R-Square Train: \", r2_score(y_train, y_train_std_ridge_pred))\n",
        "print(\"Ridge std R-Square Validation: \",r2_score(y_val, y_val_std_ridge_pred))\n",
        "print(\"=\"*50)\n",
        "print(\"Ridge std MAE Train: \", mean_absolute_error(y_train, y_train_std_ridge_pred))\n",
        "print(\"Ridge std MAE Validation: \", mean_absolute_error(y_val, y_val_std_ridge_pred))\n",
        "print(\"=\"*50)"
      ],
      "metadata": {
        "colab": {
          "base_uri": "https://localhost:8080/"
        },
        "id": "IM5D4TJXibKR",
        "outputId": "b27cdae9-1401-42c1-bb13-db1fee3306d5"
      },
      "execution_count": null,
      "outputs": [
        {
          "output_type": "stream",
          "name": "stdout",
          "text": [
            "Ridge std R-Square Train:  0.47956861657832595\n",
            "Ridge std R-Square Validation:  0.20536470696683928\n",
            "==================================================\n",
            "Ridge std MAE Train:  1.6582557667918163\n",
            "Ridge std MAE Validation:  1.8424508503585835\n",
            "==================================================\n"
          ]
        }
      ]
    },
    {
      "cell_type": "markdown",
      "source": [
        "#### Ridge Polynomail"
      ],
      "metadata": {
        "id": "NStW8ikczVyf"
      }
    },
    {
      "cell_type": "code",
      "source": [
        "ridge_reg.fit(X_train_poly, y_train)"
      ],
      "metadata": {
        "colab": {
          "base_uri": "https://localhost:8080/",
          "height": 75
        },
        "id": "ELOw7vh0lEjE",
        "outputId": "4f8e6222-b96d-452f-cb18-287529b8e4fc"
      },
      "execution_count": null,
      "outputs": [
        {
          "output_type": "execute_result",
          "data": {
            "text/plain": [
              "Ridge()"
            ],
            "text/html": [
              "<style>#sk-container-id-4 {color: black;background-color: white;}#sk-container-id-4 pre{padding: 0;}#sk-container-id-4 div.sk-toggleable {background-color: white;}#sk-container-id-4 label.sk-toggleable__label {cursor: pointer;display: block;width: 100%;margin-bottom: 0;padding: 0.3em;box-sizing: border-box;text-align: center;}#sk-container-id-4 label.sk-toggleable__label-arrow:before {content: \"▸\";float: left;margin-right: 0.25em;color: #696969;}#sk-container-id-4 label.sk-toggleable__label-arrow:hover:before {color: black;}#sk-container-id-4 div.sk-estimator:hover label.sk-toggleable__label-arrow:before {color: black;}#sk-container-id-4 div.sk-toggleable__content {max-height: 0;max-width: 0;overflow: hidden;text-align: left;background-color: #f0f8ff;}#sk-container-id-4 div.sk-toggleable__content pre {margin: 0.2em;color: black;border-radius: 0.25em;background-color: #f0f8ff;}#sk-container-id-4 input.sk-toggleable__control:checked~div.sk-toggleable__content {max-height: 200px;max-width: 100%;overflow: auto;}#sk-container-id-4 input.sk-toggleable__control:checked~label.sk-toggleable__label-arrow:before {content: \"▾\";}#sk-container-id-4 div.sk-estimator input.sk-toggleable__control:checked~label.sk-toggleable__label {background-color: #d4ebff;}#sk-container-id-4 div.sk-label input.sk-toggleable__control:checked~label.sk-toggleable__label {background-color: #d4ebff;}#sk-container-id-4 input.sk-hidden--visually {border: 0;clip: rect(1px 1px 1px 1px);clip: rect(1px, 1px, 1px, 1px);height: 1px;margin: -1px;overflow: hidden;padding: 0;position: absolute;width: 1px;}#sk-container-id-4 div.sk-estimator {font-family: monospace;background-color: #f0f8ff;border: 1px dotted black;border-radius: 0.25em;box-sizing: border-box;margin-bottom: 0.5em;}#sk-container-id-4 div.sk-estimator:hover {background-color: #d4ebff;}#sk-container-id-4 div.sk-parallel-item::after {content: \"\";width: 100%;border-bottom: 1px solid gray;flex-grow: 1;}#sk-container-id-4 div.sk-label:hover label.sk-toggleable__label {background-color: #d4ebff;}#sk-container-id-4 div.sk-serial::before {content: \"\";position: absolute;border-left: 1px solid gray;box-sizing: border-box;top: 0;bottom: 0;left: 50%;z-index: 0;}#sk-container-id-4 div.sk-serial {display: flex;flex-direction: column;align-items: center;background-color: white;padding-right: 0.2em;padding-left: 0.2em;position: relative;}#sk-container-id-4 div.sk-item {position: relative;z-index: 1;}#sk-container-id-4 div.sk-parallel {display: flex;align-items: stretch;justify-content: center;background-color: white;position: relative;}#sk-container-id-4 div.sk-item::before, #sk-container-id-4 div.sk-parallel-item::before {content: \"\";position: absolute;border-left: 1px solid gray;box-sizing: border-box;top: 0;bottom: 0;left: 50%;z-index: -1;}#sk-container-id-4 div.sk-parallel-item {display: flex;flex-direction: column;z-index: 1;position: relative;background-color: white;}#sk-container-id-4 div.sk-parallel-item:first-child::after {align-self: flex-end;width: 50%;}#sk-container-id-4 div.sk-parallel-item:last-child::after {align-self: flex-start;width: 50%;}#sk-container-id-4 div.sk-parallel-item:only-child::after {width: 0;}#sk-container-id-4 div.sk-dashed-wrapped {border: 1px dashed gray;margin: 0 0.4em 0.5em 0.4em;box-sizing: border-box;padding-bottom: 0.4em;background-color: white;}#sk-container-id-4 div.sk-label label {font-family: monospace;font-weight: bold;display: inline-block;line-height: 1.2em;}#sk-container-id-4 div.sk-label-container {text-align: center;}#sk-container-id-4 div.sk-container {/* jupyter's `normalize.less` sets `[hidden] { display: none; }` but bootstrap.min.css set `[hidden] { display: none !important; }` so we also need the `!important` here to be able to override the default hidden behavior on the sphinx rendered scikit-learn.org. See: https://github.com/scikit-learn/scikit-learn/issues/21755 */display: inline-block !important;position: relative;}#sk-container-id-4 div.sk-text-repr-fallback {display: none;}</style><div id=\"sk-container-id-4\" class=\"sk-top-container\"><div class=\"sk-text-repr-fallback\"><pre>Ridge()</pre><b>In a Jupyter environment, please rerun this cell to show the HTML representation or trust the notebook. <br />On GitHub, the HTML representation is unable to render, please try loading this page with nbviewer.org.</b></div><div class=\"sk-container\" hidden><div class=\"sk-item\"><div class=\"sk-estimator sk-toggleable\"><input class=\"sk-toggleable__control sk-hidden--visually\" id=\"sk-estimator-id-4\" type=\"checkbox\" checked><label for=\"sk-estimator-id-4\" class=\"sk-toggleable__label sk-toggleable__label-arrow\">Ridge</label><div class=\"sk-toggleable__content\"><pre>Ridge()</pre></div></div></div></div></div>"
            ]
          },
          "metadata": {},
          "execution_count": 47
        }
      ]
    },
    {
      "cell_type": "code",
      "source": [
        "y_train_poly_ridge_pred = ridge_reg.predict(X_train_poly)\n",
        "y_val_poly_ridge_pred = ridge_reg.predict(X_val_poly)"
      ],
      "metadata": {
        "id": "7VwaOPs_lEgl"
      },
      "execution_count": null,
      "outputs": []
    },
    {
      "cell_type": "code",
      "source": [
        "print(\"Ridge Poly R-Square Train: \", r2_score(y_train, y_train_poly_ridge_pred))\n",
        "print(\"Ridge Poly R-Square Validation: \",r2_score(y_val, y_val_poly_ridge_pred))\n",
        "print(\"=\"*50)\n",
        "print(\"Ridge Poly MAE Train: \", mean_absolute_error(y_train, y_train_poly_ridge_pred))\n",
        "print(\"Ridge Poly MAE Validation: \", mean_absolute_error(y_val, y_val_poly_ridge_pred))\n",
        "print(\"=\"*50)"
      ],
      "metadata": {
        "colab": {
          "base_uri": "https://localhost:8080/"
        },
        "id": "tHfXzEvLlEd7",
        "outputId": "a8b06380-91db-4c4f-8b31-ea0a53d78b4a"
      },
      "execution_count": null,
      "outputs": [
        {
          "output_type": "stream",
          "name": "stdout",
          "text": [
            "Ridge Poly R-Square Train:  0.9078542612449654\n",
            "Ridge Poly R-Square Validation:  -7.316803077770892\n",
            "==================================================\n",
            "Ridge Poly MAE Train:  0.5840463707794139\n",
            "Ridge Poly MAE Validation:  4.4190359982873\n",
            "==================================================\n"
          ]
        }
      ]
    },
    {
      "cell_type": "markdown",
      "source": [
        "####Lasso"
      ],
      "metadata": {
        "id": "iQd28JRnlsi3"
      }
    },
    {
      "cell_type": "code",
      "source": [
        "lasso_reg = Lasso()\n",
        "lasso_reg.fit(X_train_std, y_train)"
      ],
      "metadata": {
        "id": "9uCHZPq3lu8_",
        "colab": {
          "base_uri": "https://localhost:8080/",
          "height": 75
        },
        "outputId": "879187a2-b233-41c5-bc25-3a1f179acc60"
      },
      "execution_count": null,
      "outputs": [
        {
          "output_type": "execute_result",
          "data": {
            "text/plain": [
              "Lasso()"
            ],
            "text/html": [
              "<style>#sk-container-id-5 {color: black;background-color: white;}#sk-container-id-5 pre{padding: 0;}#sk-container-id-5 div.sk-toggleable {background-color: white;}#sk-container-id-5 label.sk-toggleable__label {cursor: pointer;display: block;width: 100%;margin-bottom: 0;padding: 0.3em;box-sizing: border-box;text-align: center;}#sk-container-id-5 label.sk-toggleable__label-arrow:before {content: \"▸\";float: left;margin-right: 0.25em;color: #696969;}#sk-container-id-5 label.sk-toggleable__label-arrow:hover:before {color: black;}#sk-container-id-5 div.sk-estimator:hover label.sk-toggleable__label-arrow:before {color: black;}#sk-container-id-5 div.sk-toggleable__content {max-height: 0;max-width: 0;overflow: hidden;text-align: left;background-color: #f0f8ff;}#sk-container-id-5 div.sk-toggleable__content pre {margin: 0.2em;color: black;border-radius: 0.25em;background-color: #f0f8ff;}#sk-container-id-5 input.sk-toggleable__control:checked~div.sk-toggleable__content {max-height: 200px;max-width: 100%;overflow: auto;}#sk-container-id-5 input.sk-toggleable__control:checked~label.sk-toggleable__label-arrow:before {content: \"▾\";}#sk-container-id-5 div.sk-estimator input.sk-toggleable__control:checked~label.sk-toggleable__label {background-color: #d4ebff;}#sk-container-id-5 div.sk-label input.sk-toggleable__control:checked~label.sk-toggleable__label {background-color: #d4ebff;}#sk-container-id-5 input.sk-hidden--visually {border: 0;clip: rect(1px 1px 1px 1px);clip: rect(1px, 1px, 1px, 1px);height: 1px;margin: -1px;overflow: hidden;padding: 0;position: absolute;width: 1px;}#sk-container-id-5 div.sk-estimator {font-family: monospace;background-color: #f0f8ff;border: 1px dotted black;border-radius: 0.25em;box-sizing: border-box;margin-bottom: 0.5em;}#sk-container-id-5 div.sk-estimator:hover {background-color: #d4ebff;}#sk-container-id-5 div.sk-parallel-item::after {content: \"\";width: 100%;border-bottom: 1px solid gray;flex-grow: 1;}#sk-container-id-5 div.sk-label:hover label.sk-toggleable__label {background-color: #d4ebff;}#sk-container-id-5 div.sk-serial::before {content: \"\";position: absolute;border-left: 1px solid gray;box-sizing: border-box;top: 0;bottom: 0;left: 50%;z-index: 0;}#sk-container-id-5 div.sk-serial {display: flex;flex-direction: column;align-items: center;background-color: white;padding-right: 0.2em;padding-left: 0.2em;position: relative;}#sk-container-id-5 div.sk-item {position: relative;z-index: 1;}#sk-container-id-5 div.sk-parallel {display: flex;align-items: stretch;justify-content: center;background-color: white;position: relative;}#sk-container-id-5 div.sk-item::before, #sk-container-id-5 div.sk-parallel-item::before {content: \"\";position: absolute;border-left: 1px solid gray;box-sizing: border-box;top: 0;bottom: 0;left: 50%;z-index: -1;}#sk-container-id-5 div.sk-parallel-item {display: flex;flex-direction: column;z-index: 1;position: relative;background-color: white;}#sk-container-id-5 div.sk-parallel-item:first-child::after {align-self: flex-end;width: 50%;}#sk-container-id-5 div.sk-parallel-item:last-child::after {align-self: flex-start;width: 50%;}#sk-container-id-5 div.sk-parallel-item:only-child::after {width: 0;}#sk-container-id-5 div.sk-dashed-wrapped {border: 1px dashed gray;margin: 0 0.4em 0.5em 0.4em;box-sizing: border-box;padding-bottom: 0.4em;background-color: white;}#sk-container-id-5 div.sk-label label {font-family: monospace;font-weight: bold;display: inline-block;line-height: 1.2em;}#sk-container-id-5 div.sk-label-container {text-align: center;}#sk-container-id-5 div.sk-container {/* jupyter's `normalize.less` sets `[hidden] { display: none; }` but bootstrap.min.css set `[hidden] { display: none !important; }` so we also need the `!important` here to be able to override the default hidden behavior on the sphinx rendered scikit-learn.org. See: https://github.com/scikit-learn/scikit-learn/issues/21755 */display: inline-block !important;position: relative;}#sk-container-id-5 div.sk-text-repr-fallback {display: none;}</style><div id=\"sk-container-id-5\" class=\"sk-top-container\"><div class=\"sk-text-repr-fallback\"><pre>Lasso()</pre><b>In a Jupyter environment, please rerun this cell to show the HTML representation or trust the notebook. <br />On GitHub, the HTML representation is unable to render, please try loading this page with nbviewer.org.</b></div><div class=\"sk-container\" hidden><div class=\"sk-item\"><div class=\"sk-estimator sk-toggleable\"><input class=\"sk-toggleable__control sk-hidden--visually\" id=\"sk-estimator-id-5\" type=\"checkbox\" checked><label for=\"sk-estimator-id-5\" class=\"sk-toggleable__label sk-toggleable__label-arrow\">Lasso</label><div class=\"sk-toggleable__content\"><pre>Lasso()</pre></div></div></div></div></div>"
            ]
          },
          "metadata": {},
          "execution_count": 50
        }
      ]
    },
    {
      "cell_type": "code",
      "source": [
        "y_train_std_lasso_pred = lasso_reg.predict(X_train_std)\n",
        "y_val_std_lasso_pred = lasso_reg.predict(X_val_std)"
      ],
      "metadata": {
        "id": "r_pTmoWHl0wN"
      },
      "execution_count": null,
      "outputs": []
    },
    {
      "cell_type": "code",
      "source": [
        "print(\"Lasso std R-Square Train: \", r2_score(y_train, y_train_std_lasso_pred))\n",
        "print(\"Lasso std R-Square Validation: \",r2_score(y_val, y_val_std_lasso_pred))\n",
        "print(\"=\"*50)\n",
        "print(\"Lasso std MAE Train: \", mean_absolute_error(y_train, y_train_std_lasso_pred))\n",
        "print(\"Lasso std MAE Validation: \", mean_absolute_error(y_val, y_val_std_lasso_pred))\n",
        "print(\"=\"*50)"
      ],
      "metadata": {
        "colab": {
          "base_uri": "https://localhost:8080/"
        },
        "id": "_cpS6KGrl0tt",
        "outputId": "51bbb005-fdfa-46d8-e317-a2a4c8163494"
      },
      "execution_count": null,
      "outputs": [
        {
          "output_type": "stream",
          "name": "stdout",
          "text": [
            "Lasso std R-Square Train:  0.20841866310259438\n",
            "Lasso std R-Square Validation:  0.08433941836415304\n",
            "==================================================\n",
            "Lasso std MAE Train:  2.1073318027435324\n",
            "Lasso std MAE Validation:  1.9412363171959872\n",
            "==================================================\n"
          ]
        }
      ]
    },
    {
      "cell_type": "markdown",
      "source": [
        "#### Lasso Polynomial"
      ],
      "metadata": {
        "id": "1IuzSprJzO7w"
      }
    },
    {
      "cell_type": "code",
      "source": [
        "lasso_reg.fit(X_train_poly, y_train)"
      ],
      "metadata": {
        "colab": {
          "base_uri": "https://localhost:8080/",
          "height": 75
        },
        "id": "m0BstvwnzIdL",
        "outputId": "fd0728a5-1804-4df9-9aa3-a4cecdb93c62"
      },
      "execution_count": null,
      "outputs": [
        {
          "output_type": "execute_result",
          "data": {
            "text/plain": [
              "Lasso()"
            ],
            "text/html": [
              "<style>#sk-container-id-6 {color: black;background-color: white;}#sk-container-id-6 pre{padding: 0;}#sk-container-id-6 div.sk-toggleable {background-color: white;}#sk-container-id-6 label.sk-toggleable__label {cursor: pointer;display: block;width: 100%;margin-bottom: 0;padding: 0.3em;box-sizing: border-box;text-align: center;}#sk-container-id-6 label.sk-toggleable__label-arrow:before {content: \"▸\";float: left;margin-right: 0.25em;color: #696969;}#sk-container-id-6 label.sk-toggleable__label-arrow:hover:before {color: black;}#sk-container-id-6 div.sk-estimator:hover label.sk-toggleable__label-arrow:before {color: black;}#sk-container-id-6 div.sk-toggleable__content {max-height: 0;max-width: 0;overflow: hidden;text-align: left;background-color: #f0f8ff;}#sk-container-id-6 div.sk-toggleable__content pre {margin: 0.2em;color: black;border-radius: 0.25em;background-color: #f0f8ff;}#sk-container-id-6 input.sk-toggleable__control:checked~div.sk-toggleable__content {max-height: 200px;max-width: 100%;overflow: auto;}#sk-container-id-6 input.sk-toggleable__control:checked~label.sk-toggleable__label-arrow:before {content: \"▾\";}#sk-container-id-6 div.sk-estimator input.sk-toggleable__control:checked~label.sk-toggleable__label {background-color: #d4ebff;}#sk-container-id-6 div.sk-label input.sk-toggleable__control:checked~label.sk-toggleable__label {background-color: #d4ebff;}#sk-container-id-6 input.sk-hidden--visually {border: 0;clip: rect(1px 1px 1px 1px);clip: rect(1px, 1px, 1px, 1px);height: 1px;margin: -1px;overflow: hidden;padding: 0;position: absolute;width: 1px;}#sk-container-id-6 div.sk-estimator {font-family: monospace;background-color: #f0f8ff;border: 1px dotted black;border-radius: 0.25em;box-sizing: border-box;margin-bottom: 0.5em;}#sk-container-id-6 div.sk-estimator:hover {background-color: #d4ebff;}#sk-container-id-6 div.sk-parallel-item::after {content: \"\";width: 100%;border-bottom: 1px solid gray;flex-grow: 1;}#sk-container-id-6 div.sk-label:hover label.sk-toggleable__label {background-color: #d4ebff;}#sk-container-id-6 div.sk-serial::before {content: \"\";position: absolute;border-left: 1px solid gray;box-sizing: border-box;top: 0;bottom: 0;left: 50%;z-index: 0;}#sk-container-id-6 div.sk-serial {display: flex;flex-direction: column;align-items: center;background-color: white;padding-right: 0.2em;padding-left: 0.2em;position: relative;}#sk-container-id-6 div.sk-item {position: relative;z-index: 1;}#sk-container-id-6 div.sk-parallel {display: flex;align-items: stretch;justify-content: center;background-color: white;position: relative;}#sk-container-id-6 div.sk-item::before, #sk-container-id-6 div.sk-parallel-item::before {content: \"\";position: absolute;border-left: 1px solid gray;box-sizing: border-box;top: 0;bottom: 0;left: 50%;z-index: -1;}#sk-container-id-6 div.sk-parallel-item {display: flex;flex-direction: column;z-index: 1;position: relative;background-color: white;}#sk-container-id-6 div.sk-parallel-item:first-child::after {align-self: flex-end;width: 50%;}#sk-container-id-6 div.sk-parallel-item:last-child::after {align-self: flex-start;width: 50%;}#sk-container-id-6 div.sk-parallel-item:only-child::after {width: 0;}#sk-container-id-6 div.sk-dashed-wrapped {border: 1px dashed gray;margin: 0 0.4em 0.5em 0.4em;box-sizing: border-box;padding-bottom: 0.4em;background-color: white;}#sk-container-id-6 div.sk-label label {font-family: monospace;font-weight: bold;display: inline-block;line-height: 1.2em;}#sk-container-id-6 div.sk-label-container {text-align: center;}#sk-container-id-6 div.sk-container {/* jupyter's `normalize.less` sets `[hidden] { display: none; }` but bootstrap.min.css set `[hidden] { display: none !important; }` so we also need the `!important` here to be able to override the default hidden behavior on the sphinx rendered scikit-learn.org. See: https://github.com/scikit-learn/scikit-learn/issues/21755 */display: inline-block !important;position: relative;}#sk-container-id-6 div.sk-text-repr-fallback {display: none;}</style><div id=\"sk-container-id-6\" class=\"sk-top-container\"><div class=\"sk-text-repr-fallback\"><pre>Lasso()</pre><b>In a Jupyter environment, please rerun this cell to show the HTML representation or trust the notebook. <br />On GitHub, the HTML representation is unable to render, please try loading this page with nbviewer.org.</b></div><div class=\"sk-container\" hidden><div class=\"sk-item\"><div class=\"sk-estimator sk-toggleable\"><input class=\"sk-toggleable__control sk-hidden--visually\" id=\"sk-estimator-id-6\" type=\"checkbox\" checked><label for=\"sk-estimator-id-6\" class=\"sk-toggleable__label sk-toggleable__label-arrow\">Lasso</label><div class=\"sk-toggleable__content\"><pre>Lasso()</pre></div></div></div></div></div>"
            ]
          },
          "metadata": {},
          "execution_count": 53
        }
      ]
    },
    {
      "cell_type": "code",
      "source": [
        "y_train_poly_lasso_pred = lasso_reg.predict(X_train_poly)\n",
        "y_val_poly_lasso_pred = lasso_reg.predict(X_val_poly)"
      ],
      "metadata": {
        "id": "ulLlT4SpzIat"
      },
      "execution_count": null,
      "outputs": []
    },
    {
      "cell_type": "code",
      "source": [
        "print(\"Lasso poly R-Square Train: \", r2_score(y_train, y_train_poly_lasso_pred))\n",
        "print(\"Lasso poly R-Square Validation: \",r2_score(y_val, y_val_poly_lasso_pred))\n",
        "print(\"=\"*50)\n",
        "print(\"Lasso poly MAE Train: \", mean_absolute_error(y_train, y_train_poly_lasso_pred))\n",
        "print(\"Lasso poly MAE Validation: \", mean_absolute_error(y_val, y_val_poly_lasso_pred))\n",
        "print(\"=\"*50)"
      ],
      "metadata": {
        "colab": {
          "base_uri": "https://localhost:8080/"
        },
        "id": "Ilhezqh_zIYT",
        "outputId": "3d69d704-67c0-4cea-d868-a21db529b809"
      },
      "execution_count": null,
      "outputs": [
        {
          "output_type": "stream",
          "name": "stdout",
          "text": [
            "Lasso poly R-Square Train:  0.4256477477689252\n",
            "Lasso poly R-Square Validation:  0.3296252875421378\n",
            "==================================================\n",
            "Lasso poly MAE Train:  1.732931741281465\n",
            "Lasso poly MAE Validation:  1.6263622619805338\n",
            "==================================================\n"
          ]
        }
      ]
    },
    {
      "cell_type": "markdown",
      "source": [
        "####Elastic net"
      ],
      "metadata": {
        "id": "IpzeiIX8zsjw"
      }
    },
    {
      "cell_type": "code",
      "source": [
        "elasticnet_reg = ElasticNet()\n",
        "elasticnet_reg.fit(X_train_std, y_train)"
      ],
      "metadata": {
        "id": "I7TeTXGEzIOB",
        "colab": {
          "base_uri": "https://localhost:8080/",
          "height": 75
        },
        "outputId": "4c7c95da-d468-42aa-85d9-551a3f0145f9"
      },
      "execution_count": null,
      "outputs": [
        {
          "output_type": "execute_result",
          "data": {
            "text/plain": [
              "ElasticNet()"
            ],
            "text/html": [
              "<style>#sk-container-id-7 {color: black;background-color: white;}#sk-container-id-7 pre{padding: 0;}#sk-container-id-7 div.sk-toggleable {background-color: white;}#sk-container-id-7 label.sk-toggleable__label {cursor: pointer;display: block;width: 100%;margin-bottom: 0;padding: 0.3em;box-sizing: border-box;text-align: center;}#sk-container-id-7 label.sk-toggleable__label-arrow:before {content: \"▸\";float: left;margin-right: 0.25em;color: #696969;}#sk-container-id-7 label.sk-toggleable__label-arrow:hover:before {color: black;}#sk-container-id-7 div.sk-estimator:hover label.sk-toggleable__label-arrow:before {color: black;}#sk-container-id-7 div.sk-toggleable__content {max-height: 0;max-width: 0;overflow: hidden;text-align: left;background-color: #f0f8ff;}#sk-container-id-7 div.sk-toggleable__content pre {margin: 0.2em;color: black;border-radius: 0.25em;background-color: #f0f8ff;}#sk-container-id-7 input.sk-toggleable__control:checked~div.sk-toggleable__content {max-height: 200px;max-width: 100%;overflow: auto;}#sk-container-id-7 input.sk-toggleable__control:checked~label.sk-toggleable__label-arrow:before {content: \"▾\";}#sk-container-id-7 div.sk-estimator input.sk-toggleable__control:checked~label.sk-toggleable__label {background-color: #d4ebff;}#sk-container-id-7 div.sk-label input.sk-toggleable__control:checked~label.sk-toggleable__label {background-color: #d4ebff;}#sk-container-id-7 input.sk-hidden--visually {border: 0;clip: rect(1px 1px 1px 1px);clip: rect(1px, 1px, 1px, 1px);height: 1px;margin: -1px;overflow: hidden;padding: 0;position: absolute;width: 1px;}#sk-container-id-7 div.sk-estimator {font-family: monospace;background-color: #f0f8ff;border: 1px dotted black;border-radius: 0.25em;box-sizing: border-box;margin-bottom: 0.5em;}#sk-container-id-7 div.sk-estimator:hover {background-color: #d4ebff;}#sk-container-id-7 div.sk-parallel-item::after {content: \"\";width: 100%;border-bottom: 1px solid gray;flex-grow: 1;}#sk-container-id-7 div.sk-label:hover label.sk-toggleable__label {background-color: #d4ebff;}#sk-container-id-7 div.sk-serial::before {content: \"\";position: absolute;border-left: 1px solid gray;box-sizing: border-box;top: 0;bottom: 0;left: 50%;z-index: 0;}#sk-container-id-7 div.sk-serial {display: flex;flex-direction: column;align-items: center;background-color: white;padding-right: 0.2em;padding-left: 0.2em;position: relative;}#sk-container-id-7 div.sk-item {position: relative;z-index: 1;}#sk-container-id-7 div.sk-parallel {display: flex;align-items: stretch;justify-content: center;background-color: white;position: relative;}#sk-container-id-7 div.sk-item::before, #sk-container-id-7 div.sk-parallel-item::before {content: \"\";position: absolute;border-left: 1px solid gray;box-sizing: border-box;top: 0;bottom: 0;left: 50%;z-index: -1;}#sk-container-id-7 div.sk-parallel-item {display: flex;flex-direction: column;z-index: 1;position: relative;background-color: white;}#sk-container-id-7 div.sk-parallel-item:first-child::after {align-self: flex-end;width: 50%;}#sk-container-id-7 div.sk-parallel-item:last-child::after {align-self: flex-start;width: 50%;}#sk-container-id-7 div.sk-parallel-item:only-child::after {width: 0;}#sk-container-id-7 div.sk-dashed-wrapped {border: 1px dashed gray;margin: 0 0.4em 0.5em 0.4em;box-sizing: border-box;padding-bottom: 0.4em;background-color: white;}#sk-container-id-7 div.sk-label label {font-family: monospace;font-weight: bold;display: inline-block;line-height: 1.2em;}#sk-container-id-7 div.sk-label-container {text-align: center;}#sk-container-id-7 div.sk-container {/* jupyter's `normalize.less` sets `[hidden] { display: none; }` but bootstrap.min.css set `[hidden] { display: none !important; }` so we also need the `!important` here to be able to override the default hidden behavior on the sphinx rendered scikit-learn.org. See: https://github.com/scikit-learn/scikit-learn/issues/21755 */display: inline-block !important;position: relative;}#sk-container-id-7 div.sk-text-repr-fallback {display: none;}</style><div id=\"sk-container-id-7\" class=\"sk-top-container\"><div class=\"sk-text-repr-fallback\"><pre>ElasticNet()</pre><b>In a Jupyter environment, please rerun this cell to show the HTML representation or trust the notebook. <br />On GitHub, the HTML representation is unable to render, please try loading this page with nbviewer.org.</b></div><div class=\"sk-container\" hidden><div class=\"sk-item\"><div class=\"sk-estimator sk-toggleable\"><input class=\"sk-toggleable__control sk-hidden--visually\" id=\"sk-estimator-id-7\" type=\"checkbox\" checked><label for=\"sk-estimator-id-7\" class=\"sk-toggleable__label sk-toggleable__label-arrow\">ElasticNet</label><div class=\"sk-toggleable__content\"><pre>ElasticNet()</pre></div></div></div></div></div>"
            ]
          },
          "metadata": {},
          "execution_count": 56
        }
      ]
    },
    {
      "cell_type": "code",
      "source": [
        "y_train_std_elasticnet_pred = elasticnet_reg.predict(X_train_std)\n",
        "y_val_std_elasticnet_pred = elasticnet_reg.predict(X_val_std)"
      ],
      "metadata": {
        "id": "tiobAOjTzII4"
      },
      "execution_count": null,
      "outputs": []
    },
    {
      "cell_type": "code",
      "source": [
        "print(\"Elasticnet std R-Square Train: \", r2_score(y_train, y_train_std_elasticnet_pred))\n",
        "print(\"Elasticnet std R-Square Validation: \",r2_score(y_val, y_val_std_elasticnet_pred))\n",
        "print(\"=\"*50)\n",
        "print(\"Elasticnet std MAE Train: \", mean_absolute_error(y_train, y_train_std_elasticnet_pred))\n",
        "print(\"Elasticnet std MAE Validation: \", mean_absolute_error(y_val, y_val_std_elasticnet_pred))\n",
        "print(\"=\"*50)"
      ],
      "metadata": {
        "colab": {
          "base_uri": "https://localhost:8080/"
        },
        "id": "AjTzed-q1p8-",
        "outputId": "086139c3-f1f3-4cba-9f07-3db06c972dcf"
      },
      "execution_count": null,
      "outputs": [
        {
          "output_type": "stream",
          "name": "stdout",
          "text": [
            "Elasticnet std R-Square Train:  0.2999922544492427\n",
            "Elasticnet std R-Square Validation:  0.17624227401331272\n",
            "==================================================\n",
            "Elasticnet std MAE Train:  1.992367675540748\n",
            "Elasticnet std MAE Validation:  1.8506739431632457\n",
            "==================================================\n"
          ]
        }
      ]
    },
    {
      "cell_type": "markdown",
      "source": [
        "####Elasticnet Polynomial"
      ],
      "metadata": {
        "id": "7NT0I6844sYb"
      }
    },
    {
      "cell_type": "code",
      "source": [
        "elasticnet_reg.fit(X_train_poly, y_train)"
      ],
      "metadata": {
        "colab": {
          "base_uri": "https://localhost:8080/",
          "height": 75
        },
        "outputId": "a3ada046-91cf-4a1b-95d0-0d074a41d391",
        "id": "lBs0yd-56xVp"
      },
      "execution_count": null,
      "outputs": [
        {
          "output_type": "execute_result",
          "data": {
            "text/plain": [
              "ElasticNet()"
            ],
            "text/html": [
              "<style>#sk-container-id-8 {color: black;background-color: white;}#sk-container-id-8 pre{padding: 0;}#sk-container-id-8 div.sk-toggleable {background-color: white;}#sk-container-id-8 label.sk-toggleable__label {cursor: pointer;display: block;width: 100%;margin-bottom: 0;padding: 0.3em;box-sizing: border-box;text-align: center;}#sk-container-id-8 label.sk-toggleable__label-arrow:before {content: \"▸\";float: left;margin-right: 0.25em;color: #696969;}#sk-container-id-8 label.sk-toggleable__label-arrow:hover:before {color: black;}#sk-container-id-8 div.sk-estimator:hover label.sk-toggleable__label-arrow:before {color: black;}#sk-container-id-8 div.sk-toggleable__content {max-height: 0;max-width: 0;overflow: hidden;text-align: left;background-color: #f0f8ff;}#sk-container-id-8 div.sk-toggleable__content pre {margin: 0.2em;color: black;border-radius: 0.25em;background-color: #f0f8ff;}#sk-container-id-8 input.sk-toggleable__control:checked~div.sk-toggleable__content {max-height: 200px;max-width: 100%;overflow: auto;}#sk-container-id-8 input.sk-toggleable__control:checked~label.sk-toggleable__label-arrow:before {content: \"▾\";}#sk-container-id-8 div.sk-estimator input.sk-toggleable__control:checked~label.sk-toggleable__label {background-color: #d4ebff;}#sk-container-id-8 div.sk-label input.sk-toggleable__control:checked~label.sk-toggleable__label {background-color: #d4ebff;}#sk-container-id-8 input.sk-hidden--visually {border: 0;clip: rect(1px 1px 1px 1px);clip: rect(1px, 1px, 1px, 1px);height: 1px;margin: -1px;overflow: hidden;padding: 0;position: absolute;width: 1px;}#sk-container-id-8 div.sk-estimator {font-family: monospace;background-color: #f0f8ff;border: 1px dotted black;border-radius: 0.25em;box-sizing: border-box;margin-bottom: 0.5em;}#sk-container-id-8 div.sk-estimator:hover {background-color: #d4ebff;}#sk-container-id-8 div.sk-parallel-item::after {content: \"\";width: 100%;border-bottom: 1px solid gray;flex-grow: 1;}#sk-container-id-8 div.sk-label:hover label.sk-toggleable__label {background-color: #d4ebff;}#sk-container-id-8 div.sk-serial::before {content: \"\";position: absolute;border-left: 1px solid gray;box-sizing: border-box;top: 0;bottom: 0;left: 50%;z-index: 0;}#sk-container-id-8 div.sk-serial {display: flex;flex-direction: column;align-items: center;background-color: white;padding-right: 0.2em;padding-left: 0.2em;position: relative;}#sk-container-id-8 div.sk-item {position: relative;z-index: 1;}#sk-container-id-8 div.sk-parallel {display: flex;align-items: stretch;justify-content: center;background-color: white;position: relative;}#sk-container-id-8 div.sk-item::before, #sk-container-id-8 div.sk-parallel-item::before {content: \"\";position: absolute;border-left: 1px solid gray;box-sizing: border-box;top: 0;bottom: 0;left: 50%;z-index: -1;}#sk-container-id-8 div.sk-parallel-item {display: flex;flex-direction: column;z-index: 1;position: relative;background-color: white;}#sk-container-id-8 div.sk-parallel-item:first-child::after {align-self: flex-end;width: 50%;}#sk-container-id-8 div.sk-parallel-item:last-child::after {align-self: flex-start;width: 50%;}#sk-container-id-8 div.sk-parallel-item:only-child::after {width: 0;}#sk-container-id-8 div.sk-dashed-wrapped {border: 1px dashed gray;margin: 0 0.4em 0.5em 0.4em;box-sizing: border-box;padding-bottom: 0.4em;background-color: white;}#sk-container-id-8 div.sk-label label {font-family: monospace;font-weight: bold;display: inline-block;line-height: 1.2em;}#sk-container-id-8 div.sk-label-container {text-align: center;}#sk-container-id-8 div.sk-container {/* jupyter's `normalize.less` sets `[hidden] { display: none; }` but bootstrap.min.css set `[hidden] { display: none !important; }` so we also need the `!important` here to be able to override the default hidden behavior on the sphinx rendered scikit-learn.org. See: https://github.com/scikit-learn/scikit-learn/issues/21755 */display: inline-block !important;position: relative;}#sk-container-id-8 div.sk-text-repr-fallback {display: none;}</style><div id=\"sk-container-id-8\" class=\"sk-top-container\"><div class=\"sk-text-repr-fallback\"><pre>ElasticNet()</pre><b>In a Jupyter environment, please rerun this cell to show the HTML representation or trust the notebook. <br />On GitHub, the HTML representation is unable to render, please try loading this page with nbviewer.org.</b></div><div class=\"sk-container\" hidden><div class=\"sk-item\"><div class=\"sk-estimator sk-toggleable\"><input class=\"sk-toggleable__control sk-hidden--visually\" id=\"sk-estimator-id-8\" type=\"checkbox\" checked><label for=\"sk-estimator-id-8\" class=\"sk-toggleable__label sk-toggleable__label-arrow\">ElasticNet</label><div class=\"sk-toggleable__content\"><pre>ElasticNet()</pre></div></div></div></div></div>"
            ]
          },
          "metadata": {},
          "execution_count": 59
        }
      ]
    },
    {
      "cell_type": "code",
      "source": [
        "y_train_poly_elasticnet_pred = elasticnet_reg.predict(X_train_poly)\n",
        "y_val_poly_elasticnet_pred = elasticnet_reg.predict(X_val_poly)"
      ],
      "metadata": {
        "id": "17npIGSf6xVp"
      },
      "execution_count": null,
      "outputs": []
    },
    {
      "cell_type": "code",
      "source": [
        "print(\"Elasticnet poly R-Square Train: \", r2_score(y_train, y_train_poly_elasticnet_pred))\n",
        "print(\"Elasticnet poly R-Square Validation: \",r2_score(y_val, y_val_poly_elasticnet_pred))\n",
        "print(\"=\"*50)\n",
        "print(\"Elasticnet poly MAE Train: \", mean_absolute_error(y_train, y_train_poly_elasticnet_pred))\n",
        "print(\"Elasticnet poly MAE Validation: \", mean_absolute_error(y_val, y_val_poly_elasticnet_pred))\n",
        "print(\"=\"*50)"
      ],
      "metadata": {
        "colab": {
          "base_uri": "https://localhost:8080/"
        },
        "outputId": "8ec1adaf-1338-4a16-dc35-e2f1c73f9746",
        "id": "a2axqGGm6xVp"
      },
      "execution_count": null,
      "outputs": [
        {
          "output_type": "stream",
          "name": "stdout",
          "text": [
            "Elasticnet poly R-Square Train:  0.4828681355285428\n",
            "Elasticnet poly R-Square Validation:  0.3160856008511276\n",
            "==================================================\n",
            "Elasticnet poly MAE Train:  1.6445329240927602\n",
            "Elasticnet poly MAE Validation:  1.6556851475872663\n",
            "==================================================\n"
          ]
        }
      ]
    },
    {
      "cell_type": "markdown",
      "source": [
        "#### Conclusion Linear Regression"
      ],
      "metadata": {
        "id": "S8MrqeDAbYXI"
      }
    },
    {
      "cell_type": "code",
      "source": [
        "print(\"Ridge std R-Square Train: \", r2_score(y_train, y_train_std_ridge_pred))\n",
        "print(\"Ridge std R-Square Validation: \",r2_score(y_val, y_val_std_ridge_pred))\n",
        "print(\"=\"*50)\n",
        "print(\"Ridge std MAE Train: \", mean_absolute_error(y_train, y_train_std_ridge_pred))\n",
        "print(\"Ridge std MAE Validation: \", mean_absolute_error(y_val, y_val_std_ridge_pred))\n",
        "print(\"=\"*50)\n",
        "\n",
        "print(\"Ridge Poly R-Square Train: \", r2_score(y_train, y_train_poly_ridge_pred))\n",
        "print(\"Ridge Poly R-Square Validation: \",r2_score(y_val, y_val_poly_ridge_pred))\n",
        "print(\"=\"*50)\n",
        "print(\"Ridge Poly MAE Train: \", mean_absolute_error(y_train, y_train_poly_ridge_pred))\n",
        "print(\"Ridge Poly MAE Validation: \", mean_absolute_error(y_val, y_val_poly_ridge_pred))\n",
        "print(\"=\"*50)\n",
        "\n",
        "print(\"Lasso std R-Square Train: \", r2_score(y_train, y_train_std_lasso_pred))\n",
        "print(\"Lasso std R-Square Validation: \",r2_score(y_val, y_val_std_lasso_pred))\n",
        "print(\"=\"*50)\n",
        "print(\"Lasso std MAE Train: \", mean_absolute_error(y_train, y_train_std_lasso_pred))\n",
        "print(\"Lasso std MAE Validation: \", mean_absolute_error(y_val, y_val_std_lasso_pred))\n",
        "print(\"=\"*50)\n",
        "\n",
        "print(\"Lasso poly R-Square Train: \", r2_score(y_train, y_train_poly_lasso_pred))\n",
        "print(\"Lasso poly R-Square Validation: \",r2_score(y_val, y_val_poly_lasso_pred))\n",
        "print(\"=\"*50)\n",
        "print(\"Lasso poly MAE Train: \", mean_absolute_error(y_train, y_train_poly_lasso_pred))\n",
        "print(\"Lasso poly MAE Validation: \", mean_absolute_error(y_val, y_val_poly_lasso_pred))\n",
        "print(\"=\"*50)\n",
        "\n",
        "print(\"Elasticnet std R-Square Train: \", r2_score(y_train, y_train_std_elasticnet_pred))\n",
        "print(\"Elasticnet std R-Square Validation: \",r2_score(y_val, y_val_std_elasticnet_pred))\n",
        "print(\"=\"*50)\n",
        "print(\"Elasticnet std MAE Train: \", mean_absolute_error(y_train, y_train_std_elasticnet_pred))\n",
        "print(\"Elasticnet std MAE Validation: \", mean_absolute_error(y_val, y_val_std_elasticnet_pred))\n",
        "print(\"=\"*50)\n",
        "\n",
        "print(\"Elasticnet poly R-Square Train: \", r2_score(y_train, y_train_poly_elasticnet_pred))\n",
        "print(\"Elasticnet poly R-Square Validation: \",r2_score(y_val, y_val_poly_elasticnet_pred))\n",
        "print(\"=\"*50)\n",
        "print(\"Elasticnet poly MAE Train: \", mean_absolute_error(y_train, y_train_poly_elasticnet_pred))\n",
        "print(\"Elasticnet poly MAE Validation: \", mean_absolute_error(y_val, y_val_poly_elasticnet_pred))\n",
        "print(\"=\"*50)"
      ],
      "metadata": {
        "colab": {
          "base_uri": "https://localhost:8080/"
        },
        "id": "xSn-aCXdbd0f",
        "outputId": "e72e4cd6-b64e-461f-dc5c-0972ccd3f917"
      },
      "execution_count": null,
      "outputs": [
        {
          "output_type": "stream",
          "name": "stdout",
          "text": [
            "Ridge std R-Square Train:  0.47956861657832595\n",
            "Ridge std R-Square Validation:  0.20536470696683928\n",
            "==================================================\n",
            "Ridge std MAE Train:  1.6582557667918163\n",
            "Ridge std MAE Validation:  1.8424508503585835\n",
            "==================================================\n",
            "Ridge Poly R-Square Train:  0.9078542612449654\n",
            "Ridge Poly R-Square Validation:  -7.316803077770892\n",
            "==================================================\n",
            "Ridge Poly MAE Train:  0.5840463707794139\n",
            "Ridge Poly MAE Validation:  4.4190359982873\n",
            "==================================================\n",
            "Lasso std R-Square Train:  0.20841866310259438\n",
            "Lasso std R-Square Validation:  0.08433941836415304\n",
            "==================================================\n",
            "Lasso std MAE Train:  2.1073318027435324\n",
            "Lasso std MAE Validation:  1.9412363171959872\n",
            "==================================================\n",
            "Lasso poly R-Square Train:  0.4256477477689252\n",
            "Lasso poly R-Square Validation:  0.3296252875421378\n",
            "==================================================\n",
            "Lasso poly MAE Train:  1.732931741281465\n",
            "Lasso poly MAE Validation:  1.6263622619805338\n",
            "==================================================\n",
            "Elasticnet std R-Square Train:  0.2999922544492427\n",
            "Elasticnet std R-Square Validation:  0.17624227401331272\n",
            "==================================================\n",
            "Elasticnet std MAE Train:  1.992367675540748\n",
            "Elasticnet std MAE Validation:  1.8506739431632457\n",
            "==================================================\n",
            "Elasticnet poly R-Square Train:  0.4828681355285428\n",
            "Elasticnet poly R-Square Validation:  0.3160856008511276\n",
            "==================================================\n",
            "Elasticnet poly MAE Train:  1.6445329240927602\n",
            "Elasticnet poly MAE Validation:  1.6556851475872663\n",
            "==================================================\n"
          ]
        }
      ]
    },
    {
      "cell_type": "markdown",
      "source": [
        "\n",
        "| Model                     | R-Square Train | R-Square Validation | MAE Train | MAE Validation |\n",
        "|---------------------------|----------------|---------------------|-----------|----------------|\n",
        "| Lasso poly                |   0.425648     |      0.329625       |  1.732932 |     1.626362   |\n",
        "| Elasticnet poly           |   0.482868     |      0.316086       |  1.644533 |     1.655685   |\n",
        "| Ridge std                 |   0.479569     |      0.205365       |  1.658256 |     1.842451   |\n",
        "| Elasticnet std            |   0.299992     |      0.176242       |  1.992368 |     1.850674   |\n",
        "| Lasso std                 |   0.208419     |      0.084339       |  2.107332 |     1.941236   |\n",
        "| Ridge Poly                |   0.907854     |     -7.316803       |  0.584046 |     4.419036   |\n",
        "\n",
        "The Lasso poly model is correctly placed at the top with the highest R-Square Validation of 0.329625."
      ],
      "metadata": {
        "id": "J-dZ1YXZzpha"
      }
    },
    {
      "cell_type": "markdown",
      "source": [
        "###Alpha effects"
      ],
      "metadata": {
        "id": "YTvfyX8S7Tm6"
      }
    },
    {
      "cell_type": "markdown",
      "source": [
        "####Grid Search"
      ],
      "metadata": {
        "id": "wRLLq4vo-ubx"
      }
    },
    {
      "cell_type": "markdown",
      "source": [
        "ความเข้มข้นของ บาเรีย (เลขตัวคูณหน้า ริช แลซโซ อีลาสติก)\n",
        "ปกติค่า default จะเป็น 1 เมื่อทำ grid serch จะเป็นการหาตัวคูณ weight บาเรีย ว่าบาเรียเข้มข้นระดับไหน model ถึงจะมี eror น้อยสุด"
      ],
      "metadata": {
        "id": "4owZw9GM-ubx"
      }
    },
    {
      "cell_type": "code",
      "source": [
        "import sklearn\n",
        "from sklearn.model_selection import GridSearchCV"
      ],
      "metadata": {
        "id": "KXBCVL4eGSni"
      },
      "execution_count": null,
      "outputs": []
    },
    {
      "cell_type": "code",
      "source": [
        "sklearn.metrics.SCORERS.keys()"
      ],
      "metadata": {
        "colab": {
          "base_uri": "https://localhost:8080/"
        },
        "id": "8CVPMm9qIB2u",
        "outputId": "f63ea8fd-a44b-44c1-a488-0d3d6be4f122"
      },
      "execution_count": null,
      "outputs": [
        {
          "output_type": "execute_result",
          "data": {
            "text/plain": [
              "dict_keys(['explained_variance', 'r2', 'max_error', 'matthews_corrcoef', 'neg_median_absolute_error', 'neg_mean_absolute_error', 'neg_mean_absolute_percentage_error', 'neg_mean_squared_error', 'neg_mean_squared_log_error', 'neg_root_mean_squared_error', 'neg_mean_poisson_deviance', 'neg_mean_gamma_deviance', 'accuracy', 'top_k_accuracy', 'roc_auc', 'roc_auc_ovr', 'roc_auc_ovo', 'roc_auc_ovr_weighted', 'roc_auc_ovo_weighted', 'balanced_accuracy', 'average_precision', 'neg_log_loss', 'neg_brier_score', 'positive_likelihood_ratio', 'neg_negative_likelihood_ratio', 'adjusted_rand_score', 'rand_score', 'homogeneity_score', 'completeness_score', 'v_measure_score', 'mutual_info_score', 'adjusted_mutual_info_score', 'normalized_mutual_info_score', 'fowlkes_mallows_score', 'precision', 'precision_macro', 'precision_micro', 'precision_samples', 'precision_weighted', 'recall', 'recall_macro', 'recall_micro', 'recall_samples', 'recall_weighted', 'f1', 'f1_macro', 'f1_micro', 'f1_samples', 'f1_weighted', 'jaccard', 'jaccard_macro', 'jaccard_micro', 'jaccard_samples', 'jaccard_weighted'])"
            ]
          },
          "metadata": {},
          "execution_count": 64
        }
      ]
    },
    {
      "cell_type": "code",
      "source": [
        "param_grid = {'alpha':[0.0005, 0.0006, 0.06, 0.5, 0.0001, 0.01, 1, 2, 3, 4, 5, 10, 20, 30, 40]}"
      ],
      "metadata": {
        "id": "HNvnRf31GLhK"
      },
      "execution_count": null,
      "outputs": []
    },
    {
      "cell_type": "code",
      "source": [
        "gs_lasso_reg = Lasso(random_state=2022)"
      ],
      "metadata": {
        "id": "pOEVYjDjGLfE"
      },
      "execution_count": null,
      "outputs": []
    },
    {
      "cell_type": "code",
      "source": [
        "grid = GridSearchCV(estimator=gs_lasso_reg, param_grid=param_grid, scoring=\"neg_mean_squared_error\", n_jobs=-1)\n",
        "grid.fit(X_train_poly, y_train)\n",
        "print(grid)"
      ],
      "metadata": {
        "colab": {
          "base_uri": "https://localhost:8080/"
        },
        "id": "Y6TeuxtlGLdE",
        "outputId": "0bdb3b4e-b940-4c6c-edcb-af4c988ba47a"
      },
      "execution_count": null,
      "outputs": [
        {
          "output_type": "stream",
          "name": "stdout",
          "text": [
            "GridSearchCV(estimator=Lasso(random_state=2022), n_jobs=-1,\n",
            "             param_grid={'alpha': [0.0005, 0.0006, 0.06, 0.5, 0.0001, 0.01, 1,\n",
            "                                   2, 3, 4, 5, 10, 20, 30, 40]},\n",
            "             scoring='neg_mean_squared_error')\n"
          ]
        }
      ]
    },
    {
      "cell_type": "code",
      "source": [
        "print(grid.best_score_)\n",
        "print(grid.best_estimator_.alpha)"
      ],
      "metadata": {
        "colab": {
          "base_uri": "https://localhost:8080/"
        },
        "id": "R3ouUkRYGLa6",
        "outputId": "e0c88a0e-00a5-461e-f0bb-88134751393a"
      },
      "execution_count": null,
      "outputs": [
        {
          "output_type": "stream",
          "name": "stdout",
          "text": [
            "-8.774152241328794\n",
            "5\n"
          ]
        }
      ]
    },
    {
      "cell_type": "code",
      "source": [
        "opt_lasso_reg = Lasso(alpha=5,random_state=2022)"
      ],
      "metadata": {
        "id": "scUEIgBkJGjj"
      },
      "execution_count": null,
      "outputs": []
    },
    {
      "cell_type": "code",
      "source": [
        "opt_lasso_reg.fit(X_train_poly, y_train)"
      ],
      "metadata": {
        "colab": {
          "base_uri": "https://localhost:8080/",
          "height": 75
        },
        "id": "oCW-COHYGLYy",
        "outputId": "95b5ed1f-a85d-4a53-ddf3-8fc2e04b54bc"
      },
      "execution_count": null,
      "outputs": [
        {
          "output_type": "execute_result",
          "data": {
            "text/plain": [
              "Lasso(alpha=5, random_state=2022)"
            ],
            "text/html": [
              "<style>#sk-container-id-9 {color: black;background-color: white;}#sk-container-id-9 pre{padding: 0;}#sk-container-id-9 div.sk-toggleable {background-color: white;}#sk-container-id-9 label.sk-toggleable__label {cursor: pointer;display: block;width: 100%;margin-bottom: 0;padding: 0.3em;box-sizing: border-box;text-align: center;}#sk-container-id-9 label.sk-toggleable__label-arrow:before {content: \"▸\";float: left;margin-right: 0.25em;color: #696969;}#sk-container-id-9 label.sk-toggleable__label-arrow:hover:before {color: black;}#sk-container-id-9 div.sk-estimator:hover label.sk-toggleable__label-arrow:before {color: black;}#sk-container-id-9 div.sk-toggleable__content {max-height: 0;max-width: 0;overflow: hidden;text-align: left;background-color: #f0f8ff;}#sk-container-id-9 div.sk-toggleable__content pre {margin: 0.2em;color: black;border-radius: 0.25em;background-color: #f0f8ff;}#sk-container-id-9 input.sk-toggleable__control:checked~div.sk-toggleable__content {max-height: 200px;max-width: 100%;overflow: auto;}#sk-container-id-9 input.sk-toggleable__control:checked~label.sk-toggleable__label-arrow:before {content: \"▾\";}#sk-container-id-9 div.sk-estimator input.sk-toggleable__control:checked~label.sk-toggleable__label {background-color: #d4ebff;}#sk-container-id-9 div.sk-label input.sk-toggleable__control:checked~label.sk-toggleable__label {background-color: #d4ebff;}#sk-container-id-9 input.sk-hidden--visually {border: 0;clip: rect(1px 1px 1px 1px);clip: rect(1px, 1px, 1px, 1px);height: 1px;margin: -1px;overflow: hidden;padding: 0;position: absolute;width: 1px;}#sk-container-id-9 div.sk-estimator {font-family: monospace;background-color: #f0f8ff;border: 1px dotted black;border-radius: 0.25em;box-sizing: border-box;margin-bottom: 0.5em;}#sk-container-id-9 div.sk-estimator:hover {background-color: #d4ebff;}#sk-container-id-9 div.sk-parallel-item::after {content: \"\";width: 100%;border-bottom: 1px solid gray;flex-grow: 1;}#sk-container-id-9 div.sk-label:hover label.sk-toggleable__label {background-color: #d4ebff;}#sk-container-id-9 div.sk-serial::before {content: \"\";position: absolute;border-left: 1px solid gray;box-sizing: border-box;top: 0;bottom: 0;left: 50%;z-index: 0;}#sk-container-id-9 div.sk-serial {display: flex;flex-direction: column;align-items: center;background-color: white;padding-right: 0.2em;padding-left: 0.2em;position: relative;}#sk-container-id-9 div.sk-item {position: relative;z-index: 1;}#sk-container-id-9 div.sk-parallel {display: flex;align-items: stretch;justify-content: center;background-color: white;position: relative;}#sk-container-id-9 div.sk-item::before, #sk-container-id-9 div.sk-parallel-item::before {content: \"\";position: absolute;border-left: 1px solid gray;box-sizing: border-box;top: 0;bottom: 0;left: 50%;z-index: -1;}#sk-container-id-9 div.sk-parallel-item {display: flex;flex-direction: column;z-index: 1;position: relative;background-color: white;}#sk-container-id-9 div.sk-parallel-item:first-child::after {align-self: flex-end;width: 50%;}#sk-container-id-9 div.sk-parallel-item:last-child::after {align-self: flex-start;width: 50%;}#sk-container-id-9 div.sk-parallel-item:only-child::after {width: 0;}#sk-container-id-9 div.sk-dashed-wrapped {border: 1px dashed gray;margin: 0 0.4em 0.5em 0.4em;box-sizing: border-box;padding-bottom: 0.4em;background-color: white;}#sk-container-id-9 div.sk-label label {font-family: monospace;font-weight: bold;display: inline-block;line-height: 1.2em;}#sk-container-id-9 div.sk-label-container {text-align: center;}#sk-container-id-9 div.sk-container {/* jupyter's `normalize.less` sets `[hidden] { display: none; }` but bootstrap.min.css set `[hidden] { display: none !important; }` so we also need the `!important` here to be able to override the default hidden behavior on the sphinx rendered scikit-learn.org. See: https://github.com/scikit-learn/scikit-learn/issues/21755 */display: inline-block !important;position: relative;}#sk-container-id-9 div.sk-text-repr-fallback {display: none;}</style><div id=\"sk-container-id-9\" class=\"sk-top-container\"><div class=\"sk-text-repr-fallback\"><pre>Lasso(alpha=5, random_state=2022)</pre><b>In a Jupyter environment, please rerun this cell to show the HTML representation or trust the notebook. <br />On GitHub, the HTML representation is unable to render, please try loading this page with nbviewer.org.</b></div><div class=\"sk-container\" hidden><div class=\"sk-item\"><div class=\"sk-estimator sk-toggleable\"><input class=\"sk-toggleable__control sk-hidden--visually\" id=\"sk-estimator-id-9\" type=\"checkbox\" checked><label for=\"sk-estimator-id-9\" class=\"sk-toggleable__label sk-toggleable__label-arrow\">Lasso</label><div class=\"sk-toggleable__content\"><pre>Lasso(alpha=5, random_state=2022)</pre></div></div></div></div></div>"
            ]
          },
          "metadata": {},
          "execution_count": 71
        }
      ]
    },
    {
      "cell_type": "code",
      "source": [
        "y_train_poly_opt_lasso_pred = opt_lasso_reg.predict(X_train_poly)\n",
        "y_val_poly_opt_lasso_pred = opt_lasso_reg.predict(X_val_poly)"
      ],
      "metadata": {
        "id": "K9QkTbIGJWtu"
      },
      "execution_count": null,
      "outputs": []
    },
    {
      "cell_type": "code",
      "source": [
        "print(\"R-Square Train: \", r2_score(y_train, y_train_poly_opt_lasso_pred))\n",
        "print(\"R-Square Validation: \",r2_score(y_val, y_val_poly_opt_lasso_pred))\n",
        "print(\"=\"*50)\n",
        "print(\"MAE Train: \", mean_absolute_error(y_train, y_train_poly_opt_lasso_pred))\n",
        "print(\"MAE Validation: \", mean_absolute_error(y_val, y_val_poly_opt_lasso_pred))\n",
        "print(\"=\"*50)"
      ],
      "metadata": {
        "colab": {
          "base_uri": "https://localhost:8080/"
        },
        "id": "jsMra7gzJWrL",
        "outputId": "f5ad1ea7-5224-4efc-d819-f783e6504c4a"
      },
      "execution_count": null,
      "outputs": [
        {
          "output_type": "stream",
          "name": "stdout",
          "text": [
            "R-Square Train:  0.23180365358955035\n",
            "R-Square Validation:  0.09105194750166457\n",
            "==================================================\n",
            "MAE Train:  1.9722250989034216\n",
            "MAE Validation:  1.8961563460764912\n",
            "==================================================\n"
          ]
        }
      ]
    },
    {
      "cell_type": "markdown",
      "source": [
        "####Random Search"
      ],
      "metadata": {
        "id": "TgEfmQB8gmKB"
      }
    },
    {
      "cell_type": "code",
      "source": [
        "from sklearn.model_selection import RandomizedSearchCV\n",
        "from scipy.stats import uniform as sp_rand"
      ],
      "metadata": {
        "id": "mlYoUm5qFCaH"
      },
      "execution_count": null,
      "outputs": []
    },
    {
      "cell_type": "code",
      "source": [
        "param_grid = {'alpha': sp_rand()}"
      ],
      "metadata": {
        "id": "8hv2QVz8FCX-"
      },
      "execution_count": null,
      "outputs": []
    },
    {
      "cell_type": "code",
      "source": [
        "gs_lasso_reg = Lasso(random_state=2022)"
      ],
      "metadata": {
        "id": "OPsv3YmHFCV2"
      },
      "execution_count": null,
      "outputs": []
    },
    {
      "cell_type": "code",
      "source": [
        "rsearch = RandomizedSearchCV(estimator=gs_lasso_reg, param_distributions=param_grid, scoring=\"neg_mean_squared_error\", n_jobs=-1)"
      ],
      "metadata": {
        "id": "dN5jbD0PFCTy"
      },
      "execution_count": null,
      "outputs": []
    },
    {
      "cell_type": "code",
      "source": [
        "rsearch.fit(X_train_poly, y_train)"
      ],
      "metadata": {
        "colab": {
          "base_uri": "https://localhost:8080/",
          "height": 118
        },
        "id": "1AZgce6IFCRf",
        "outputId": "65364ce7-f482-40fe-cb36-d752ab285343"
      },
      "execution_count": null,
      "outputs": [
        {
          "output_type": "execute_result",
          "data": {
            "text/plain": [
              "RandomizedSearchCV(estimator=Lasso(random_state=2022), n_jobs=-1,\n",
              "                   param_distributions={'alpha': <scipy.stats._distn_infrastructure.rv_continuous_frozen object at 0x7f55e7a5ea70>},\n",
              "                   scoring='neg_mean_squared_error')"
            ],
            "text/html": [
              "<style>#sk-container-id-10 {color: black;background-color: white;}#sk-container-id-10 pre{padding: 0;}#sk-container-id-10 div.sk-toggleable {background-color: white;}#sk-container-id-10 label.sk-toggleable__label {cursor: pointer;display: block;width: 100%;margin-bottom: 0;padding: 0.3em;box-sizing: border-box;text-align: center;}#sk-container-id-10 label.sk-toggleable__label-arrow:before {content: \"▸\";float: left;margin-right: 0.25em;color: #696969;}#sk-container-id-10 label.sk-toggleable__label-arrow:hover:before {color: black;}#sk-container-id-10 div.sk-estimator:hover label.sk-toggleable__label-arrow:before {color: black;}#sk-container-id-10 div.sk-toggleable__content {max-height: 0;max-width: 0;overflow: hidden;text-align: left;background-color: #f0f8ff;}#sk-container-id-10 div.sk-toggleable__content pre {margin: 0.2em;color: black;border-radius: 0.25em;background-color: #f0f8ff;}#sk-container-id-10 input.sk-toggleable__control:checked~div.sk-toggleable__content {max-height: 200px;max-width: 100%;overflow: auto;}#sk-container-id-10 input.sk-toggleable__control:checked~label.sk-toggleable__label-arrow:before {content: \"▾\";}#sk-container-id-10 div.sk-estimator input.sk-toggleable__control:checked~label.sk-toggleable__label {background-color: #d4ebff;}#sk-container-id-10 div.sk-label input.sk-toggleable__control:checked~label.sk-toggleable__label {background-color: #d4ebff;}#sk-container-id-10 input.sk-hidden--visually {border: 0;clip: rect(1px 1px 1px 1px);clip: rect(1px, 1px, 1px, 1px);height: 1px;margin: -1px;overflow: hidden;padding: 0;position: absolute;width: 1px;}#sk-container-id-10 div.sk-estimator {font-family: monospace;background-color: #f0f8ff;border: 1px dotted black;border-radius: 0.25em;box-sizing: border-box;margin-bottom: 0.5em;}#sk-container-id-10 div.sk-estimator:hover {background-color: #d4ebff;}#sk-container-id-10 div.sk-parallel-item::after {content: \"\";width: 100%;border-bottom: 1px solid gray;flex-grow: 1;}#sk-container-id-10 div.sk-label:hover label.sk-toggleable__label {background-color: #d4ebff;}#sk-container-id-10 div.sk-serial::before {content: \"\";position: absolute;border-left: 1px solid gray;box-sizing: border-box;top: 0;bottom: 0;left: 50%;z-index: 0;}#sk-container-id-10 div.sk-serial {display: flex;flex-direction: column;align-items: center;background-color: white;padding-right: 0.2em;padding-left: 0.2em;position: relative;}#sk-container-id-10 div.sk-item {position: relative;z-index: 1;}#sk-container-id-10 div.sk-parallel {display: flex;align-items: stretch;justify-content: center;background-color: white;position: relative;}#sk-container-id-10 div.sk-item::before, #sk-container-id-10 div.sk-parallel-item::before {content: \"\";position: absolute;border-left: 1px solid gray;box-sizing: border-box;top: 0;bottom: 0;left: 50%;z-index: -1;}#sk-container-id-10 div.sk-parallel-item {display: flex;flex-direction: column;z-index: 1;position: relative;background-color: white;}#sk-container-id-10 div.sk-parallel-item:first-child::after {align-self: flex-end;width: 50%;}#sk-container-id-10 div.sk-parallel-item:last-child::after {align-self: flex-start;width: 50%;}#sk-container-id-10 div.sk-parallel-item:only-child::after {width: 0;}#sk-container-id-10 div.sk-dashed-wrapped {border: 1px dashed gray;margin: 0 0.4em 0.5em 0.4em;box-sizing: border-box;padding-bottom: 0.4em;background-color: white;}#sk-container-id-10 div.sk-label label {font-family: monospace;font-weight: bold;display: inline-block;line-height: 1.2em;}#sk-container-id-10 div.sk-label-container {text-align: center;}#sk-container-id-10 div.sk-container {/* jupyter's `normalize.less` sets `[hidden] { display: none; }` but bootstrap.min.css set `[hidden] { display: none !important; }` so we also need the `!important` here to be able to override the default hidden behavior on the sphinx rendered scikit-learn.org. See: https://github.com/scikit-learn/scikit-learn/issues/21755 */display: inline-block !important;position: relative;}#sk-container-id-10 div.sk-text-repr-fallback {display: none;}</style><div id=\"sk-container-id-10\" class=\"sk-top-container\"><div class=\"sk-text-repr-fallback\"><pre>RandomizedSearchCV(estimator=Lasso(random_state=2022), n_jobs=-1,\n",
              "                   param_distributions={&#x27;alpha&#x27;: &lt;scipy.stats._distn_infrastructure.rv_continuous_frozen object at 0x7f55e7a5ea70&gt;},\n",
              "                   scoring=&#x27;neg_mean_squared_error&#x27;)</pre><b>In a Jupyter environment, please rerun this cell to show the HTML representation or trust the notebook. <br />On GitHub, the HTML representation is unable to render, please try loading this page with nbviewer.org.</b></div><div class=\"sk-container\" hidden><div class=\"sk-item sk-dashed-wrapped\"><div class=\"sk-label-container\"><div class=\"sk-label sk-toggleable\"><input class=\"sk-toggleable__control sk-hidden--visually\" id=\"sk-estimator-id-10\" type=\"checkbox\" ><label for=\"sk-estimator-id-10\" class=\"sk-toggleable__label sk-toggleable__label-arrow\">RandomizedSearchCV</label><div class=\"sk-toggleable__content\"><pre>RandomizedSearchCV(estimator=Lasso(random_state=2022), n_jobs=-1,\n",
              "                   param_distributions={&#x27;alpha&#x27;: &lt;scipy.stats._distn_infrastructure.rv_continuous_frozen object at 0x7f55e7a5ea70&gt;},\n",
              "                   scoring=&#x27;neg_mean_squared_error&#x27;)</pre></div></div></div><div class=\"sk-parallel\"><div class=\"sk-parallel-item\"><div class=\"sk-item\"><div class=\"sk-label-container\"><div class=\"sk-label sk-toggleable\"><input class=\"sk-toggleable__control sk-hidden--visually\" id=\"sk-estimator-id-11\" type=\"checkbox\" ><label for=\"sk-estimator-id-11\" class=\"sk-toggleable__label sk-toggleable__label-arrow\">estimator: Lasso</label><div class=\"sk-toggleable__content\"><pre>Lasso(random_state=2022)</pre></div></div></div><div class=\"sk-serial\"><div class=\"sk-item\"><div class=\"sk-estimator sk-toggleable\"><input class=\"sk-toggleable__control sk-hidden--visually\" id=\"sk-estimator-id-12\" type=\"checkbox\" ><label for=\"sk-estimator-id-12\" class=\"sk-toggleable__label sk-toggleable__label-arrow\">Lasso</label><div class=\"sk-toggleable__content\"><pre>Lasso(random_state=2022)</pre></div></div></div></div></div></div></div></div></div></div>"
            ]
          },
          "metadata": {},
          "execution_count": 79
        }
      ]
    },
    {
      "cell_type": "code",
      "source": [
        "print(rsearch.best_score_)\n",
        "print(rsearch.best_estimator_.alpha)"
      ],
      "metadata": {
        "colab": {
          "base_uri": "https://localhost:8080/"
        },
        "id": "nxe-Tuj5DYVO",
        "outputId": "7a748477-27ca-4555-f5e3-efb8a11ad133"
      },
      "execution_count": null,
      "outputs": [
        {
          "output_type": "stream",
          "name": "stdout",
          "text": [
            "-9.271803450078627\n",
            "0.9284139067779377\n"
          ]
        }
      ]
    },
    {
      "cell_type": "code",
      "source": [
        "opt_lasso_reg = Lasso(alpha=0.9284139067779377, random_state=2022)"
      ],
      "metadata": {
        "id": "cYzK8PbIDYSw"
      },
      "execution_count": null,
      "outputs": []
    },
    {
      "cell_type": "code",
      "source": [
        "opt_lasso_reg.fit(X_train_poly, y_train)\n",
        "\n",
        "y_train_poly_opt_lasso_pred = opt_lasso_reg.predict(X_train_poly)\n",
        "y_val_poly_opt_lasso_pred = opt_lasso_reg.predict(X_val_poly)"
      ],
      "metadata": {
        "id": "C6EX45iXCHwS"
      },
      "execution_count": null,
      "outputs": []
    },
    {
      "cell_type": "code",
      "source": [
        "print(\"R-Square Train: \", r2_score(y_train, y_train_poly_opt_lasso_pred))\n",
        "print(\"R-Square Validation: \",r2_score(y_val, y_val_poly_opt_lasso_pred))\n",
        "print(\"=\"*50)\n",
        "print(\"MAE Train: \", mean_absolute_error(y_train, y_train_poly_opt_lasso_pred))\n",
        "print(\"MAE Validation: \", mean_absolute_error(y_val, y_val_poly_opt_lasso_pred))\n",
        "print(\"=\"*50)"
      ],
      "metadata": {
        "colab": {
          "base_uri": "https://localhost:8080/"
        },
        "id": "DtDe0sxgLvCh",
        "outputId": "d87eb1c4-376a-45d8-c743-0ccd4b60e4c3"
      },
      "execution_count": null,
      "outputs": [
        {
          "output_type": "stream",
          "name": "stdout",
          "text": [
            "R-Square Train:  0.43216827067983576\n",
            "R-Square Validation:  0.33320402971661167\n",
            "==================================================\n",
            "MAE Train:  1.7235538444701286\n",
            "MAE Validation:  1.620332073170938\n",
            "==================================================\n"
          ]
        }
      ]
    },
    {
      "cell_type": "markdown",
      "source": [
        "####Conclusion"
      ],
      "metadata": {
        "id": "ukazur2bhi0q"
      }
    },
    {
      "cell_type": "markdown",
      "source": [
        "จากการปรับค่า Alpha ของ Lasso with polynomial พบว่า การใช้ Random search จะได้ค่า alpha = 0.9284139067779377 พบว่าได้ค่าที่ดีขึ้นทั้งในส่วนของ R2 และ MAE\n",
        "*   Without Alpha effect\n",
        "1.   Lasso poly R-Square Train:         0.425\n",
        "2.   Lasso poly R-Square Validation:  0.329\n",
        "3.   Lasso poly MAE Train:               1.732\n",
        "4.   Lasso poly MAE Validation:        1.626\n",
        "*   With Alpha effect\n",
        "1.   Lasso poly R-Square Train:        0.432\n",
        "2.   Lasso poly R-Square Validation:   0.333\n",
        "3.   Lasso poly MAE Train:               1.723\n",
        "4.   Lasso poly MAE Validation:       1.620\n",
        "\n",
        "\n",
        "\n",
        "\n",
        "\n",
        "\n"
      ],
      "metadata": {
        "id": "Wx8O4HVDhmXZ"
      }
    },
    {
      "cell_type": "code",
      "source": [],
      "metadata": {
        "id": "OR3KBxrTi2Dy"
      },
      "execution_count": null,
      "outputs": []
    },
    {
      "cell_type": "markdown",
      "source": [
        "##Model 2 (Decison Tree Regressor)"
      ],
      "metadata": {
        "id": "P79ZxcFukzL7"
      }
    },
    {
      "cell_type": "code",
      "source": [
        "print(f\"X Train shape: {X_train.shape}\")\n",
        "print(f\"X Val shape: {X_val.shape}\")\n",
        "print(f\"Y Train shape: {y_train.shape}\")\n",
        "print(f\"Y Val shape: {y_val.shape}\")"
      ],
      "metadata": {
        "colab": {
          "base_uri": "https://localhost:8080/"
        },
        "id": "W7RTHcr9k0my",
        "outputId": "2c694221-3efa-4ee7-99cb-74b608397f19"
      },
      "execution_count": null,
      "outputs": [
        {
          "output_type": "stream",
          "name": "stdout",
          "text": [
            "X Train shape: (2211, 10)\n",
            "X Val shape: (553, 10)\n",
            "Y Train shape: (2211,)\n",
            "Y Val shape: (553,)\n"
          ]
        }
      ]
    },
    {
      "cell_type": "code",
      "execution_count": null,
      "metadata": {
        "id": "2LK3s1_7HlGy"
      },
      "outputs": [],
      "source": [
        "from sklearn.tree import DecisionTreeRegressor\n",
        "import sklearn\n",
        "from sklearn.metrics import *\n",
        "from sklearn.model_selection import GridSearchCV"
      ]
    },
    {
      "cell_type": "code",
      "execution_count": null,
      "metadata": {
        "id": "-xFMs_6hHlD8"
      },
      "outputs": [],
      "source": [
        "param_grid = {'max_depth': [5, 6, 7, 8, 9, 10, 11, 12]}"
      ]
    },
    {
      "cell_type": "code",
      "execution_count": null,
      "metadata": {
        "id": "Mf9LIHIvGDS-"
      },
      "outputs": [],
      "source": [
        "clf_tree = DecisionTreeRegressor(random_state=2022)"
      ]
    },
    {
      "cell_type": "code",
      "execution_count": null,
      "metadata": {
        "colab": {
          "base_uri": "https://localhost:8080/",
          "height": 118
        },
        "id": "VDqi03SeF6yH",
        "outputId": "e9ada622-cdb4-418e-f8d1-ed3c27509357"
      },
      "outputs": [
        {
          "output_type": "execute_result",
          "data": {
            "text/plain": [
              "GridSearchCV(estimator=DecisionTreeRegressor(random_state=2022), n_jobs=-1,\n",
              "             param_grid={'max_depth': [5, 6, 7, 8, 9, 10, 11, 12]},\n",
              "             scoring='neg_mean_squared_error')"
            ],
            "text/html": [
              "<style>#sk-container-id-11 {color: black;background-color: white;}#sk-container-id-11 pre{padding: 0;}#sk-container-id-11 div.sk-toggleable {background-color: white;}#sk-container-id-11 label.sk-toggleable__label {cursor: pointer;display: block;width: 100%;margin-bottom: 0;padding: 0.3em;box-sizing: border-box;text-align: center;}#sk-container-id-11 label.sk-toggleable__label-arrow:before {content: \"▸\";float: left;margin-right: 0.25em;color: #696969;}#sk-container-id-11 label.sk-toggleable__label-arrow:hover:before {color: black;}#sk-container-id-11 div.sk-estimator:hover label.sk-toggleable__label-arrow:before {color: black;}#sk-container-id-11 div.sk-toggleable__content {max-height: 0;max-width: 0;overflow: hidden;text-align: left;background-color: #f0f8ff;}#sk-container-id-11 div.sk-toggleable__content pre {margin: 0.2em;color: black;border-radius: 0.25em;background-color: #f0f8ff;}#sk-container-id-11 input.sk-toggleable__control:checked~div.sk-toggleable__content {max-height: 200px;max-width: 100%;overflow: auto;}#sk-container-id-11 input.sk-toggleable__control:checked~label.sk-toggleable__label-arrow:before {content: \"▾\";}#sk-container-id-11 div.sk-estimator input.sk-toggleable__control:checked~label.sk-toggleable__label {background-color: #d4ebff;}#sk-container-id-11 div.sk-label input.sk-toggleable__control:checked~label.sk-toggleable__label {background-color: #d4ebff;}#sk-container-id-11 input.sk-hidden--visually {border: 0;clip: rect(1px 1px 1px 1px);clip: rect(1px, 1px, 1px, 1px);height: 1px;margin: -1px;overflow: hidden;padding: 0;position: absolute;width: 1px;}#sk-container-id-11 div.sk-estimator {font-family: monospace;background-color: #f0f8ff;border: 1px dotted black;border-radius: 0.25em;box-sizing: border-box;margin-bottom: 0.5em;}#sk-container-id-11 div.sk-estimator:hover {background-color: #d4ebff;}#sk-container-id-11 div.sk-parallel-item::after {content: \"\";width: 100%;border-bottom: 1px solid gray;flex-grow: 1;}#sk-container-id-11 div.sk-label:hover label.sk-toggleable__label {background-color: #d4ebff;}#sk-container-id-11 div.sk-serial::before {content: \"\";position: absolute;border-left: 1px solid gray;box-sizing: border-box;top: 0;bottom: 0;left: 50%;z-index: 0;}#sk-container-id-11 div.sk-serial {display: flex;flex-direction: column;align-items: center;background-color: white;padding-right: 0.2em;padding-left: 0.2em;position: relative;}#sk-container-id-11 div.sk-item {position: relative;z-index: 1;}#sk-container-id-11 div.sk-parallel {display: flex;align-items: stretch;justify-content: center;background-color: white;position: relative;}#sk-container-id-11 div.sk-item::before, #sk-container-id-11 div.sk-parallel-item::before {content: \"\";position: absolute;border-left: 1px solid gray;box-sizing: border-box;top: 0;bottom: 0;left: 50%;z-index: -1;}#sk-container-id-11 div.sk-parallel-item {display: flex;flex-direction: column;z-index: 1;position: relative;background-color: white;}#sk-container-id-11 div.sk-parallel-item:first-child::after {align-self: flex-end;width: 50%;}#sk-container-id-11 div.sk-parallel-item:last-child::after {align-self: flex-start;width: 50%;}#sk-container-id-11 div.sk-parallel-item:only-child::after {width: 0;}#sk-container-id-11 div.sk-dashed-wrapped {border: 1px dashed gray;margin: 0 0.4em 0.5em 0.4em;box-sizing: border-box;padding-bottom: 0.4em;background-color: white;}#sk-container-id-11 div.sk-label label {font-family: monospace;font-weight: bold;display: inline-block;line-height: 1.2em;}#sk-container-id-11 div.sk-label-container {text-align: center;}#sk-container-id-11 div.sk-container {/* jupyter's `normalize.less` sets `[hidden] { display: none; }` but bootstrap.min.css set `[hidden] { display: none !important; }` so we also need the `!important` here to be able to override the default hidden behavior on the sphinx rendered scikit-learn.org. See: https://github.com/scikit-learn/scikit-learn/issues/21755 */display: inline-block !important;position: relative;}#sk-container-id-11 div.sk-text-repr-fallback {display: none;}</style><div id=\"sk-container-id-11\" class=\"sk-top-container\"><div class=\"sk-text-repr-fallback\"><pre>GridSearchCV(estimator=DecisionTreeRegressor(random_state=2022), n_jobs=-1,\n",
              "             param_grid={&#x27;max_depth&#x27;: [5, 6, 7, 8, 9, 10, 11, 12]},\n",
              "             scoring=&#x27;neg_mean_squared_error&#x27;)</pre><b>In a Jupyter environment, please rerun this cell to show the HTML representation or trust the notebook. <br />On GitHub, the HTML representation is unable to render, please try loading this page with nbviewer.org.</b></div><div class=\"sk-container\" hidden><div class=\"sk-item sk-dashed-wrapped\"><div class=\"sk-label-container\"><div class=\"sk-label sk-toggleable\"><input class=\"sk-toggleable__control sk-hidden--visually\" id=\"sk-estimator-id-13\" type=\"checkbox\" ><label for=\"sk-estimator-id-13\" class=\"sk-toggleable__label sk-toggleable__label-arrow\">GridSearchCV</label><div class=\"sk-toggleable__content\"><pre>GridSearchCV(estimator=DecisionTreeRegressor(random_state=2022), n_jobs=-1,\n",
              "             param_grid={&#x27;max_depth&#x27;: [5, 6, 7, 8, 9, 10, 11, 12]},\n",
              "             scoring=&#x27;neg_mean_squared_error&#x27;)</pre></div></div></div><div class=\"sk-parallel\"><div class=\"sk-parallel-item\"><div class=\"sk-item\"><div class=\"sk-label-container\"><div class=\"sk-label sk-toggleable\"><input class=\"sk-toggleable__control sk-hidden--visually\" id=\"sk-estimator-id-14\" type=\"checkbox\" ><label for=\"sk-estimator-id-14\" class=\"sk-toggleable__label sk-toggleable__label-arrow\">estimator: DecisionTreeRegressor</label><div class=\"sk-toggleable__content\"><pre>DecisionTreeRegressor(random_state=2022)</pre></div></div></div><div class=\"sk-serial\"><div class=\"sk-item\"><div class=\"sk-estimator sk-toggleable\"><input class=\"sk-toggleable__control sk-hidden--visually\" id=\"sk-estimator-id-15\" type=\"checkbox\" ><label for=\"sk-estimator-id-15\" class=\"sk-toggleable__label sk-toggleable__label-arrow\">DecisionTreeRegressor</label><div class=\"sk-toggleable__content\"><pre>DecisionTreeRegressor(random_state=2022)</pre></div></div></div></div></div></div></div></div></div></div>"
            ]
          },
          "metadata": {},
          "execution_count": 89
        }
      ],
      "source": [
        "grid = GridSearchCV(estimator=clf_tree,\n",
        "                    param_grid=param_grid,\n",
        "                    scoring=\"neg_mean_squared_error\",\n",
        "                    n_jobs=-1)\n",
        "\n",
        "grid.fit(X_train_std, y_train)"
      ]
    },
    {
      "cell_type": "code",
      "execution_count": null,
      "metadata": {
        "colab": {
          "base_uri": "https://localhost:8080/"
        },
        "id": "rdVEsTtyF6wG",
        "outputId": "f176fba2-aa24-470f-ff6f-889fce751f5d"
      },
      "outputs": [
        {
          "output_type": "stream",
          "name": "stdout",
          "text": [
            "-9.407571220901517\n",
            "5\n"
          ]
        }
      ],
      "source": [
        "print(grid.best_score_)\n",
        "print(grid.best_estimator_.max_depth)"
      ]
    },
    {
      "cell_type": "code",
      "execution_count": null,
      "metadata": {
        "colab": {
          "base_uri": "https://localhost:8080/",
          "height": 75
        },
        "id": "Rl6oMgSKGfx-",
        "outputId": "fec86626-7bb1-4ed8-a737-c9084696c109"
      },
      "outputs": [
        {
          "output_type": "execute_result",
          "data": {
            "text/plain": [
              "DecisionTreeRegressor(max_depth=5, random_state=2022)"
            ],
            "text/html": [
              "<style>#sk-container-id-12 {color: black;background-color: white;}#sk-container-id-12 pre{padding: 0;}#sk-container-id-12 div.sk-toggleable {background-color: white;}#sk-container-id-12 label.sk-toggleable__label {cursor: pointer;display: block;width: 100%;margin-bottom: 0;padding: 0.3em;box-sizing: border-box;text-align: center;}#sk-container-id-12 label.sk-toggleable__label-arrow:before {content: \"▸\";float: left;margin-right: 0.25em;color: #696969;}#sk-container-id-12 label.sk-toggleable__label-arrow:hover:before {color: black;}#sk-container-id-12 div.sk-estimator:hover label.sk-toggleable__label-arrow:before {color: black;}#sk-container-id-12 div.sk-toggleable__content {max-height: 0;max-width: 0;overflow: hidden;text-align: left;background-color: #f0f8ff;}#sk-container-id-12 div.sk-toggleable__content pre {margin: 0.2em;color: black;border-radius: 0.25em;background-color: #f0f8ff;}#sk-container-id-12 input.sk-toggleable__control:checked~div.sk-toggleable__content {max-height: 200px;max-width: 100%;overflow: auto;}#sk-container-id-12 input.sk-toggleable__control:checked~label.sk-toggleable__label-arrow:before {content: \"▾\";}#sk-container-id-12 div.sk-estimator input.sk-toggleable__control:checked~label.sk-toggleable__label {background-color: #d4ebff;}#sk-container-id-12 div.sk-label input.sk-toggleable__control:checked~label.sk-toggleable__label {background-color: #d4ebff;}#sk-container-id-12 input.sk-hidden--visually {border: 0;clip: rect(1px 1px 1px 1px);clip: rect(1px, 1px, 1px, 1px);height: 1px;margin: -1px;overflow: hidden;padding: 0;position: absolute;width: 1px;}#sk-container-id-12 div.sk-estimator {font-family: monospace;background-color: #f0f8ff;border: 1px dotted black;border-radius: 0.25em;box-sizing: border-box;margin-bottom: 0.5em;}#sk-container-id-12 div.sk-estimator:hover {background-color: #d4ebff;}#sk-container-id-12 div.sk-parallel-item::after {content: \"\";width: 100%;border-bottom: 1px solid gray;flex-grow: 1;}#sk-container-id-12 div.sk-label:hover label.sk-toggleable__label {background-color: #d4ebff;}#sk-container-id-12 div.sk-serial::before {content: \"\";position: absolute;border-left: 1px solid gray;box-sizing: border-box;top: 0;bottom: 0;left: 50%;z-index: 0;}#sk-container-id-12 div.sk-serial {display: flex;flex-direction: column;align-items: center;background-color: white;padding-right: 0.2em;padding-left: 0.2em;position: relative;}#sk-container-id-12 div.sk-item {position: relative;z-index: 1;}#sk-container-id-12 div.sk-parallel {display: flex;align-items: stretch;justify-content: center;background-color: white;position: relative;}#sk-container-id-12 div.sk-item::before, #sk-container-id-12 div.sk-parallel-item::before {content: \"\";position: absolute;border-left: 1px solid gray;box-sizing: border-box;top: 0;bottom: 0;left: 50%;z-index: -1;}#sk-container-id-12 div.sk-parallel-item {display: flex;flex-direction: column;z-index: 1;position: relative;background-color: white;}#sk-container-id-12 div.sk-parallel-item:first-child::after {align-self: flex-end;width: 50%;}#sk-container-id-12 div.sk-parallel-item:last-child::after {align-self: flex-start;width: 50%;}#sk-container-id-12 div.sk-parallel-item:only-child::after {width: 0;}#sk-container-id-12 div.sk-dashed-wrapped {border: 1px dashed gray;margin: 0 0.4em 0.5em 0.4em;box-sizing: border-box;padding-bottom: 0.4em;background-color: white;}#sk-container-id-12 div.sk-label label {font-family: monospace;font-weight: bold;display: inline-block;line-height: 1.2em;}#sk-container-id-12 div.sk-label-container {text-align: center;}#sk-container-id-12 div.sk-container {/* jupyter's `normalize.less` sets `[hidden] { display: none; }` but bootstrap.min.css set `[hidden] { display: none !important; }` so we also need the `!important` here to be able to override the default hidden behavior on the sphinx rendered scikit-learn.org. See: https://github.com/scikit-learn/scikit-learn/issues/21755 */display: inline-block !important;position: relative;}#sk-container-id-12 div.sk-text-repr-fallback {display: none;}</style><div id=\"sk-container-id-12\" class=\"sk-top-container\"><div class=\"sk-text-repr-fallback\"><pre>DecisionTreeRegressor(max_depth=5, random_state=2022)</pre><b>In a Jupyter environment, please rerun this cell to show the HTML representation or trust the notebook. <br />On GitHub, the HTML representation is unable to render, please try loading this page with nbviewer.org.</b></div><div class=\"sk-container\" hidden><div class=\"sk-item\"><div class=\"sk-estimator sk-toggleable\"><input class=\"sk-toggleable__control sk-hidden--visually\" id=\"sk-estimator-id-16\" type=\"checkbox\" checked><label for=\"sk-estimator-id-16\" class=\"sk-toggleable__label sk-toggleable__label-arrow\">DecisionTreeRegressor</label><div class=\"sk-toggleable__content\"><pre>DecisionTreeRegressor(max_depth=5, random_state=2022)</pre></div></div></div></div></div>"
            ]
          },
          "metadata": {},
          "execution_count": 91
        }
      ],
      "source": [
        "opt_clf_tree = DecisionTreeRegressor(max_depth=5, random_state=2022)\n",
        "opt_clf_tree.fit(X_train_std, y_train)"
      ]
    },
    {
      "cell_type": "code",
      "execution_count": null,
      "metadata": {
        "id": "Yvez33AHGvCk"
      },
      "outputs": [],
      "source": [
        "y_train_opt_clf_tree = opt_clf_tree.predict(X_train_std)\n",
        "y_val_opt_clf_tree = opt_clf_tree.predict(X_val_std)"
      ]
    },
    {
      "cell_type": "code",
      "execution_count": null,
      "metadata": {
        "colab": {
          "base_uri": "https://localhost:8080/"
        },
        "id": "308qlUebGfwF",
        "outputId": "a22d9543-44fa-4547-b080-6479c43ce706"
      },
      "outputs": [
        {
          "output_type": "stream",
          "name": "stdout",
          "text": [
            "R-Square Train:  0.6972484252902791\n",
            "R-Square Validation:  0.3669053663087176\n",
            "==================================================\n",
            "MAE Train:  1.167088442702558\n",
            "MAE Validation:  1.6476039712646395\n",
            "==================================================\n"
          ]
        }
      ],
      "source": [
        "print(\"R-Square Train: \", r2_score(y_train, y_train_opt_clf_tree))\n",
        "print(\"R-Square Validation: \", r2_score(y_val, y_val_opt_clf_tree))\n",
        "print(\"=\"*50)\n",
        "print(\"MAE Train: \", mean_absolute_error(y_train, y_train_opt_clf_tree))\n",
        "print(\"MAE Validation: \", mean_absolute_error(y_val, y_val_opt_clf_tree))\n",
        "print(\"=\"*50)"
      ]
    },
    {
      "cell_type": "code",
      "source": [],
      "metadata": {
        "id": "uUa-Yax5mx-0"
      },
      "execution_count": null,
      "outputs": []
    },
    {
      "cell_type": "markdown",
      "metadata": {
        "id": "knfpxYB7m-h-"
      },
      "source": [
        "###Check Polynomial"
      ]
    },
    {
      "cell_type": "code",
      "execution_count": null,
      "metadata": {
        "id": "fMZp50wNm-iE"
      },
      "outputs": [],
      "source": [
        "from sklearn.preprocessing import PolynomialFeatures"
      ]
    },
    {
      "cell_type": "code",
      "execution_count": null,
      "metadata": {
        "id": "Bs91GMoum-iE"
      },
      "outputs": [],
      "source": [
        "poly_reg = PolynomialFeatures(degree=4)"
      ]
    },
    {
      "cell_type": "code",
      "execution_count": null,
      "metadata": {
        "id": "8lZVn2H0m-iE"
      },
      "outputs": [],
      "source": [
        "X_train_poly = poly_reg.fit_transform(X_train_std)\n",
        "X_val_poly = poly_reg.transform(X_val_std)"
      ]
    },
    {
      "cell_type": "code",
      "execution_count": null,
      "metadata": {
        "colab": {
          "base_uri": "https://localhost:8080/",
          "height": 118
        },
        "id": "Q3h13rWgH-VZ",
        "outputId": "a1b47aaa-7eaf-4411-fd42-e04eb2137bab"
      },
      "outputs": [
        {
          "output_type": "execute_result",
          "data": {
            "text/plain": [
              "GridSearchCV(estimator=DecisionTreeRegressor(random_state=2022), n_jobs=-1,\n",
              "             param_grid={'max_depth': [5, 6, 7, 8, 9, 10, 11, 12]},\n",
              "             scoring='neg_mean_squared_error')"
            ],
            "text/html": [
              "<style>#sk-container-id-13 {color: black;background-color: white;}#sk-container-id-13 pre{padding: 0;}#sk-container-id-13 div.sk-toggleable {background-color: white;}#sk-container-id-13 label.sk-toggleable__label {cursor: pointer;display: block;width: 100%;margin-bottom: 0;padding: 0.3em;box-sizing: border-box;text-align: center;}#sk-container-id-13 label.sk-toggleable__label-arrow:before {content: \"▸\";float: left;margin-right: 0.25em;color: #696969;}#sk-container-id-13 label.sk-toggleable__label-arrow:hover:before {color: black;}#sk-container-id-13 div.sk-estimator:hover label.sk-toggleable__label-arrow:before {color: black;}#sk-container-id-13 div.sk-toggleable__content {max-height: 0;max-width: 0;overflow: hidden;text-align: left;background-color: #f0f8ff;}#sk-container-id-13 div.sk-toggleable__content pre {margin: 0.2em;color: black;border-radius: 0.25em;background-color: #f0f8ff;}#sk-container-id-13 input.sk-toggleable__control:checked~div.sk-toggleable__content {max-height: 200px;max-width: 100%;overflow: auto;}#sk-container-id-13 input.sk-toggleable__control:checked~label.sk-toggleable__label-arrow:before {content: \"▾\";}#sk-container-id-13 div.sk-estimator input.sk-toggleable__control:checked~label.sk-toggleable__label {background-color: #d4ebff;}#sk-container-id-13 div.sk-label input.sk-toggleable__control:checked~label.sk-toggleable__label {background-color: #d4ebff;}#sk-container-id-13 input.sk-hidden--visually {border: 0;clip: rect(1px 1px 1px 1px);clip: rect(1px, 1px, 1px, 1px);height: 1px;margin: -1px;overflow: hidden;padding: 0;position: absolute;width: 1px;}#sk-container-id-13 div.sk-estimator {font-family: monospace;background-color: #f0f8ff;border: 1px dotted black;border-radius: 0.25em;box-sizing: border-box;margin-bottom: 0.5em;}#sk-container-id-13 div.sk-estimator:hover {background-color: #d4ebff;}#sk-container-id-13 div.sk-parallel-item::after {content: \"\";width: 100%;border-bottom: 1px solid gray;flex-grow: 1;}#sk-container-id-13 div.sk-label:hover label.sk-toggleable__label {background-color: #d4ebff;}#sk-container-id-13 div.sk-serial::before {content: \"\";position: absolute;border-left: 1px solid gray;box-sizing: border-box;top: 0;bottom: 0;left: 50%;z-index: 0;}#sk-container-id-13 div.sk-serial {display: flex;flex-direction: column;align-items: center;background-color: white;padding-right: 0.2em;padding-left: 0.2em;position: relative;}#sk-container-id-13 div.sk-item {position: relative;z-index: 1;}#sk-container-id-13 div.sk-parallel {display: flex;align-items: stretch;justify-content: center;background-color: white;position: relative;}#sk-container-id-13 div.sk-item::before, #sk-container-id-13 div.sk-parallel-item::before {content: \"\";position: absolute;border-left: 1px solid gray;box-sizing: border-box;top: 0;bottom: 0;left: 50%;z-index: -1;}#sk-container-id-13 div.sk-parallel-item {display: flex;flex-direction: column;z-index: 1;position: relative;background-color: white;}#sk-container-id-13 div.sk-parallel-item:first-child::after {align-self: flex-end;width: 50%;}#sk-container-id-13 div.sk-parallel-item:last-child::after {align-self: flex-start;width: 50%;}#sk-container-id-13 div.sk-parallel-item:only-child::after {width: 0;}#sk-container-id-13 div.sk-dashed-wrapped {border: 1px dashed gray;margin: 0 0.4em 0.5em 0.4em;box-sizing: border-box;padding-bottom: 0.4em;background-color: white;}#sk-container-id-13 div.sk-label label {font-family: monospace;font-weight: bold;display: inline-block;line-height: 1.2em;}#sk-container-id-13 div.sk-label-container {text-align: center;}#sk-container-id-13 div.sk-container {/* jupyter's `normalize.less` sets `[hidden] { display: none; }` but bootstrap.min.css set `[hidden] { display: none !important; }` so we also need the `!important` here to be able to override the default hidden behavior on the sphinx rendered scikit-learn.org. See: https://github.com/scikit-learn/scikit-learn/issues/21755 */display: inline-block !important;position: relative;}#sk-container-id-13 div.sk-text-repr-fallback {display: none;}</style><div id=\"sk-container-id-13\" class=\"sk-top-container\"><div class=\"sk-text-repr-fallback\"><pre>GridSearchCV(estimator=DecisionTreeRegressor(random_state=2022), n_jobs=-1,\n",
              "             param_grid={&#x27;max_depth&#x27;: [5, 6, 7, 8, 9, 10, 11, 12]},\n",
              "             scoring=&#x27;neg_mean_squared_error&#x27;)</pre><b>In a Jupyter environment, please rerun this cell to show the HTML representation or trust the notebook. <br />On GitHub, the HTML representation is unable to render, please try loading this page with nbviewer.org.</b></div><div class=\"sk-container\" hidden><div class=\"sk-item sk-dashed-wrapped\"><div class=\"sk-label-container\"><div class=\"sk-label sk-toggleable\"><input class=\"sk-toggleable__control sk-hidden--visually\" id=\"sk-estimator-id-17\" type=\"checkbox\" ><label for=\"sk-estimator-id-17\" class=\"sk-toggleable__label sk-toggleable__label-arrow\">GridSearchCV</label><div class=\"sk-toggleable__content\"><pre>GridSearchCV(estimator=DecisionTreeRegressor(random_state=2022), n_jobs=-1,\n",
              "             param_grid={&#x27;max_depth&#x27;: [5, 6, 7, 8, 9, 10, 11, 12]},\n",
              "             scoring=&#x27;neg_mean_squared_error&#x27;)</pre></div></div></div><div class=\"sk-parallel\"><div class=\"sk-parallel-item\"><div class=\"sk-item\"><div class=\"sk-label-container\"><div class=\"sk-label sk-toggleable\"><input class=\"sk-toggleable__control sk-hidden--visually\" id=\"sk-estimator-id-18\" type=\"checkbox\" ><label for=\"sk-estimator-id-18\" class=\"sk-toggleable__label sk-toggleable__label-arrow\">estimator: DecisionTreeRegressor</label><div class=\"sk-toggleable__content\"><pre>DecisionTreeRegressor(random_state=2022)</pre></div></div></div><div class=\"sk-serial\"><div class=\"sk-item\"><div class=\"sk-estimator sk-toggleable\"><input class=\"sk-toggleable__control sk-hidden--visually\" id=\"sk-estimator-id-19\" type=\"checkbox\" ><label for=\"sk-estimator-id-19\" class=\"sk-toggleable__label sk-toggleable__label-arrow\">DecisionTreeRegressor</label><div class=\"sk-toggleable__content\"><pre>DecisionTreeRegressor(random_state=2022)</pre></div></div></div></div></div></div></div></div></div></div>"
            ]
          },
          "metadata": {},
          "execution_count": 97
        }
      ],
      "source": [
        "grid = GridSearchCV(estimator=clf_tree,\n",
        "                    param_grid=param_grid,\n",
        "                    scoring=\"neg_mean_squared_error\",\n",
        "                    n_jobs=-1)\n",
        "\n",
        "grid.fit(X_train_poly, y_train)"
      ]
    },
    {
      "cell_type": "code",
      "execution_count": null,
      "metadata": {
        "colab": {
          "base_uri": "https://localhost:8080/"
        },
        "id": "ZaH3SvZnH-Va",
        "outputId": "d2173ec7-d5b2-4652-cc4b-b2be7c8f0d1d"
      },
      "outputs": [
        {
          "output_type": "stream",
          "name": "stdout",
          "text": [
            "-10.881663787176585\n",
            "5\n"
          ]
        }
      ],
      "source": [
        "print(grid.best_score_)\n",
        "print(grid.best_estimator_.max_depth)"
      ]
    },
    {
      "cell_type": "code",
      "execution_count": null,
      "metadata": {
        "colab": {
          "base_uri": "https://localhost:8080/",
          "height": 75
        },
        "id": "WC03tJCKH-Va",
        "outputId": "4202f21d-5750-4f9a-a2cf-af9ec285f1ae"
      },
      "outputs": [
        {
          "output_type": "execute_result",
          "data": {
            "text/plain": [
              "DecisionTreeRegressor(max_depth=5, random_state=2022)"
            ],
            "text/html": [
              "<style>#sk-container-id-14 {color: black;background-color: white;}#sk-container-id-14 pre{padding: 0;}#sk-container-id-14 div.sk-toggleable {background-color: white;}#sk-container-id-14 label.sk-toggleable__label {cursor: pointer;display: block;width: 100%;margin-bottom: 0;padding: 0.3em;box-sizing: border-box;text-align: center;}#sk-container-id-14 label.sk-toggleable__label-arrow:before {content: \"▸\";float: left;margin-right: 0.25em;color: #696969;}#sk-container-id-14 label.sk-toggleable__label-arrow:hover:before {color: black;}#sk-container-id-14 div.sk-estimator:hover label.sk-toggleable__label-arrow:before {color: black;}#sk-container-id-14 div.sk-toggleable__content {max-height: 0;max-width: 0;overflow: hidden;text-align: left;background-color: #f0f8ff;}#sk-container-id-14 div.sk-toggleable__content pre {margin: 0.2em;color: black;border-radius: 0.25em;background-color: #f0f8ff;}#sk-container-id-14 input.sk-toggleable__control:checked~div.sk-toggleable__content {max-height: 200px;max-width: 100%;overflow: auto;}#sk-container-id-14 input.sk-toggleable__control:checked~label.sk-toggleable__label-arrow:before {content: \"▾\";}#sk-container-id-14 div.sk-estimator input.sk-toggleable__control:checked~label.sk-toggleable__label {background-color: #d4ebff;}#sk-container-id-14 div.sk-label input.sk-toggleable__control:checked~label.sk-toggleable__label {background-color: #d4ebff;}#sk-container-id-14 input.sk-hidden--visually {border: 0;clip: rect(1px 1px 1px 1px);clip: rect(1px, 1px, 1px, 1px);height: 1px;margin: -1px;overflow: hidden;padding: 0;position: absolute;width: 1px;}#sk-container-id-14 div.sk-estimator {font-family: monospace;background-color: #f0f8ff;border: 1px dotted black;border-radius: 0.25em;box-sizing: border-box;margin-bottom: 0.5em;}#sk-container-id-14 div.sk-estimator:hover {background-color: #d4ebff;}#sk-container-id-14 div.sk-parallel-item::after {content: \"\";width: 100%;border-bottom: 1px solid gray;flex-grow: 1;}#sk-container-id-14 div.sk-label:hover label.sk-toggleable__label {background-color: #d4ebff;}#sk-container-id-14 div.sk-serial::before {content: \"\";position: absolute;border-left: 1px solid gray;box-sizing: border-box;top: 0;bottom: 0;left: 50%;z-index: 0;}#sk-container-id-14 div.sk-serial {display: flex;flex-direction: column;align-items: center;background-color: white;padding-right: 0.2em;padding-left: 0.2em;position: relative;}#sk-container-id-14 div.sk-item {position: relative;z-index: 1;}#sk-container-id-14 div.sk-parallel {display: flex;align-items: stretch;justify-content: center;background-color: white;position: relative;}#sk-container-id-14 div.sk-item::before, #sk-container-id-14 div.sk-parallel-item::before {content: \"\";position: absolute;border-left: 1px solid gray;box-sizing: border-box;top: 0;bottom: 0;left: 50%;z-index: -1;}#sk-container-id-14 div.sk-parallel-item {display: flex;flex-direction: column;z-index: 1;position: relative;background-color: white;}#sk-container-id-14 div.sk-parallel-item:first-child::after {align-self: flex-end;width: 50%;}#sk-container-id-14 div.sk-parallel-item:last-child::after {align-self: flex-start;width: 50%;}#sk-container-id-14 div.sk-parallel-item:only-child::after {width: 0;}#sk-container-id-14 div.sk-dashed-wrapped {border: 1px dashed gray;margin: 0 0.4em 0.5em 0.4em;box-sizing: border-box;padding-bottom: 0.4em;background-color: white;}#sk-container-id-14 div.sk-label label {font-family: monospace;font-weight: bold;display: inline-block;line-height: 1.2em;}#sk-container-id-14 div.sk-label-container {text-align: center;}#sk-container-id-14 div.sk-container {/* jupyter's `normalize.less` sets `[hidden] { display: none; }` but bootstrap.min.css set `[hidden] { display: none !important; }` so we also need the `!important` here to be able to override the default hidden behavior on the sphinx rendered scikit-learn.org. See: https://github.com/scikit-learn/scikit-learn/issues/21755 */display: inline-block !important;position: relative;}#sk-container-id-14 div.sk-text-repr-fallback {display: none;}</style><div id=\"sk-container-id-14\" class=\"sk-top-container\"><div class=\"sk-text-repr-fallback\"><pre>DecisionTreeRegressor(max_depth=5, random_state=2022)</pre><b>In a Jupyter environment, please rerun this cell to show the HTML representation or trust the notebook. <br />On GitHub, the HTML representation is unable to render, please try loading this page with nbviewer.org.</b></div><div class=\"sk-container\" hidden><div class=\"sk-item\"><div class=\"sk-estimator sk-toggleable\"><input class=\"sk-toggleable__control sk-hidden--visually\" id=\"sk-estimator-id-20\" type=\"checkbox\" checked><label for=\"sk-estimator-id-20\" class=\"sk-toggleable__label sk-toggleable__label-arrow\">DecisionTreeRegressor</label><div class=\"sk-toggleable__content\"><pre>DecisionTreeRegressor(max_depth=5, random_state=2022)</pre></div></div></div></div></div>"
            ]
          },
          "metadata": {},
          "execution_count": 99
        }
      ],
      "source": [
        "opt_clf_tree = DecisionTreeRegressor(max_depth=5, random_state=2022)\n",
        "opt_clf_tree.fit(X_train_poly, y_train)"
      ]
    },
    {
      "cell_type": "code",
      "execution_count": null,
      "metadata": {
        "id": "jXqoVd7kH-Va"
      },
      "outputs": [],
      "source": [
        "y_train_poly_opt_clf_tree = opt_clf_tree.predict(X_train_poly)\n",
        "y_val_poly_opt_clf_tree = opt_clf_tree.predict(X_val_poly)"
      ]
    },
    {
      "cell_type": "code",
      "execution_count": null,
      "metadata": {
        "colab": {
          "base_uri": "https://localhost:8080/"
        },
        "id": "mazsgZPKH-Va",
        "outputId": "89a02773-47c7-4134-e238-a534a699362d"
      },
      "outputs": [
        {
          "output_type": "stream",
          "name": "stdout",
          "text": [
            "R-Square Train:  0.8180687108293496\n",
            "R-Square Validation:  -0.0986614546523934\n",
            "==================================================\n",
            "MAE Train:  0.8975093827233768\n",
            "MAE Validation:  2.0439414365212807\n",
            "==================================================\n"
          ]
        }
      ],
      "source": [
        "print(\"R-Square Train: \", r2_score(y_train, y_train_poly_opt_clf_tree))\n",
        "print(\"R-Square Validation: \", r2_score(y_val, y_val_poly_opt_clf_tree))\n",
        "print(\"=\"*50)\n",
        "print(\"MAE Train: \", mean_absolute_error(y_train, y_train_poly_opt_clf_tree))\n",
        "print(\"MAE Validation: \", mean_absolute_error(y_val, y_val_poly_opt_clf_tree))\n",
        "print(\"=\"*50)"
      ]
    },
    {
      "cell_type": "markdown",
      "metadata": {
        "id": "OynKTsJNJkVM"
      },
      "source": [
        "### Strategy on Spliting in Timeseries Dataset"
      ]
    },
    {
      "cell_type": "code",
      "execution_count": null,
      "metadata": {
        "id": "0Ll0qsNqQPLK"
      },
      "outputs": [],
      "source": [
        "from sklearn.model_selection import TimeSeriesSplit"
      ]
    },
    {
      "cell_type": "code",
      "execution_count": null,
      "metadata": {
        "id": "ZdOzeYyWQPJF"
      },
      "outputs": [],
      "source": [
        "tscv = TimeSeriesSplit(n_splits=20, test_size=100)\n",
        "\n",
        "cv_ls = []\n",
        "for train_index, valid_index in tscv.split(X_train_std):\n",
        "    cv_ls.append((train_index, valid_index))"
      ]
    },
    {
      "cell_type": "markdown",
      "metadata": {
        "id": "AvIoMhr-VfDB"
      },
      "source": [
        "#### Check split"
      ]
    },
    {
      "cell_type": "code",
      "execution_count": null,
      "metadata": {
        "colab": {
          "base_uri": "https://localhost:8080/",
          "height": 632
        },
        "id": "jrfgXL52Vcqx",
        "outputId": "f240434e-266d-42aa-cf71-8b5a5b4bd98f"
      },
      "outputs": [
        {
          "output_type": "execute_result",
          "data": {
            "text/plain": [
              "<matplotlib.legend.Legend at 0x7f55e985bb80>"
            ]
          },
          "metadata": {},
          "execution_count": 105
        },
        {
          "output_type": "display_data",
          "data": {
            "text/plain": [
              "<Figure size 2000x200 with 1 Axes>"
            ],
            "image/png": "[encoded data removed]"
          },
          "metadata": {}
        },
        {
          "output_type": "display_data",
          "data": {
            "text/plain": [
              "<Figure size 2000x200 with 1 Axes>"
            ],
            "image/png": "[encoded data removed]"
          },
          "metadata": {}
        },
        {
          "output_type": "display_data",
          "data": {
            "text/plain": [
              "<Figure size 2000x200 with 1 Axes>"
            ],
            "image/png": "[encoded data removed]"
          },
          "metadata": {}
        }
      ],
      "source": [
        "plt.figure(figsize=(20, 2))\n",
        "sns.lineplot(data=df_train_prepared.iloc[cv_ls[0][0]], x=\"Id\", y=\"Indoor_temperature_room\", marker='o', linestyle='')\n",
        "sns.lineplot(data=df_train_prepared.iloc[cv_ls[0][1]], x=\"Id\", y=\"Indoor_temperature_room\", marker='o', linestyle='')\n",
        "plt.legend([\"Train\", \"Predict\"])\n",
        "\n",
        "plt.figure(figsize=(20, 2))\n",
        "sns.lineplot(data=df_train_prepared.iloc[cv_ls[1][0]], x=\"Id\", y=\"Indoor_temperature_room\", marker='o', linestyle='')\n",
        "sns.lineplot(data=df_train_prepared.iloc[cv_ls[1][1]], x=\"Id\", y=\"Indoor_temperature_room\", marker='o', linestyle='')\n",
        "plt.legend([\"Train\", \"Predict\"])\n",
        "\n",
        "plt.figure(figsize=(20, 2))\n",
        "sns.lineplot(data=df_train_prepared.iloc[cv_ls[2][0]], x=\"Id\", y=\"Indoor_temperature_room\", marker='o', linestyle='')\n",
        "sns.lineplot(data=df_train_prepared.iloc[cv_ls[2][1]], x=\"Id\", y=\"Indoor_temperature_room\", marker='o', linestyle='')\n",
        "plt.legend([\"Train\", \"Predict\"])"
      ]
    },
    {
      "cell_type": "code",
      "source": [],
      "metadata": {
        "id": "y89oTlUqoaAb"
      },
      "execution_count": null,
      "outputs": []
    },
    {
      "cell_type": "markdown",
      "metadata": {
        "id": "FnCVPjaoWo6J"
      },
      "source": [
        "### Tuning Again"
      ]
    },
    {
      "cell_type": "code",
      "execution_count": null,
      "metadata": {
        "id": "Eu0oqU31WCXq"
      },
      "outputs": [],
      "source": [
        "clf_tree = DecisionTreeRegressor(random_state=2022)"
      ]
    },
    {
      "cell_type": "code",
      "source": [
        "param_grid = {'max_depth': [5, 6, 7, 8, 9, 10, 11, 12],\n",
        "              'min_samples_split': [2, 3, 4, 5, 6, 7, 8, 9, 10],\n",
        "              'max_features': [\"auto\", \"sqrt\", \"log2\"]}"
      ],
      "metadata": {
        "id": "zerBCZPqoeyE"
      },
      "execution_count": null,
      "outputs": []
    },
    {
      "cell_type": "code",
      "execution_count": null,
      "metadata": {
        "colab": {
          "base_uri": "https://localhost:8080/",
          "height": 152
        },
        "id": "uXiudJBfWCVg",
        "outputId": "ddd1c915-aae1-438d-9d4a-235598d785a5"
      },
      "outputs": [
        {
          "output_type": "stream",
          "name": "stderr",
          "text": [
            "/usr/local/lib/python3.10/dist-packages/sklearn/tree/_classes.py:277: FutureWarning: `max_features='auto'` has been deprecated in 1.1 and will be removed in 1.3. To keep the past behaviour, explicitly set `max_features=1.0'`.\n",
            "  warnings.warn(\n"
          ]
        },
        {
          "output_type": "execute_result",
          "data": {
            "text/plain": [
              "GridSearchCV(cv=[(array([  0,   1,   2,   3,   4,   5,   6,   7,   8,   9,  10,  11,  12,\n",
              "        13,  14,  15,  16,  17,  18,  19,  20,  21,  22,  23,  24,  25,\n",
              "        26,  27,  28,  29,  30,  31,  32,  33,  34,  35,  36,  37,  38,\n",
              "        39,  40,  41,  42,  43,  44,  45,  46,  47,  48,  49,  50,  51,\n",
              "        52,  53,  54,  55,  56,  57,  58,  59,  60,  61,  62,  63,  64,\n",
              "        65,  66,  67,  68,  69,  70,  71,  72,  73,  74,  75,  76,  77,\n",
              "        78,  79,  80,  81,  82,  83,  84,  85,  86,  87,  88,  89,  90,\n",
              "        91,  92,  93,  94,  95,  96,  97,  98,  99, 100, 101, 102, 103,\n",
              "       104, 105, 106, 107, 108...\n",
              "       2177, 2178, 2179, 2180, 2181, 2182, 2183, 2184, 2185, 2186, 2187,\n",
              "       2188, 2189, 2190, 2191, 2192, 2193, 2194, 2195, 2196, 2197, 2198,\n",
              "       2199, 2200, 2201, 2202, 2203, 2204, 2205, 2206, 2207, 2208, 2209,\n",
              "       2210]))],\n",
              "             estimator=DecisionTreeRegressor(random_state=2022), n_jobs=-1,\n",
              "             param_grid={'max_depth': [5, 6, 7, 8, 9, 10, 11, 12],\n",
              "                         'max_features': ['auto', 'sqrt', 'log2'],\n",
              "                         'min_samples_split': [2, 3, 4, 5, 6, 7, 8, 9, 10]},\n",
              "             scoring='neg_mean_squared_error')"
            ],
            "text/html": [
              "<style>#sk-container-id-15 {color: black;background-color: white;}#sk-container-id-15 pre{padding: 0;}#sk-container-id-15 div.sk-toggleable {background-color: white;}#sk-container-id-15 label.sk-toggleable__label {cursor: pointer;display: block;width: 100%;margin-bottom: 0;padding: 0.3em;box-sizing: border-box;text-align: center;}#sk-container-id-15 label.sk-toggleable__label-arrow:before {content: \"▸\";float: left;margin-right: 0.25em;color: #696969;}#sk-container-id-15 label.sk-toggleable__label-arrow:hover:before {color: black;}#sk-container-id-15 div.sk-estimator:hover label.sk-toggleable__label-arrow:before {color: black;}#sk-container-id-15 div.sk-toggleable__content {max-height: 0;max-width: 0;overflow: hidden;text-align: left;background-color: #f0f8ff;}#sk-container-id-15 div.sk-toggleable__content pre {margin: 0.2em;color: black;border-radius: 0.25em;background-color: #f0f8ff;}#sk-container-id-15 input.sk-toggleable__control:checked~div.sk-toggleable__content {max-height: 200px;max-width: 100%;overflow: auto;}#sk-container-id-15 input.sk-toggleable__control:checked~label.sk-toggleable__label-arrow:before {content: \"▾\";}#sk-container-id-15 div.sk-estimator input.sk-toggleable__control:checked~label.sk-toggleable__label {background-color: #d4ebff;}#sk-container-id-15 div.sk-label input.sk-toggleable__control:checked~label.sk-toggleable__label {background-color: #d4ebff;}#sk-container-id-15 input.sk-hidden--visually {border: 0;clip: rect(1px 1px 1px 1px);clip: rect(1px, 1px, 1px, 1px);height: 1px;margin: -1px;overflow: hidden;padding: 0;position: absolute;width: 1px;}#sk-container-id-15 div.sk-estimator {font-family: monospace;background-color: #f0f8ff;border: 1px dotted black;border-radius: 0.25em;box-sizing: border-box;margin-bottom: 0.5em;}#sk-container-id-15 div.sk-estimator:hover {background-color: #d4ebff;}#sk-container-id-15 div.sk-parallel-item::after {content: \"\";width: 100%;border-bottom: 1px solid gray;flex-grow: 1;}#sk-container-id-15 div.sk-label:hover label.sk-toggleable__label {background-color: #d4ebff;}#sk-container-id-15 div.sk-serial::before {content: \"\";position: absolute;border-left: 1px solid gray;box-sizing: border-box;top: 0;bottom: 0;left: 50%;z-index: 0;}#sk-container-id-15 div.sk-serial {display: flex;flex-direction: column;align-items: center;background-color: white;padding-right: 0.2em;padding-left: 0.2em;position: relative;}#sk-container-id-15 div.sk-item {position: relative;z-index: 1;}#sk-container-id-15 div.sk-parallel {display: flex;align-items: stretch;justify-content: center;background-color: white;position: relative;}#sk-container-id-15 div.sk-item::before, #sk-container-id-15 div.sk-parallel-item::before {content: \"\";position: absolute;border-left: 1px solid gray;box-sizing: border-box;top: 0;bottom: 0;left: 50%;z-index: -1;}#sk-container-id-15 div.sk-parallel-item {display: flex;flex-direction: column;z-index: 1;position: relative;background-color: white;}#sk-container-id-15 div.sk-parallel-item:first-child::after {align-self: flex-end;width: 50%;}#sk-container-id-15 div.sk-parallel-item:last-child::after {align-self: flex-start;width: 50%;}#sk-container-id-15 div.sk-parallel-item:only-child::after {width: 0;}#sk-container-id-15 div.sk-dashed-wrapped {border: 1px dashed gray;margin: 0 0.4em 0.5em 0.4em;box-sizing: border-box;padding-bottom: 0.4em;background-color: white;}#sk-container-id-15 div.sk-label label {font-family: monospace;font-weight: bold;display: inline-block;line-height: 1.2em;}#sk-container-id-15 div.sk-label-container {text-align: center;}#sk-container-id-15 div.sk-container {/* jupyter's `normalize.less` sets `[hidden] { display: none; }` but bootstrap.min.css set `[hidden] { display: none !important; }` so we also need the `!important` here to be able to override the default hidden behavior on the sphinx rendered scikit-learn.org. See: https://github.com/scikit-learn/scikit-learn/issues/21755 */display: inline-block !important;position: relative;}#sk-container-id-15 div.sk-text-repr-fallback {display: none;}</style><div id=\"sk-container-id-15\" class=\"sk-top-container\"><div class=\"sk-text-repr-fallback\"><pre>GridSearchCV(cv=[(array([  0,   1,   2,   3,   4,   5,   6,   7,   8,   9,  10,  11,  12,\n",
              "        13,  14,  15,  16,  17,  18,  19,  20,  21,  22,  23,  24,  25,\n",
              "        26,  27,  28,  29,  30,  31,  32,  33,  34,  35,  36,  37,  38,\n",
              "        39,  40,  41,  42,  43,  44,  45,  46,  47,  48,  49,  50,  51,\n",
              "        52,  53,  54,  55,  56,  57,  58,  59,  60,  61,  62,  63,  64,\n",
              "        65,  66,  67,  68,  69,  70,  71,  72,  73,  74,  75,  76,  77,\n",
              "        78,  79,  80,  81,  82,  83,  84,  85,  86,  87,  88,  89,  90,\n",
              "        91,  92,  93,  94,  95,  96,  97,  98,  99, 100, 101, 102, 103,\n",
              "       104, 105, 106, 107, 108...\n",
              "       2177, 2178, 2179, 2180, 2181, 2182, 2183, 2184, 2185, 2186, 2187,\n",
              "       2188, 2189, 2190, 2191, 2192, 2193, 2194, 2195, 2196, 2197, 2198,\n",
              "       2199, 2200, 2201, 2202, 2203, 2204, 2205, 2206, 2207, 2208, 2209,\n",
              "       2210]))],\n",
              "             estimator=DecisionTreeRegressor(random_state=2022), n_jobs=-1,\n",
              "             param_grid={&#x27;max_depth&#x27;: [5, 6, 7, 8, 9, 10, 11, 12],\n",
              "                         &#x27;max_features&#x27;: [&#x27;auto&#x27;, &#x27;sqrt&#x27;, &#x27;log2&#x27;],\n",
              "                         &#x27;min_samples_split&#x27;: [2, 3, 4, 5, 6, 7, 8, 9, 10]},\n",
              "             scoring=&#x27;neg_mean_squared_error&#x27;)</pre><b>In a Jupyter environment, please rerun this cell to show the HTML representation or trust the notebook. <br />On GitHub, the HTML representation is unable to render, please try loading this page with nbviewer.org.</b></div><div class=\"sk-container\" hidden><div class=\"sk-item sk-dashed-wrapped\"><div class=\"sk-label-container\"><div class=\"sk-label sk-toggleable\"><input class=\"sk-toggleable__control sk-hidden--visually\" id=\"sk-estimator-id-21\" type=\"checkbox\" ><label for=\"sk-estimator-id-21\" class=\"sk-toggleable__label sk-toggleable__label-arrow\">GridSearchCV</label><div class=\"sk-toggleable__content\"><pre>GridSearchCV(cv=[(array([  0,   1,   2,   3,   4,   5,   6,   7,   8,   9,  10,  11,  12,\n",
              "        13,  14,  15,  16,  17,  18,  19,  20,  21,  22,  23,  24,  25,\n",
              "        26,  27,  28,  29,  30,  31,  32,  33,  34,  35,  36,  37,  38,\n",
              "        39,  40,  41,  42,  43,  44,  45,  46,  47,  48,  49,  50,  51,\n",
              "        52,  53,  54,  55,  56,  57,  58,  59,  60,  61,  62,  63,  64,\n",
              "        65,  66,  67,  68,  69,  70,  71,  72,  73,  74,  75,  76,  77,\n",
              "        78,  79,  80,  81,  82,  83,  84,  85,  86,  87,  88,  89,  90,\n",
              "        91,  92,  93,  94,  95,  96,  97,  98,  99, 100, 101, 102, 103,\n",
              "       104, 105, 106, 107, 108...\n",
              "       2177, 2178, 2179, 2180, 2181, 2182, 2183, 2184, 2185, 2186, 2187,\n",
              "       2188, 2189, 2190, 2191, 2192, 2193, 2194, 2195, 2196, 2197, 2198,\n",
              "       2199, 2200, 2201, 2202, 2203, 2204, 2205, 2206, 2207, 2208, 2209,\n",
              "       2210]))],\n",
              "             estimator=DecisionTreeRegressor(random_state=2022), n_jobs=-1,\n",
              "             param_grid={&#x27;max_depth&#x27;: [5, 6, 7, 8, 9, 10, 11, 12],\n",
              "                         &#x27;max_features&#x27;: [&#x27;auto&#x27;, &#x27;sqrt&#x27;, &#x27;log2&#x27;],\n",
              "                         &#x27;min_samples_split&#x27;: [2, 3, 4, 5, 6, 7, 8, 9, 10]},\n",
              "             scoring=&#x27;neg_mean_squared_error&#x27;)</pre></div></div></div><div class=\"sk-parallel\"><div class=\"sk-parallel-item\"><div class=\"sk-item\"><div class=\"sk-label-container\"><div class=\"sk-label sk-toggleable\"><input class=\"sk-toggleable__control sk-hidden--visually\" id=\"sk-estimator-id-22\" type=\"checkbox\" ><label for=\"sk-estimator-id-22\" class=\"sk-toggleable__label sk-toggleable__label-arrow\">estimator: DecisionTreeRegressor</label><div class=\"sk-toggleable__content\"><pre>DecisionTreeRegressor(random_state=2022)</pre></div></div></div><div class=\"sk-serial\"><div class=\"sk-item\"><div class=\"sk-estimator sk-toggleable\"><input class=\"sk-toggleable__control sk-hidden--visually\" id=\"sk-estimator-id-23\" type=\"checkbox\" ><label for=\"sk-estimator-id-23\" class=\"sk-toggleable__label sk-toggleable__label-arrow\">DecisionTreeRegressor</label><div class=\"sk-toggleable__content\"><pre>DecisionTreeRegressor(random_state=2022)</pre></div></div></div></div></div></div></div></div></div></div>"
            ]
          },
          "metadata": {},
          "execution_count": 109
        }
      ],
      "source": [
        "grid = GridSearchCV(estimator=clf_tree,\n",
        "                    param_grid=param_grid,\n",
        "                    scoring=\"neg_mean_squared_error\",\n",
        "                    cv=cv_ls,\n",
        "                    n_jobs=-1)\n",
        "\n",
        "grid.fit(X_train_std, y_train)"
      ]
    },
    {
      "cell_type": "code",
      "execution_count": null,
      "metadata": {
        "colab": {
          "base_uri": "https://localhost:8080/"
        },
        "id": "TS5FvONWWw8i",
        "outputId": "5508ccf5-3ec5-415a-f5f0-777fb391a948"
      },
      "outputs": [
        {
          "output_type": "stream",
          "name": "stdout",
          "text": [
            "-7.552915719621742\n",
            "DecisionTreeRegressor(max_depth=5, max_features='auto', min_samples_split=7,\n",
            "                      random_state=2022)\n"
          ]
        }
      ],
      "source": [
        "print(grid.best_score_)\n",
        "print(grid.best_estimator_)"
      ]
    },
    {
      "cell_type": "code",
      "execution_count": null,
      "metadata": {
        "colab": {
          "base_uri": "https://localhost:8080/",
          "height": 127
        },
        "id": "79pJ44E2W1Be",
        "outputId": "7e116d68-c256-48b5-e4d2-b45940b5dac9"
      },
      "outputs": [
        {
          "output_type": "stream",
          "name": "stderr",
          "text": [
            "/usr/local/lib/python3.10/dist-packages/sklearn/tree/_classes.py:277: FutureWarning: `max_features='auto'` has been deprecated in 1.1 and will be removed in 1.3. To keep the past behaviour, explicitly set `max_features=1.0'`.\n",
            "  warnings.warn(\n"
          ]
        },
        {
          "output_type": "execute_result",
          "data": {
            "text/plain": [
              "DecisionTreeRegressor(max_depth=5, max_features='auto', min_samples_split=7,\n",
              "                      random_state=2022)"
            ],
            "text/html": [
              "<style>#sk-container-id-16 {color: black;background-color: white;}#sk-container-id-16 pre{padding: 0;}#sk-container-id-16 div.sk-toggleable {background-color: white;}#sk-container-id-16 label.sk-toggleable__label {cursor: pointer;display: block;width: 100%;margin-bottom: 0;padding: 0.3em;box-sizing: border-box;text-align: center;}#sk-container-id-16 label.sk-toggleable__label-arrow:before {content: \"▸\";float: left;margin-right: 0.25em;color: #696969;}#sk-container-id-16 label.sk-toggleable__label-arrow:hover:before {color: black;}#sk-container-id-16 div.sk-estimator:hover label.sk-toggleable__label-arrow:before {color: black;}#sk-container-id-16 div.sk-toggleable__content {max-height: 0;max-width: 0;overflow: hidden;text-align: left;background-color: #f0f8ff;}#sk-container-id-16 div.sk-toggleable__content pre {margin: 0.2em;color: black;border-radius: 0.25em;background-color: #f0f8ff;}#sk-container-id-16 input.sk-toggleable__control:checked~div.sk-toggleable__content {max-height: 200px;max-width: 100%;overflow: auto;}#sk-container-id-16 input.sk-toggleable__control:checked~label.sk-toggleable__label-arrow:before {content: \"▾\";}#sk-container-id-16 div.sk-estimator input.sk-toggleable__control:checked~label.sk-toggleable__label {background-color: #d4ebff;}#sk-container-id-16 div.sk-label input.sk-toggleable__control:checked~label.sk-toggleable__label {background-color: #d4ebff;}#sk-container-id-16 input.sk-hidden--visually {border: 0;clip: rect(1px 1px 1px 1px);clip: rect(1px, 1px, 1px, 1px);height: 1px;margin: -1px;overflow: hidden;padding: 0;position: absolute;width: 1px;}#sk-container-id-16 div.sk-estimator {font-family: monospace;background-color: #f0f8ff;border: 1px dotted black;border-radius: 0.25em;box-sizing: border-box;margin-bottom: 0.5em;}#sk-container-id-16 div.sk-estimator:hover {background-color: #d4ebff;}#sk-container-id-16 div.sk-parallel-item::after {content: \"\";width: 100%;border-bottom: 1px solid gray;flex-grow: 1;}#sk-container-id-16 div.sk-label:hover label.sk-toggleable__label {background-color: #d4ebff;}#sk-container-id-16 div.sk-serial::before {content: \"\";position: absolute;border-left: 1px solid gray;box-sizing: border-box;top: 0;bottom: 0;left: 50%;z-index: 0;}#sk-container-id-16 div.sk-serial {display: flex;flex-direction: column;align-items: center;background-color: white;padding-right: 0.2em;padding-left: 0.2em;position: relative;}#sk-container-id-16 div.sk-item {position: relative;z-index: 1;}#sk-container-id-16 div.sk-parallel {display: flex;align-items: stretch;justify-content: center;background-color: white;position: relative;}#sk-container-id-16 div.sk-item::before, #sk-container-id-16 div.sk-parallel-item::before {content: \"\";position: absolute;border-left: 1px solid gray;box-sizing: border-box;top: 0;bottom: 0;left: 50%;z-index: -1;}#sk-container-id-16 div.sk-parallel-item {display: flex;flex-direction: column;z-index: 1;position: relative;background-color: white;}#sk-container-id-16 div.sk-parallel-item:first-child::after {align-self: flex-end;width: 50%;}#sk-container-id-16 div.sk-parallel-item:last-child::after {align-self: flex-start;width: 50%;}#sk-container-id-16 div.sk-parallel-item:only-child::after {width: 0;}#sk-container-id-16 div.sk-dashed-wrapped {border: 1px dashed gray;margin: 0 0.4em 0.5em 0.4em;box-sizing: border-box;padding-bottom: 0.4em;background-color: white;}#sk-container-id-16 div.sk-label label {font-family: monospace;font-weight: bold;display: inline-block;line-height: 1.2em;}#sk-container-id-16 div.sk-label-container {text-align: center;}#sk-container-id-16 div.sk-container {/* jupyter's `normalize.less` sets `[hidden] { display: none; }` but bootstrap.min.css set `[hidden] { display: none !important; }` so we also need the `!important` here to be able to override the default hidden behavior on the sphinx rendered scikit-learn.org. See: https://github.com/scikit-learn/scikit-learn/issues/21755 */display: inline-block !important;position: relative;}#sk-container-id-16 div.sk-text-repr-fallback {display: none;}</style><div id=\"sk-container-id-16\" class=\"sk-top-container\"><div class=\"sk-text-repr-fallback\"><pre>DecisionTreeRegressor(max_depth=5, max_features=&#x27;auto&#x27;, min_samples_split=7,\n",
              "                      random_state=2022)</pre><b>In a Jupyter environment, please rerun this cell to show the HTML representation or trust the notebook. <br />On GitHub, the HTML representation is unable to render, please try loading this page with nbviewer.org.</b></div><div class=\"sk-container\" hidden><div class=\"sk-item\"><div class=\"sk-estimator sk-toggleable\"><input class=\"sk-toggleable__control sk-hidden--visually\" id=\"sk-estimator-id-24\" type=\"checkbox\" checked><label for=\"sk-estimator-id-24\" class=\"sk-toggleable__label sk-toggleable__label-arrow\">DecisionTreeRegressor</label><div class=\"sk-toggleable__content\"><pre>DecisionTreeRegressor(max_depth=5, max_features=&#x27;auto&#x27;, min_samples_split=7,\n",
              "                      random_state=2022)</pre></div></div></div></div></div>"
            ]
          },
          "metadata": {},
          "execution_count": 111
        }
      ],
      "source": [
        "opt_clf_tree = DecisionTreeRegressor(max_depth=5, max_features='auto', min_samples_split=7, random_state=2022)\n",
        "opt_clf_tree.fit(X_train_std, y_train)"
      ]
    },
    {
      "cell_type": "code",
      "execution_count": null,
      "metadata": {
        "id": "QM-1GbWlW0_d"
      },
      "outputs": [],
      "source": [
        "y_train_opt_clf_tree = opt_clf_tree.predict(X_train_std)\n",
        "y_val_opt_clf_tree = opt_clf_tree.predict(X_val_std)"
      ]
    },
    {
      "cell_type": "code",
      "execution_count": null,
      "metadata": {
        "colab": {
          "base_uri": "https://localhost:8080/"
        },
        "id": "vVGXTSjWW09i",
        "outputId": "dede4537-f6e5-47cc-fdb7-eb45324ec761"
      },
      "outputs": [
        {
          "output_type": "stream",
          "name": "stdout",
          "text": [
            "R-Square Train:  0.6972484252902791\n",
            "R-Square Validation:  0.3669053663087176\n",
            "==================================================\n",
            "MAE Train:  1.167088442702558\n",
            "MAE Validation:  1.6476039712646395\n",
            "==================================================\n"
          ]
        }
      ],
      "source": [
        "print(\"R-Square Train: \", r2_score(y_train, y_train_opt_clf_tree))\n",
        "print(\"R-Square Validation: \", r2_score(y_val, y_val_opt_clf_tree))\n",
        "print(\"=\"*50)\n",
        "print(\"MAE Train: \", mean_absolute_error(y_train, y_train_opt_clf_tree))\n",
        "print(\"MAE Validation: \", mean_absolute_error(y_val, y_val_opt_clf_tree))\n",
        "print(\"=\"*50)"
      ]
    },
    {
      "cell_type": "code",
      "source": [],
      "metadata": {
        "id": "8FbMuBgTpOZ0"
      },
      "execution_count": null,
      "outputs": []
    },
    {
      "cell_type": "markdown",
      "metadata": {
        "id": "WCXAOFKCbVAP"
      },
      "source": [
        "##Model 3 (Random Forest)"
      ]
    },
    {
      "cell_type": "code",
      "execution_count": null,
      "metadata": {
        "id": "7o79cTNFYSDl"
      },
      "outputs": [],
      "source": [
        "from sklearn.ensemble import RandomForestRegressor"
      ]
    },
    {
      "cell_type": "code",
      "execution_count": null,
      "metadata": {
        "id": "jnOXVh6IW0x4"
      },
      "outputs": [],
      "source": [
        "clf_rand = RandomForestRegressor(random_state=2022)"
      ]
    },
    {
      "cell_type": "code",
      "execution_count": null,
      "metadata": {
        "id": "esa3P7Gmbnzu"
      },
      "outputs": [],
      "source": [
        "param_grid = {\n",
        "    'n_estimators': [100,200],\n",
        "    'max_depth': [2, 3, 4, 5, 6, 7, 8, 9, 10, 11, 12],\n",
        "    'min_samples_split': [2, 3, 4, 5, 6, 7, 8, 9, 10],\n",
        "    'max_features': [\"auto\", \"sqrt\", \"log2\"]}"
      ]
    },
    {
      "cell_type": "code",
      "execution_count": null,
      "metadata": {
        "colab": {
          "base_uri": "https://localhost:8080/",
          "height": 118
        },
        "id": "Ag_RJn5Wb1HL",
        "outputId": "13508074-49d9-448b-c84d-8570af07b8d2"
      },
      "outputs": [
        {
          "output_type": "execute_result",
          "data": {
            "text/plain": [
              "GridSearchCV(cv=[(array([  0,   1,   2,   3,   4,   5,   6,   7,   8,   9,  10,  11,  12,\n",
              "        13,  14,  15,  16,  17,  18,  19,  20,  21,  22,  23,  24,  25,\n",
              "        26,  27,  28,  29,  30,  31,  32,  33,  34,  35,  36,  37,  38,\n",
              "        39,  40,  41,  42,  43,  44,  45,  46,  47,  48,  49,  50,  51,\n",
              "        52,  53,  54,  55,  56,  57,  58,  59,  60,  61,  62,  63,  64,\n",
              "        65,  66,  67,  68,  69,  70,  71,  72,  73,  74,  75,  76,  77,\n",
              "        78,  79,  80,  81,  82,  83,  84,  85,  86,  87,  88,  89,  90,\n",
              "        91,  92,  93,  94,  95,  96,  97,  98,  99, 100, 101, 102, 103,\n",
              "       104, 105, 106, 107, 108...\n",
              "       2188, 2189, 2190, 2191, 2192, 2193, 2194, 2195, 2196, 2197, 2198,\n",
              "       2199, 2200, 2201, 2202, 2203, 2204, 2205, 2206, 2207, 2208, 2209,\n",
              "       2210]))],\n",
              "             estimator=RandomForestRegressor(random_state=2022), n_jobs=-1,\n",
              "             param_grid={'max_depth': [2, 3, 4, 5, 6, 7, 8, 9, 10, 11, 12],\n",
              "                         'max_features': ['auto', 'sqrt', 'log2'],\n",
              "                         'min_samples_split': [2, 3, 4, 5, 6, 7, 8, 9, 10],\n",
              "                         'n_estimators': [100, 200]},\n",
              "             scoring='neg_mean_squared_error')"
            ],
            "text/html": [
              "<style>#sk-container-id-6 {color: black;background-color: white;}#sk-container-id-6 pre{padding: 0;}#sk-container-id-6 div.sk-toggleable {background-color: white;}#sk-container-id-6 label.sk-toggleable__label {cursor: pointer;display: block;width: 100%;margin-bottom: 0;padding: 0.3em;box-sizing: border-box;text-align: center;}#sk-container-id-6 label.sk-toggleable__label-arrow:before {content: \"▸\";float: left;margin-right: 0.25em;color: #696969;}#sk-container-id-6 label.sk-toggleable__label-arrow:hover:before {color: black;}#sk-container-id-6 div.sk-estimator:hover label.sk-toggleable__label-arrow:before {color: black;}#sk-container-id-6 div.sk-toggleable__content {max-height: 0;max-width: 0;overflow: hidden;text-align: left;background-color: #f0f8ff;}#sk-container-id-6 div.sk-toggleable__content pre {margin: 0.2em;color: black;border-radius: 0.25em;background-color: #f0f8ff;}#sk-container-id-6 input.sk-toggleable__control:checked~div.sk-toggleable__content {max-height: 200px;max-width: 100%;overflow: auto;}#sk-container-id-6 input.sk-toggleable__control:checked~label.sk-toggleable__label-arrow:before {content: \"▾\";}#sk-container-id-6 div.sk-estimator input.sk-toggleable__control:checked~label.sk-toggleable__label {background-color: #d4ebff;}#sk-container-id-6 div.sk-label input.sk-toggleable__control:checked~label.sk-toggleable__label {background-color: #d4ebff;}#sk-container-id-6 input.sk-hidden--visually {border: 0;clip: rect(1px 1px 1px 1px);clip: rect(1px, 1px, 1px, 1px);height: 1px;margin: -1px;overflow: hidden;padding: 0;position: absolute;width: 1px;}#sk-container-id-6 div.sk-estimator {font-family: monospace;background-color: #f0f8ff;border: 1px dotted black;border-radius: 0.25em;box-sizing: border-box;margin-bottom: 0.5em;}#sk-container-id-6 div.sk-estimator:hover {background-color: #d4ebff;}#sk-container-id-6 div.sk-parallel-item::after {content: \"\";width: 100%;border-bottom: 1px solid gray;flex-grow: 1;}#sk-container-id-6 div.sk-label:hover label.sk-toggleable__label {background-color: #d4ebff;}#sk-container-id-6 div.sk-serial::before {content: \"\";position: absolute;border-left: 1px solid gray;box-sizing: border-box;top: 0;bottom: 0;left: 50%;z-index: 0;}#sk-container-id-6 div.sk-serial {display: flex;flex-direction: column;align-items: center;background-color: white;padding-right: 0.2em;padding-left: 0.2em;position: relative;}#sk-container-id-6 div.sk-item {position: relative;z-index: 1;}#sk-container-id-6 div.sk-parallel {display: flex;align-items: stretch;justify-content: center;background-color: white;position: relative;}#sk-container-id-6 div.sk-item::before, #sk-container-id-6 div.sk-parallel-item::before {content: \"\";position: absolute;border-left: 1px solid gray;box-sizing: border-box;top: 0;bottom: 0;left: 50%;z-index: -1;}#sk-container-id-6 div.sk-parallel-item {display: flex;flex-direction: column;z-index: 1;position: relative;background-color: white;}#sk-container-id-6 div.sk-parallel-item:first-child::after {align-self: flex-end;width: 50%;}#sk-container-id-6 div.sk-parallel-item:last-child::after {align-self: flex-start;width: 50%;}#sk-container-id-6 div.sk-parallel-item:only-child::after {width: 0;}#sk-container-id-6 div.sk-dashed-wrapped {border: 1px dashed gray;margin: 0 0.4em 0.5em 0.4em;box-sizing: border-box;padding-bottom: 0.4em;background-color: white;}#sk-container-id-6 div.sk-label label {font-family: monospace;font-weight: bold;display: inline-block;line-height: 1.2em;}#sk-container-id-6 div.sk-label-container {text-align: center;}#sk-container-id-6 div.sk-container {/* jupyter's `normalize.less` sets `[hidden] { display: none; }` but bootstrap.min.css set `[hidden] { display: none !important; }` so we also need the `!important` here to be able to override the default hidden behavior on the sphinx rendered scikit-learn.org. See: https://github.com/scikit-learn/scikit-learn/issues/21755 */display: inline-block !important;position: relative;}#sk-container-id-6 div.sk-text-repr-fallback {display: none;}</style><div id=\"sk-container-id-6\" class=\"sk-top-container\"><div class=\"sk-text-repr-fallback\"><pre>GridSearchCV(cv=[(array([  0,   1,   2,   3,   4,   5,   6,   7,   8,   9,  10,  11,  12,\n",
              "        13,  14,  15,  16,  17,  18,  19,  20,  21,  22,  23,  24,  25,\n",
              "        26,  27,  28,  29,  30,  31,  32,  33,  34,  35,  36,  37,  38,\n",
              "        39,  40,  41,  42,  43,  44,  45,  46,  47,  48,  49,  50,  51,\n",
              "        52,  53,  54,  55,  56,  57,  58,  59,  60,  61,  62,  63,  64,\n",
              "        65,  66,  67,  68,  69,  70,  71,  72,  73,  74,  75,  76,  77,\n",
              "        78,  79,  80,  81,  82,  83,  84,  85,  86,  87,  88,  89,  90,\n",
              "        91,  92,  93,  94,  95,  96,  97,  98,  99, 100, 101, 102, 103,\n",
              "       104, 105, 106, 107, 108...\n",
              "       2188, 2189, 2190, 2191, 2192, 2193, 2194, 2195, 2196, 2197, 2198,\n",
              "       2199, 2200, 2201, 2202, 2203, 2204, 2205, 2206, 2207, 2208, 2209,\n",
              "       2210]))],\n",
              "             estimator=RandomForestRegressor(random_state=2022), n_jobs=-1,\n",
              "             param_grid={&#x27;max_depth&#x27;: [2, 3, 4, 5, 6, 7, 8, 9, 10, 11, 12],\n",
              "                         &#x27;max_features&#x27;: [&#x27;auto&#x27;, &#x27;sqrt&#x27;, &#x27;log2&#x27;],\n",
              "                         &#x27;min_samples_split&#x27;: [2, 3, 4, 5, 6, 7, 8, 9, 10],\n",
              "                         &#x27;n_estimators&#x27;: [100, 200]},\n",
              "             scoring=&#x27;neg_mean_squared_error&#x27;)</pre><b>In a Jupyter environment, please rerun this cell to show the HTML representation or trust the notebook. <br />On GitHub, the HTML representation is unable to render, please try loading this page with nbviewer.org.</b></div><div class=\"sk-container\" hidden><div class=\"sk-item sk-dashed-wrapped\"><div class=\"sk-label-container\"><div class=\"sk-label sk-toggleable\"><input class=\"sk-toggleable__control sk-hidden--visually\" id=\"sk-estimator-id-12\" type=\"checkbox\" ><label for=\"sk-estimator-id-12\" class=\"sk-toggleable__label sk-toggleable__label-arrow\">GridSearchCV</label><div class=\"sk-toggleable__content\"><pre>GridSearchCV(cv=[(array([  0,   1,   2,   3,   4,   5,   6,   7,   8,   9,  10,  11,  12,\n",
              "        13,  14,  15,  16,  17,  18,  19,  20,  21,  22,  23,  24,  25,\n",
              "        26,  27,  28,  29,  30,  31,  32,  33,  34,  35,  36,  37,  38,\n",
              "        39,  40,  41,  42,  43,  44,  45,  46,  47,  48,  49,  50,  51,\n",
              "        52,  53,  54,  55,  56,  57,  58,  59,  60,  61,  62,  63,  64,\n",
              "        65,  66,  67,  68,  69,  70,  71,  72,  73,  74,  75,  76,  77,\n",
              "        78,  79,  80,  81,  82,  83,  84,  85,  86,  87,  88,  89,  90,\n",
              "        91,  92,  93,  94,  95,  96,  97,  98,  99, 100, 101, 102, 103,\n",
              "       104, 105, 106, 107, 108...\n",
              "       2188, 2189, 2190, 2191, 2192, 2193, 2194, 2195, 2196, 2197, 2198,\n",
              "       2199, 2200, 2201, 2202, 2203, 2204, 2205, 2206, 2207, 2208, 2209,\n",
              "       2210]))],\n",
              "             estimator=RandomForestRegressor(random_state=2022), n_jobs=-1,\n",
              "             param_grid={&#x27;max_depth&#x27;: [2, 3, 4, 5, 6, 7, 8, 9, 10, 11, 12],\n",
              "                         &#x27;max_features&#x27;: [&#x27;auto&#x27;, &#x27;sqrt&#x27;, &#x27;log2&#x27;],\n",
              "                         &#x27;min_samples_split&#x27;: [2, 3, 4, 5, 6, 7, 8, 9, 10],\n",
              "                         &#x27;n_estimators&#x27;: [100, 200]},\n",
              "             scoring=&#x27;neg_mean_squared_error&#x27;)</pre></div></div></div><div class=\"sk-parallel\"><div class=\"sk-parallel-item\"><div class=\"sk-item\"><div class=\"sk-label-container\"><div class=\"sk-label sk-toggleable\"><input class=\"sk-toggleable__control sk-hidden--visually\" id=\"sk-estimator-id-13\" type=\"checkbox\" ><label for=\"sk-estimator-id-13\" class=\"sk-toggleable__label sk-toggleable__label-arrow\">estimator: RandomForestRegressor</label><div class=\"sk-toggleable__content\"><pre>RandomForestRegressor(random_state=2022)</pre></div></div></div><div class=\"sk-serial\"><div class=\"sk-item\"><div class=\"sk-estimator sk-toggleable\"><input class=\"sk-toggleable__control sk-hidden--visually\" id=\"sk-estimator-id-14\" type=\"checkbox\" ><label for=\"sk-estimator-id-14\" class=\"sk-toggleable__label sk-toggleable__label-arrow\">RandomForestRegressor</label><div class=\"sk-toggleable__content\"><pre>RandomForestRegressor(random_state=2022)</pre></div></div></div></div></div></div></div></div></div></div>"
            ]
          },
          "metadata": {},
          "execution_count": 41
        }
      ],
      "source": [
        "grid = GridSearchCV(estimator=clf_rand,\n",
        "                    param_grid=param_grid,\n",
        "                    scoring=\"neg_mean_squared_error\",\n",
        "                    cv=cv_ls,\n",
        "                    n_jobs=-1)\n",
        "\n",
        "grid.fit(X_train_std, y_train)"
      ]
    },
    {
      "cell_type": "code",
      "execution_count": null,
      "metadata": {
        "colab": {
          "base_uri": "https://localhost:8080/"
        },
        "id": "_-MuA9XXb9PW",
        "outputId": "e924f0d5-0c4e-4339-91bb-39cbdfa66a1d"
      },
      "outputs": [
        {
          "output_type": "stream",
          "name": "stdout",
          "text": [
            "-4.58019387085765\n",
            "RandomForestRegressor(max_depth=5, max_features='sqrt', min_samples_split=3,\n",
            "                      random_state=2022)\n"
          ]
        }
      ],
      "source": [
        "print(grid.best_score_)\n",
        "print(grid.best_estimator_)"
      ]
    },
    {
      "cell_type": "code",
      "execution_count": null,
      "metadata": {
        "colab": {
          "base_uri": "https://localhost:8080/",
          "height": 92
        },
        "id": "Z1h2qkHbcWiG",
        "outputId": "6342ce4b-d317-41f6-d2d2-551566e2da27"
      },
      "outputs": [
        {
          "output_type": "execute_result",
          "data": {
            "text/plain": [
              "RandomForestRegressor(max_depth=5, max_features='sqrt', min_samples_split=3,\n",
              "                      random_state=2022)"
            ],
            "text/html": [
              "<style>#sk-container-id-17 {color: black;background-color: white;}#sk-container-id-17 pre{padding: 0;}#sk-container-id-17 div.sk-toggleable {background-color: white;}#sk-container-id-17 label.sk-toggleable__label {cursor: pointer;display: block;width: 100%;margin-bottom: 0;padding: 0.3em;box-sizing: border-box;text-align: center;}#sk-container-id-17 label.sk-toggleable__label-arrow:before {content: \"▸\";float: left;margin-right: 0.25em;color: #696969;}#sk-container-id-17 label.sk-toggleable__label-arrow:hover:before {color: black;}#sk-container-id-17 div.sk-estimator:hover label.sk-toggleable__label-arrow:before {color: black;}#sk-container-id-17 div.sk-toggleable__content {max-height: 0;max-width: 0;overflow: hidden;text-align: left;background-color: #f0f8ff;}#sk-container-id-17 div.sk-toggleable__content pre {margin: 0.2em;color: black;border-radius: 0.25em;background-color: #f0f8ff;}#sk-container-id-17 input.sk-toggleable__control:checked~div.sk-toggleable__content {max-height: 200px;max-width: 100%;overflow: auto;}#sk-container-id-17 input.sk-toggleable__control:checked~label.sk-toggleable__label-arrow:before {content: \"▾\";}#sk-container-id-17 div.sk-estimator input.sk-toggleable__control:checked~label.sk-toggleable__label {background-color: #d4ebff;}#sk-container-id-17 div.sk-label input.sk-toggleable__control:checked~label.sk-toggleable__label {background-color: #d4ebff;}#sk-container-id-17 input.sk-hidden--visually {border: 0;clip: rect(1px 1px 1px 1px);clip: rect(1px, 1px, 1px, 1px);height: 1px;margin: -1px;overflow: hidden;padding: 0;position: absolute;width: 1px;}#sk-container-id-17 div.sk-estimator {font-family: monospace;background-color: #f0f8ff;border: 1px dotted black;border-radius: 0.25em;box-sizing: border-box;margin-bottom: 0.5em;}#sk-container-id-17 div.sk-estimator:hover {background-color: #d4ebff;}#sk-container-id-17 div.sk-parallel-item::after {content: \"\";width: 100%;border-bottom: 1px solid gray;flex-grow: 1;}#sk-container-id-17 div.sk-label:hover label.sk-toggleable__label {background-color: #d4ebff;}#sk-container-id-17 div.sk-serial::before {content: \"\";position: absolute;border-left: 1px solid gray;box-sizing: border-box;top: 0;bottom: 0;left: 50%;z-index: 0;}#sk-container-id-17 div.sk-serial {display: flex;flex-direction: column;align-items: center;background-color: white;padding-right: 0.2em;padding-left: 0.2em;position: relative;}#sk-container-id-17 div.sk-item {position: relative;z-index: 1;}#sk-container-id-17 div.sk-parallel {display: flex;align-items: stretch;justify-content: center;background-color: white;position: relative;}#sk-container-id-17 div.sk-item::before, #sk-container-id-17 div.sk-parallel-item::before {content: \"\";position: absolute;border-left: 1px solid gray;box-sizing: border-box;top: 0;bottom: 0;left: 50%;z-index: -1;}#sk-container-id-17 div.sk-parallel-item {display: flex;flex-direction: column;z-index: 1;position: relative;background-color: white;}#sk-container-id-17 div.sk-parallel-item:first-child::after {align-self: flex-end;width: 50%;}#sk-container-id-17 div.sk-parallel-item:last-child::after {align-self: flex-start;width: 50%;}#sk-container-id-17 div.sk-parallel-item:only-child::after {width: 0;}#sk-container-id-17 div.sk-dashed-wrapped {border: 1px dashed gray;margin: 0 0.4em 0.5em 0.4em;box-sizing: border-box;padding-bottom: 0.4em;background-color: white;}#sk-container-id-17 div.sk-label label {font-family: monospace;font-weight: bold;display: inline-block;line-height: 1.2em;}#sk-container-id-17 div.sk-label-container {text-align: center;}#sk-container-id-17 div.sk-container {/* jupyter's `normalize.less` sets `[hidden] { display: none; }` but bootstrap.min.css set `[hidden] { display: none !important; }` so we also need the `!important` here to be able to override the default hidden behavior on the sphinx rendered scikit-learn.org. See: https://github.com/scikit-learn/scikit-learn/issues/21755 */display: inline-block !important;position: relative;}#sk-container-id-17 div.sk-text-repr-fallback {display: none;}</style><div id=\"sk-container-id-17\" class=\"sk-top-container\"><div class=\"sk-text-repr-fallback\"><pre>RandomForestRegressor(max_depth=5, max_features=&#x27;sqrt&#x27;, min_samples_split=3,\n",
              "                      random_state=2022)</pre><b>In a Jupyter environment, please rerun this cell to show the HTML representation or trust the notebook. <br />On GitHub, the HTML representation is unable to render, please try loading this page with nbviewer.org.</b></div><div class=\"sk-container\" hidden><div class=\"sk-item\"><div class=\"sk-estimator sk-toggleable\"><input class=\"sk-toggleable__control sk-hidden--visually\" id=\"sk-estimator-id-25\" type=\"checkbox\" checked><label for=\"sk-estimator-id-25\" class=\"sk-toggleable__label sk-toggleable__label-arrow\">RandomForestRegressor</label><div class=\"sk-toggleable__content\"><pre>RandomForestRegressor(max_depth=5, max_features=&#x27;sqrt&#x27;, min_samples_split=3,\n",
              "                      random_state=2022)</pre></div></div></div></div></div>"
            ]
          },
          "metadata": {},
          "execution_count": 117
        }
      ],
      "source": [
        "opt_clf_rand = RandomForestRegressor(max_depth=5, max_features='sqrt', min_samples_split=3,random_state=2022)\n",
        "opt_clf_rand.fit(X_train_std, y_train)"
      ]
    },
    {
      "cell_type": "code",
      "execution_count": null,
      "metadata": {
        "id": "FQ6NQeO9cWgN"
      },
      "outputs": [],
      "source": [
        "y_train_opt_clf_rand = opt_clf_rand.predict(X_train_std)\n",
        "y_val_opt_clf_rand = opt_clf_rand.predict(X_val_std)"
      ]
    },
    {
      "cell_type": "code",
      "execution_count": null,
      "metadata": {
        "colab": {
          "base_uri": "https://localhost:8080/"
        },
        "id": "iM5JQFWZcWeP",
        "outputId": "b8a67332-df03-436a-a54c-c64519fa49e3"
      },
      "outputs": [
        {
          "output_type": "stream",
          "name": "stdout",
          "text": [
            "R-Square Train:  0.7695834734887708\n",
            "R-Square Validation:  0.39797059902898035\n",
            "==================================================\n",
            "MAE Train:  1.0743004654749078\n",
            "MAE Validation:  1.5454325725163625\n",
            "==================================================\n"
          ]
        }
      ],
      "source": [
        "print(\"R-Square Train: \", r2_score(y_train, y_train_opt_clf_rand))\n",
        "print(\"R-Square Validation: \", r2_score(y_val, y_val_opt_clf_rand))\n",
        "print(\"=\"*50)\n",
        "print(\"MAE Train: \", mean_absolute_error(y_train, y_train_opt_clf_rand))\n",
        "print(\"MAE Validation: \", mean_absolute_error(y_val, y_val_opt_clf_rand))\n",
        "print(\"=\"*50)"
      ]
    },
    {
      "cell_type": "markdown",
      "source": [
        "##Conclusion for Regression model"
      ],
      "metadata": {
        "id": "cA3LabimqE1M"
      }
    },
    {
      "cell_type": "markdown",
      "source": [
        "\n",
        "| Model                    | R-Square Train | R-Square Validation | MAE Train | MAE Validation |\n",
        "|--------------------------|----------------|---------------------|-----------|----------------|\n",
        "| Random Forrest model     |      0.769     |       0.397         |   1.074   |     1.545      |\n",
        "| Decision Tree regressor model |   0.697        |       0.366         |   1.167   |     1.647      |\n",
        "| Liner Regression Model (Lasso polynomial with alpha effect) |  0.432 |   0.333   | 1.723 | 1.620 |\n",
        "\n",
        "In this table, the models are sorted based on the R-Square Validation in descending order, with the highest R-Square Validation at the top and the lowest at the bottom.\n",
        "\n",
        "* From the results of the modeling, it was found that the best value came from Random Forrest .However, the prediction of temperature with regression gives R-square less than 0.5 and it difficult to predict accurately because the temperature is continuous value.So I will discretize temperature to a discrete value and predict it with classification that may be meaningful.\n",
        "\n",
        "\n"
      ],
      "metadata": {
        "id": "M5jn8J9mqKdc"
      }
    },
    {
      "cell_type": "code",
      "source": [],
      "metadata": {
        "id": "sq4fKP9pxcX-"
      },
      "execution_count": null,
      "outputs": []
    },
    {
      "cell_type": "code",
      "source": [],
      "metadata": {
        "id": "JV8o3e5bxoAX"
      },
      "execution_count": null,
      "outputs": []
    },
    {
      "cell_type": "code",
      "source": [],
      "metadata": {
        "id": "ieJsOuSlxn9u"
      },
      "execution_count": null,
      "outputs": []
    },
    {
      "cell_type": "markdown",
      "source": [
        "#Classification"
      ],
      "metadata": {
        "id": "XkKDD1gBxoyf"
      }
    },
    {
      "cell_type": "code",
      "source": [
        "#Discretize label columns\n",
        "df_train[\"Temp_Class\"] = get_classs_temps(df_train[\"Indoor_temperature_room\"].values)"
      ],
      "metadata": {
        "id": "cVY0LHq2-F1C"
      },
      "execution_count": null,
      "outputs": []
    },
    {
      "cell_type": "code",
      "source": [
        "df_train[\"Temp_Class\"].value_counts()"
      ],
      "metadata": {
        "colab": {
          "base_uri": "https://localhost:8080/"
        },
        "id": "UsRWYvX5-VRy",
        "outputId": "5a7dd1f3-ad91-47eb-d38d-a4db436d0e7b"
      },
      "execution_count": null,
      "outputs": [
        {
          "output_type": "execute_result",
          "data": {
            "text/plain": [
              "0    1805\n",
              "1     959\n",
              "Name: Temp_Class, dtype: int64"
            ]
          },
          "metadata": {},
          "execution_count": 138
        }
      ]
    },
    {
      "cell_type": "code",
      "source": [
        "df_train[\"Temp_Class\"].value_counts(normalize=True)"
      ],
      "metadata": {
        "colab": {
          "base_uri": "https://localhost:8080/"
        },
        "id": "XywMx3al-O0L",
        "outputId": "e0be4a35-90b4-48a7-8780-65b8834238dc"
      },
      "execution_count": null,
      "outputs": [
        {
          "output_type": "execute_result",
          "data": {
            "text/plain": [
              "0    0.653039\n",
              "1    0.346961\n",
              "Name: Temp_Class, dtype: float64"
            ]
          },
          "metadata": {},
          "execution_count": 139
        }
      ]
    },
    {
      "cell_type": "code",
      "source": [
        "#Define features columns\n",
        "FEATURES_COLUMNS = [\n",
        "    \"CO2_room\",\n",
        "    \"Relative_humidity_room\",\n",
        "    \"Meteo_Sun_irradiance\",\n",
        "    'Meteo_Rain',\n",
        "    'Meteo_Sun_dusk',\n",
        "    'Meteo_Wind',\n",
        "    'Meteo_Sun_light_in_west_facade',\n",
        "    'Meteo_Sun_light_in_east_facade',\n",
        "    'Outdoor_relative_humidity_Sensor',\n",
        "    'Day_of_the_week'\n",
        "]"
      ],
      "metadata": {
        "id": "m8UFQdgs_ELK"
      },
      "execution_count": null,
      "outputs": []
    },
    {
      "cell_type": "code",
      "source": [
        "#Define X_train,X_val,y_train,y_val\n",
        "df_train_prepared, df_valid_prepared = split_train_test2(df_train, FEATURES_COLUMNS, train_size=0.8)\n",
        "print(f\"Train shape: {df_train_prepared.shape}\")\n",
        "print(f\"Val shape: {df_valid_prepared.shape}\")\n",
        "\n",
        "X_train = df_train_prepared[FEATURES_COLUMNS].values\n",
        "X_val = df_valid_prepared[FEATURES_COLUMNS].values\n",
        "\n",
        "y_train = df_train_prepared[\"Temp_Class\"].values\n",
        "y_val = df_valid_prepared[\"Temp_Class\"].values\n",
        "\n",
        "print(f\"X Train shape: {X_train.shape}\")\n",
        "print(f\"X Val shape: {X_val.shape}\")\n",
        "print(f\"Y Train shape: {y_train.shape}\")\n",
        "print(f\"Y Val shape: {y_val.shape}\")"
      ],
      "metadata": {
        "colab": {
          "base_uri": "https://localhost:8080/"
        },
        "id": "UUKqOFUw-_4K",
        "outputId": "ea1204d2-3e92-4009-ff87-cc216e471d07"
      },
      "execution_count": null,
      "outputs": [
        {
          "output_type": "stream",
          "name": "stdout",
          "text": [
            "Train shape: (2211, 13)\n",
            "Val shape: (553, 13)\n",
            "X Train shape: (2211, 10)\n",
            "X Val shape: (553, 10)\n",
            "Y Train shape: (2211,)\n",
            "Y Val shape: (553,)\n"
          ]
        }
      ]
    },
    {
      "cell_type": "code",
      "source": [
        "sns.countplot(data=df_train_prepared, y=\"Temp_Class\")"
      ],
      "metadata": {
        "colab": {
          "base_uri": "https://localhost:8080/",
          "height": 466
        },
        "id": "82YResh2-nkK",
        "outputId": "16198c0d-fe44-4759-bf98-5b8205542cd4"
      },
      "execution_count": null,
      "outputs": [
        {
          "output_type": "execute_result",
          "data": {
            "text/plain": [
              "<Axes: xlabel='count', ylabel='Temp_Class'>"
            ]
          },
          "metadata": {},
          "execution_count": 141
        },
        {
          "output_type": "display_data",
          "data": {
            "text/plain": [
              "<Figure size 640x480 with 1 Axes>"
            ],
            "image/png": "[encoded data removed]"
          },
          "metadata": {}
        }
      ]
    },
    {
      "cell_type": "code",
      "source": [
        "X_train_rand, y_train_rand = do_rand(X_train, y_train)\n",
        "X_train_smote, y_train_smote = do_smote(X_train, y_train)\n",
        "X_train_bord, y_train_bord = do_bord(X_train, y_train)\n",
        "X_train_adasyn, y_train_adasyn = do_adasyn(X_train, y_train)"
      ],
      "metadata": {
        "id": "1Rqg9xpXAbrz"
      },
      "execution_count": null,
      "outputs": []
    },
    {
      "cell_type": "code",
      "source": [],
      "metadata": {
        "id": "FVCk7oO1BSbK"
      },
      "execution_count": null,
      "outputs": []
    },
    {
      "cell_type": "markdown",
      "source": [
        "##Model 1 (DecisionTreeClassifier)"
      ],
      "metadata": {
        "id": "dd1VhDZrJrZK"
      }
    },
    {
      "cell_type": "code",
      "source": [
        "from sklearn.tree import DecisionTreeClassifier\n",
        "import sklearn\n",
        "from sklearn.metrics import *\n",
        "from sklearn.model_selection import GridSearchCV"
      ],
      "metadata": {
        "id": "prpF9k9uBmPP"
      },
      "execution_count": null,
      "outputs": []
    },
    {
      "cell_type": "code",
      "source": [
        "param_grid = {'max_depth': [4, 5, 6, 7, 8, 9, 10, 11, 12]}"
      ],
      "metadata": {
        "id": "bCGzlBcNBmPP"
      },
      "execution_count": null,
      "outputs": []
    },
    {
      "cell_type": "markdown",
      "source": [
        "### Random Oversampling"
      ],
      "metadata": {
        "id": "GpQPweHmxNJx"
      }
    },
    {
      "cell_type": "code",
      "source": [
        "clf_tree = DecisionTreeClassifier(random_state=2022)\n",
        "grid = GridSearchCV(estimator=clf_tree,\n",
        "                    param_grid=param_grid,\n",
        "                    scoring=\"roc_auc\",\n",
        "                    n_jobs=-1)\n",
        "\n",
        "grid.fit(X_train_rand, y_train_rand)\n",
        "print(grid.best_score_)\n",
        "print(grid.best_estimator_.max_depth)"
      ],
      "metadata": {
        "colab": {
          "base_uri": "https://localhost:8080/"
        },
        "outputId": "4726bf04-2298-4191-e0f1-6904efe2fe37",
        "id": "Dy6ddwrfBmPQ"
      },
      "execution_count": null,
      "outputs": [
        {
          "output_type": "stream",
          "name": "stdout",
          "text": [
            "0.7961297049598236\n",
            "5\n"
          ]
        }
      ]
    },
    {
      "cell_type": "code",
      "source": [
        "opt_clf_tree = DecisionTreeClassifier(max_depth=grid.best_estimator_.max_depth, random_state=2022)\n",
        "opt_clf_tree.fit(X_train_rand, y_train_rand)\n",
        "\n",
        "y_train_opt_clf_tree = opt_clf_tree.predict(X_train_rand)\n",
        "y_val_opt_clf_tree = opt_clf_tree.predict(X_val)\n",
        "\n",
        "print(classification_report(y_train_rand, y_train_opt_clf_tree, target_names=[\"Temp < 20\", \"Temp >= 20\"]))\n",
        "print(classification_report(y_val, y_val_opt_clf_tree, target_names=[\"Temp < 20\", \"Temp >= 20\"]))\n",
        "\n",
        "\n",
        "y_train_opt_clf_tree_prob = opt_clf_tree.predict_proba(X_train_rand)\n",
        "y_val_opt_clf_tree_prob = opt_clf_tree.predict_proba(X_val)\n",
        "\n",
        "\n",
        "print(f\"ROC AUC Score Train: {roc_auc_score(y_train_rand, y_train_opt_clf_tree_prob[:, 1]) * 100:.4f} %\")\n",
        "print(f\"ROC AUC Score Val: {roc_auc_score(y_val, y_val_opt_clf_tree_prob[:, 1]) * 100:.4f} %\")"
      ],
      "metadata": {
        "colab": {
          "base_uri": "https://localhost:8080/"
        },
        "outputId": "37d06acc-6fce-4fee-8072-269c115f37a7",
        "id": "EbLjFqoUBmPQ"
      },
      "execution_count": null,
      "outputs": [
        {
          "output_type": "stream",
          "name": "stdout",
          "text": [
            "              precision    recall  f1-score   support\n",
            "\n",
            "   Temp < 20       0.80      0.94      0.86      1464\n",
            "  Temp >= 20       0.92      0.76      0.83      1464\n",
            "\n",
            "    accuracy                           0.85      2928\n",
            "   macro avg       0.86      0.85      0.85      2928\n",
            "weighted avg       0.86      0.85      0.85      2928\n",
            "\n",
            "              precision    recall  f1-score   support\n",
            "\n",
            "   Temp < 20       0.64      1.00      0.78       341\n",
            "  Temp >= 20       1.00      0.09      0.17       212\n",
            "\n",
            "    accuracy                           0.65       553\n",
            "   macro avg       0.82      0.55      0.48       553\n",
            "weighted avg       0.78      0.65      0.55       553\n",
            "\n",
            "ROC AUC Score Train: 92.5730 %\n",
            "ROC AUC Score Val: 39.4857 %\n"
          ]
        }
      ]
    },
    {
      "cell_type": "code",
      "source": [],
      "metadata": {
        "id": "sWiocsopsS70"
      },
      "execution_count": null,
      "outputs": []
    },
    {
      "cell_type": "markdown",
      "source": [
        "### SMOTE - Synthetic Minority Over-sampling Technique"
      ],
      "metadata": {
        "id": "DAj12xFxxvYE"
      }
    },
    {
      "cell_type": "code",
      "source": [
        "clf_tree = DecisionTreeClassifier(random_state=2022)\n",
        "grid = GridSearchCV(estimator=clf_tree,\n",
        "                    param_grid=param_grid,\n",
        "                    scoring=\"roc_auc\",\n",
        "                    n_jobs=-1)\n",
        "\n",
        "grid.fit(X_train_smote, y_train_smote)\n",
        "print(grid.best_score_)\n",
        "print(grid.best_estimator_.max_depth)"
      ],
      "metadata": {
        "colab": {
          "base_uri": "https://localhost:8080/"
        },
        "id": "JXw2FrDdxvOy",
        "outputId": "1cfcec5b-8a10-44d8-acf9-866db0e79db9"
      },
      "execution_count": null,
      "outputs": [
        {
          "output_type": "stream",
          "name": "stdout",
          "text": [
            "0.758966089232496\n",
            "6\n"
          ]
        }
      ]
    },
    {
      "cell_type": "code",
      "source": [
        "opt_clf_tree = DecisionTreeClassifier(max_depth=grid.best_estimator_.max_depth, random_state=2022)\n",
        "opt_clf_tree.fit(X_train_smote, y_train_smote)\n",
        "\n",
        "y_train_opt_clf_tree = opt_clf_tree.predict(X_train_smote)\n",
        "y_val_opt_clf_tree = opt_clf_tree.predict(X_val)\n",
        "\n",
        "print(classification_report(y_train_smote, y_train_opt_clf_tree, target_names=[\"Temp < 20\", \"Temp >= 20\"]))\n",
        "print(classification_report(y_val, y_val_opt_clf_tree, target_names=[\"Temp < 20\", \"Temp >= 20\"]))\n",
        "\n",
        "\n",
        "y_train_opt_clf_tree_prob = opt_clf_tree.predict_proba(X_train_smote)\n",
        "y_val_opt_clf_tree_prob = opt_clf_tree.predict_proba(X_val)\n",
        "\n",
        "\n",
        "print(f\"ROC AUC Score Train: {roc_auc_score(y_train_smote, y_train_opt_clf_tree_prob[:, 1]) * 100:.4f} %\")\n",
        "print(f\"ROC AUC Score Val: {roc_auc_score(y_val, y_val_opt_clf_tree_prob[:, 1]) * 100:.4f} %\")"
      ],
      "metadata": {
        "colab": {
          "base_uri": "https://localhost:8080/"
        },
        "id": "yY-F-TACxvMl",
        "outputId": "1b3fa59f-0805-41b3-b705-de7355123d1d"
      },
      "execution_count": null,
      "outputs": [
        {
          "output_type": "stream",
          "name": "stdout",
          "text": [
            "              precision    recall  f1-score   support\n",
            "\n",
            "   Temp < 20       0.89      0.92      0.90      1464\n",
            "  Temp >= 20       0.92      0.88      0.90      1464\n",
            "\n",
            "    accuracy                           0.90      2928\n",
            "   macro avg       0.90      0.90      0.90      2928\n",
            "weighted avg       0.90      0.90      0.90      2928\n",
            "\n",
            "              precision    recall  f1-score   support\n",
            "\n",
            "   Temp < 20       0.67      0.97      0.79       341\n",
            "  Temp >= 20       0.84      0.23      0.36       212\n",
            "\n",
            "    accuracy                           0.69       553\n",
            "   macro avg       0.76      0.60      0.58       553\n",
            "weighted avg       0.74      0.69      0.63       553\n",
            "\n",
            "ROC AUC Score Train: 95.9693 %\n",
            "ROC AUC Score Val: 43.2420 %\n"
          ]
        }
      ]
    },
    {
      "cell_type": "markdown",
      "source": [
        "### Borderline SMOTE"
      ],
      "metadata": {
        "id": "jmrnxJULCFol"
      }
    },
    {
      "cell_type": "code",
      "source": [
        "clf_tree = DecisionTreeClassifier(random_state=2022)\n",
        "grid = GridSearchCV(estimator=clf_tree,\n",
        "                    param_grid=param_grid,\n",
        "                    scoring=\"roc_auc\",\n",
        "                    n_jobs=-1)\n",
        "\n",
        "grid.fit(X_train_bord, y_train_bord)\n",
        "print(grid.best_score_)\n",
        "print(grid.best_estimator_.max_depth)"
      ],
      "metadata": {
        "colab": {
          "base_uri": "https://localhost:8080/"
        },
        "id": "FhXN080PCE0E",
        "outputId": "0f609b31-3d3c-4743-9306-41149035d570"
      },
      "execution_count": null,
      "outputs": [
        {
          "output_type": "stream",
          "name": "stdout",
          "text": [
            "0.7560027386409748\n",
            "6\n"
          ]
        }
      ]
    },
    {
      "cell_type": "code",
      "source": [
        "opt_clf_tree = DecisionTreeClassifier(max_depth=grid.best_estimator_.max_depth, random_state=2022)\n",
        "opt_clf_tree.fit(X_train_bord, y_train_bord)\n",
        "\n",
        "y_train_opt_clf_tree = opt_clf_tree.predict(X_train_bord)\n",
        "y_val_opt_clf_tree = opt_clf_tree.predict(X_val)\n",
        "\n",
        "print(classification_report(y_train_bord, y_train_opt_clf_tree, target_names=[\"Temp < 20\", \"Temp >= 20\"]))\n",
        "print(classification_report(y_val, y_val_opt_clf_tree, target_names=[\"Temp < 20\", \"Temp >= 20\"]))\n",
        "\n",
        "\n",
        "y_train_opt_clf_tree_prob = opt_clf_tree.predict_proba(X_train_bord)\n",
        "y_val_opt_clf_tree_prob = opt_clf_tree.predict_proba(X_val)\n",
        "\n",
        "\n",
        "print(f\"ROC AUC Score Train: {roc_auc_score(y_train_bord, y_train_opt_clf_tree_prob[:, 1]) * 100:.4f} %\")\n",
        "print(f\"ROC AUC Score Val: {roc_auc_score(y_val, y_val_opt_clf_tree_prob[:, 1]) * 100:.4f} %\")"
      ],
      "metadata": {
        "colab": {
          "base_uri": "https://localhost:8080/"
        },
        "id": "QoJQlZs9CEvB",
        "outputId": "41fbaff0-4ac0-496f-88c9-fd4765fd89f5"
      },
      "execution_count": null,
      "outputs": [
        {
          "output_type": "stream",
          "name": "stdout",
          "text": [
            "              precision    recall  f1-score   support\n",
            "\n",
            "   Temp < 20       0.92      0.87      0.90      1464\n",
            "  Temp >= 20       0.88      0.92      0.90      1464\n",
            "\n",
            "    accuracy                           0.90      2928\n",
            "   macro avg       0.90      0.90      0.90      2928\n",
            "weighted avg       0.90      0.90      0.90      2928\n",
            "\n",
            "              precision    recall  f1-score   support\n",
            "\n",
            "   Temp < 20       0.65      0.96      0.78       341\n",
            "  Temp >= 20       0.73      0.17      0.27       212\n",
            "\n",
            "    accuracy                           0.66       553\n",
            "   macro avg       0.69      0.56      0.52       553\n",
            "weighted avg       0.68      0.66      0.58       553\n",
            "\n",
            "ROC AUC Score Train: 95.7013 %\n",
            "ROC AUC Score Val: 49.1202 %\n"
          ]
        }
      ]
    },
    {
      "cell_type": "code",
      "source": [],
      "metadata": {
        "id": "t2YD3YSDCEqC"
      },
      "execution_count": null,
      "outputs": []
    },
    {
      "cell_type": "markdown",
      "source": [
        "### Adaptive Synthetic (ADASYN) algorithm"
      ],
      "metadata": {
        "id": "OcYbAwhPx_3h"
      }
    },
    {
      "cell_type": "code",
      "source": [
        "clf_tree = DecisionTreeClassifier(random_state=2022)\n",
        "grid = GridSearchCV(estimator=clf_tree,\n",
        "                    param_grid=param_grid,\n",
        "                    scoring=\"roc_auc\",\n",
        "                    n_jobs=-1)\n",
        "\n",
        "grid.fit(X_train_adasyn, y_train_adasyn)\n",
        "print(grid.best_score_)\n",
        "print(grid.best_estimator_.max_depth)"
      ],
      "metadata": {
        "colab": {
          "base_uri": "https://localhost:8080/"
        },
        "id": "7d3B4mj7xvIf",
        "outputId": "5a84b2c4-beb6-47f9-cb95-103f01c9b021"
      },
      "execution_count": null,
      "outputs": [
        {
          "output_type": "stream",
          "name": "stdout",
          "text": [
            "0.7516845136660737\n",
            "7\n"
          ]
        }
      ]
    },
    {
      "cell_type": "code",
      "source": [
        "opt_clf_tree = DecisionTreeClassifier(max_depth=grid.best_estimator_.max_depth, random_state=2022)\n",
        "opt_clf_tree.fit(X_train_adasyn, y_train_adasyn)\n",
        "\n",
        "y_train_opt_clf_tree = opt_clf_tree.predict(X_train_adasyn)\n",
        "y_val_opt_clf_tree = opt_clf_tree.predict(X_val)\n",
        "\n",
        "print(classification_report(y_train_adasyn, y_train_opt_clf_tree, target_names=[\"Temp < 20\", \"Temp >= 20\"]))\n",
        "print(classification_report(y_val, y_val_opt_clf_tree, target_names=[\"Temp < 20\", \"Temp >= 20\"]))\n",
        "\n",
        "\n",
        "y_train_opt_clf_tree_prob = opt_clf_tree.predict_proba(X_train_adasyn)\n",
        "y_val_opt_clf_tree_prob = opt_clf_tree.predict_proba(X_val)\n",
        "\n",
        "\n",
        "print(f\"ROC AUC Score Train: {roc_auc_score(y_train_adasyn, y_train_opt_clf_tree_prob[:, 1]) * 100:.4f} %\")\n",
        "print(f\"ROC AUC Score Val: {roc_auc_score(y_val, y_val_opt_clf_tree_prob[:, 1]) * 100:.4f} %\")"
      ],
      "metadata": {
        "colab": {
          "base_uri": "https://localhost:8080/"
        },
        "id": "9nDR6MWoxvGf",
        "outputId": "9abcb6d7-7206-40df-ccd2-2c506fee49e2"
      },
      "execution_count": null,
      "outputs": [
        {
          "output_type": "stream",
          "name": "stdout",
          "text": [
            "              precision    recall  f1-score   support\n",
            "\n",
            "   Temp < 20       0.95      0.93      0.94      1464\n",
            "  Temp >= 20       0.93      0.95      0.94      1452\n",
            "\n",
            "    accuracy                           0.94      2916\n",
            "   macro avg       0.94      0.94      0.94      2916\n",
            "weighted avg       0.94      0.94      0.94      2916\n",
            "\n",
            "              precision    recall  f1-score   support\n",
            "\n",
            "   Temp < 20       0.84      0.71      0.77       341\n",
            "  Temp >= 20       0.63      0.78      0.69       212\n",
            "\n",
            "    accuracy                           0.74       553\n",
            "   macro avg       0.73      0.75      0.73       553\n",
            "weighted avg       0.76      0.74      0.74       553\n",
            "\n",
            "ROC AUC Score Train: 98.1003 %\n",
            "ROC AUC Score Val: 72.5620 %\n"
          ]
        }
      ]
    },
    {
      "cell_type": "code",
      "source": [],
      "metadata": {
        "id": "xYH1B53nH6nd"
      },
      "execution_count": null,
      "outputs": []
    },
    {
      "cell_type": "markdown",
      "source": [
        "##Model 2 (Random Forest)"
      ],
      "metadata": {
        "id": "kbEVQ6EDH610"
      }
    },
    {
      "cell_type": "code",
      "source": [
        "from sklearn.ensemble import RandomForestClassifier"
      ],
      "metadata": {
        "id": "QxNrKgLCH610"
      },
      "execution_count": null,
      "outputs": []
    },
    {
      "cell_type": "code",
      "source": [
        "clf_rand = RandomForestClassifier(random_state=2022)"
      ],
      "metadata": {
        "id": "t4bVhNzaH610"
      },
      "execution_count": null,
      "outputs": []
    },
    {
      "cell_type": "code",
      "source": [
        "param_grid = {\n",
        "    'n_estimators': [100,200],\n",
        "    'max_depth': [5, 6, 7, 8, 9, 10, 11, 12],\n",
        "    'min_samples_split': [2, 3, 4, 5, 6, 7, 8, 9, 10],\n",
        "    'max_features': [\"auto\", \"sqrt\", \"log2\"]}"
      ],
      "metadata": {
        "id": "y5NEsJXSH611"
      },
      "execution_count": null,
      "outputs": []
    },
    {
      "cell_type": "code",
      "source": [
        "grid = GridSearchCV(estimator=clf_rand,\n",
        "                    param_grid=param_grid,\n",
        "                    scoring=\"roc_auc\",\n",
        "                    cv=cv_ls,\n",
        "                    n_jobs=-1)\n",
        "\n",
        "grid.fit(X_train_adasyn, y_train_adasyn)"
      ],
      "metadata": {
        "colab": {
          "base_uri": "https://localhost:8080/",
          "height": 152
        },
        "outputId": "08d75e25-09cd-4533-a971-52ca444c4d7c",
        "id": "AkfyBtMAH611"
      },
      "execution_count": null,
      "outputs": [
        {
          "output_type": "stream",
          "name": "stderr",
          "text": [
            "/usr/local/lib/python3.10/dist-packages/sklearn/model_selection/_search.py:952: UserWarning: One or more of the test scores are non-finite: [nan nan nan nan nan nan nan nan nan]\n",
            "  warnings.warn(\n"
          ]
        },
        {
          "output_type": "execute_result",
          "data": {
            "text/plain": [
              "GridSearchCV(cv=[(array([  0,   1,   2,   3,   4,   5,   6,   7,   8,   9,  10,  11,  12,\n",
              "        13,  14,  15,  16,  17,  18,  19,  20,  21,  22,  23,  24,  25,\n",
              "        26,  27,  28,  29,  30,  31,  32,  33,  34,  35,  36,  37,  38,\n",
              "        39,  40,  41,  42,  43,  44,  45,  46,  47,  48,  49,  50,  51,\n",
              "        52,  53,  54,  55,  56,  57,  58,  59,  60,  61,  62,  63,  64,\n",
              "        65,  66,  67,  68,  69,  70,  71,  72,  73,  74,  75,  76,  77,\n",
              "        78,  79,  80,  81,  82,  83,  84,  85,  86,  87,  88,  89,  90,\n",
              "        91,  92,  93,  94,  95,  96,  97,  98,  99, 100, 101, 102, 103,\n",
              "       104, 105, 106, 107, 108...\n",
              "       2871, 2872, 2873, 2874, 2875, 2876, 2877, 2878, 2879, 2880, 2881,\n",
              "       2882, 2883, 2884, 2885, 2886, 2887, 2888, 2889, 2890, 2891, 2892,\n",
              "       2893, 2894, 2895, 2896, 2897, 2898, 2899, 2900, 2901, 2902, 2903,\n",
              "       2904, 2905, 2906, 2907, 2908, 2909, 2910, 2911, 2912, 2913, 2914,\n",
              "       2915]))],\n",
              "             estimator=RandomForestClassifier(random_state=2022), n_jobs=-1,\n",
              "             param_grid={'max_depth': [4, 5, 6, 7, 8, 9, 10, 11, 12]},\n",
              "             scoring='roc_auc')"
            ],
            "text/html": [
              "<style>#sk-container-id-1 {color: black;background-color: white;}#sk-container-id-1 pre{padding: 0;}#sk-container-id-1 div.sk-toggleable {background-color: white;}#sk-container-id-1 label.sk-toggleable__label {cursor: pointer;display: block;width: 100%;margin-bottom: 0;padding: 0.3em;box-sizing: border-box;text-align: center;}#sk-container-id-1 label.sk-toggleable__label-arrow:before {content: \"▸\";float: left;margin-right: 0.25em;color: #696969;}#sk-container-id-1 label.sk-toggleable__label-arrow:hover:before {color: black;}#sk-container-id-1 div.sk-estimator:hover label.sk-toggleable__label-arrow:before {color: black;}#sk-container-id-1 div.sk-toggleable__content {max-height: 0;max-width: 0;overflow: hidden;text-align: left;background-color: #f0f8ff;}#sk-container-id-1 div.sk-toggleable__content pre {margin: 0.2em;color: black;border-radius: 0.25em;background-color: #f0f8ff;}#sk-container-id-1 input.sk-toggleable__control:checked~div.sk-toggleable__content {max-height: 200px;max-width: 100%;overflow: auto;}#sk-container-id-1 input.sk-toggleable__control:checked~label.sk-toggleable__label-arrow:before {content: \"▾\";}#sk-container-id-1 div.sk-estimator input.sk-toggleable__control:checked~label.sk-toggleable__label {background-color: #d4ebff;}#sk-container-id-1 div.sk-label input.sk-toggleable__control:checked~label.sk-toggleable__label {background-color: #d4ebff;}#sk-container-id-1 input.sk-hidden--visually {border: 0;clip: rect(1px 1px 1px 1px);clip: rect(1px, 1px, 1px, 1px);height: 1px;margin: -1px;overflow: hidden;padding: 0;position: absolute;width: 1px;}#sk-container-id-1 div.sk-estimator {font-family: monospace;background-color: #f0f8ff;border: 1px dotted black;border-radius: 0.25em;box-sizing: border-box;margin-bottom: 0.5em;}#sk-container-id-1 div.sk-estimator:hover {background-color: #d4ebff;}#sk-container-id-1 div.sk-parallel-item::after {content: \"\";width: 100%;border-bottom: 1px solid gray;flex-grow: 1;}#sk-container-id-1 div.sk-label:hover label.sk-toggleable__label {background-color: #d4ebff;}#sk-container-id-1 div.sk-serial::before {content: \"\";position: absolute;border-left: 1px solid gray;box-sizing: border-box;top: 0;bottom: 0;left: 50%;z-index: 0;}#sk-container-id-1 div.sk-serial {display: flex;flex-direction: column;align-items: center;background-color: white;padding-right: 0.2em;padding-left: 0.2em;position: relative;}#sk-container-id-1 div.sk-item {position: relative;z-index: 1;}#sk-container-id-1 div.sk-parallel {display: flex;align-items: stretch;justify-content: center;background-color: white;position: relative;}#sk-container-id-1 div.sk-item::before, #sk-container-id-1 div.sk-parallel-item::before {content: \"\";position: absolute;border-left: 1px solid gray;box-sizing: border-box;top: 0;bottom: 0;left: 50%;z-index: -1;}#sk-container-id-1 div.sk-parallel-item {display: flex;flex-direction: column;z-index: 1;position: relative;background-color: white;}#sk-container-id-1 div.sk-parallel-item:first-child::after {align-self: flex-end;width: 50%;}#sk-container-id-1 div.sk-parallel-item:last-child::after {align-self: flex-start;width: 50%;}#sk-container-id-1 div.sk-parallel-item:only-child::after {width: 0;}#sk-container-id-1 div.sk-dashed-wrapped {border: 1px dashed gray;margin: 0 0.4em 0.5em 0.4em;box-sizing: border-box;padding-bottom: 0.4em;background-color: white;}#sk-container-id-1 div.sk-label label {font-family: monospace;font-weight: bold;display: inline-block;line-height: 1.2em;}#sk-container-id-1 div.sk-label-container {text-align: center;}#sk-container-id-1 div.sk-container {/* jupyter's `normalize.less` sets `[hidden] { display: none; }` but bootstrap.min.css set `[hidden] { display: none !important; }` so we also need the `!important` here to be able to override the default hidden behavior on the sphinx rendered scikit-learn.org. See: https://github.com/scikit-learn/scikit-learn/issues/21755 */display: inline-block !important;position: relative;}#sk-container-id-1 div.sk-text-repr-fallback {display: none;}</style><div id=\"sk-container-id-1\" class=\"sk-top-container\"><div class=\"sk-text-repr-fallback\"><pre>GridSearchCV(cv=[(array([  0,   1,   2,   3,   4,   5,   6,   7,   8,   9,  10,  11,  12,\n",
              "        13,  14,  15,  16,  17,  18,  19,  20,  21,  22,  23,  24,  25,\n",
              "        26,  27,  28,  29,  30,  31,  32,  33,  34,  35,  36,  37,  38,\n",
              "        39,  40,  41,  42,  43,  44,  45,  46,  47,  48,  49,  50,  51,\n",
              "        52,  53,  54,  55,  56,  57,  58,  59,  60,  61,  62,  63,  64,\n",
              "        65,  66,  67,  68,  69,  70,  71,  72,  73,  74,  75,  76,  77,\n",
              "        78,  79,  80,  81,  82,  83,  84,  85,  86,  87,  88,  89,  90,\n",
              "        91,  92,  93,  94,  95,  96,  97,  98,  99, 100, 101, 102, 103,\n",
              "       104, 105, 106, 107, 108...\n",
              "       2871, 2872, 2873, 2874, 2875, 2876, 2877, 2878, 2879, 2880, 2881,\n",
              "       2882, 2883, 2884, 2885, 2886, 2887, 2888, 2889, 2890, 2891, 2892,\n",
              "       2893, 2894, 2895, 2896, 2897, 2898, 2899, 2900, 2901, 2902, 2903,\n",
              "       2904, 2905, 2906, 2907, 2908, 2909, 2910, 2911, 2912, 2913, 2914,\n",
              "       2915]))],\n",
              "             estimator=RandomForestClassifier(random_state=2022), n_jobs=-1,\n",
              "             param_grid={&#x27;max_depth&#x27;: [4, 5, 6, 7, 8, 9, 10, 11, 12]},\n",
              "             scoring=&#x27;roc_auc&#x27;)</pre><b>In a Jupyter environment, please rerun this cell to show the HTML representation or trust the notebook. <br />On GitHub, the HTML representation is unable to render, please try loading this page with nbviewer.org.</b></div><div class=\"sk-container\" hidden><div class=\"sk-item sk-dashed-wrapped\"><div class=\"sk-label-container\"><div class=\"sk-label sk-toggleable\"><input class=\"sk-toggleable__control sk-hidden--visually\" id=\"sk-estimator-id-1\" type=\"checkbox\" ><label for=\"sk-estimator-id-1\" class=\"sk-toggleable__label sk-toggleable__label-arrow\">GridSearchCV</label><div class=\"sk-toggleable__content\"><pre>GridSearchCV(cv=[(array([  0,   1,   2,   3,   4,   5,   6,   7,   8,   9,  10,  11,  12,\n",
              "        13,  14,  15,  16,  17,  18,  19,  20,  21,  22,  23,  24,  25,\n",
              "        26,  27,  28,  29,  30,  31,  32,  33,  34,  35,  36,  37,  38,\n",
              "        39,  40,  41,  42,  43,  44,  45,  46,  47,  48,  49,  50,  51,\n",
              "        52,  53,  54,  55,  56,  57,  58,  59,  60,  61,  62,  63,  64,\n",
              "        65,  66,  67,  68,  69,  70,  71,  72,  73,  74,  75,  76,  77,\n",
              "        78,  79,  80,  81,  82,  83,  84,  85,  86,  87,  88,  89,  90,\n",
              "        91,  92,  93,  94,  95,  96,  97,  98,  99, 100, 101, 102, 103,\n",
              "       104, 105, 106, 107, 108...\n",
              "       2871, 2872, 2873, 2874, 2875, 2876, 2877, 2878, 2879, 2880, 2881,\n",
              "       2882, 2883, 2884, 2885, 2886, 2887, 2888, 2889, 2890, 2891, 2892,\n",
              "       2893, 2894, 2895, 2896, 2897, 2898, 2899, 2900, 2901, 2902, 2903,\n",
              "       2904, 2905, 2906, 2907, 2908, 2909, 2910, 2911, 2912, 2913, 2914,\n",
              "       2915]))],\n",
              "             estimator=RandomForestClassifier(random_state=2022), n_jobs=-1,\n",
              "             param_grid={&#x27;max_depth&#x27;: [4, 5, 6, 7, 8, 9, 10, 11, 12]},\n",
              "             scoring=&#x27;roc_auc&#x27;)</pre></div></div></div><div class=\"sk-parallel\"><div class=\"sk-parallel-item\"><div class=\"sk-item\"><div class=\"sk-label-container\"><div class=\"sk-label sk-toggleable\"><input class=\"sk-toggleable__control sk-hidden--visually\" id=\"sk-estimator-id-2\" type=\"checkbox\" ><label for=\"sk-estimator-id-2\" class=\"sk-toggleable__label sk-toggleable__label-arrow\">estimator: RandomForestClassifier</label><div class=\"sk-toggleable__content\"><pre>RandomForestClassifier(random_state=2022)</pre></div></div></div><div class=\"sk-serial\"><div class=\"sk-item\"><div class=\"sk-estimator sk-toggleable\"><input class=\"sk-toggleable__control sk-hidden--visually\" id=\"sk-estimator-id-3\" type=\"checkbox\" ><label for=\"sk-estimator-id-3\" class=\"sk-toggleable__label sk-toggleable__label-arrow\">RandomForestClassifier</label><div class=\"sk-toggleable__content\"><pre>RandomForestClassifier(random_state=2022)</pre></div></div></div></div></div></div></div></div></div></div>"
            ]
          },
          "metadata": {},
          "execution_count": 29
        }
      ]
    },
    {
      "cell_type": "code",
      "source": [
        "print(grid.best_score_)\n",
        "print(grid.best_estimator_)"
      ],
      "metadata": {
        "colab": {
          "base_uri": "https://localhost:8080/"
        },
        "outputId": "eb11eeb1-db97-484f-99da-0199b1dec52a",
        "id": "uQqJ3zPsH611"
      },
      "execution_count": null,
      "outputs": [
        {
          "output_type": "stream",
          "name": "stdout",
          "text": [
            "nan\n",
            "RandomForestClassifier(max_depth=4, random_state=2022)\n"
          ]
        }
      ]
    },
    {
      "cell_type": "code",
      "source": [
        "opt_clf_rand = RandomForestClassifier(max_depth=4, random_state=2022)\n",
        "opt_clf_rand.fit(X_train_adasyn, y_train_adasyn)"
      ],
      "metadata": {
        "colab": {
          "base_uri": "https://localhost:8080/",
          "height": 75
        },
        "outputId": "1f083fe5-ac7e-4360-dc2a-d6ad58b8e83d",
        "id": "9wD05P7hH611"
      },
      "execution_count": null,
      "outputs": [
        {
          "output_type": "execute_result",
          "data": {
            "text/plain": [
              "RandomForestClassifier(max_depth=4, random_state=2022)"
            ],
            "text/html": [
              "<style>#sk-container-id-18 {color: black;background-color: white;}#sk-container-id-18 pre{padding: 0;}#sk-container-id-18 div.sk-toggleable {background-color: white;}#sk-container-id-18 label.sk-toggleable__label {cursor: pointer;display: block;width: 100%;margin-bottom: 0;padding: 0.3em;box-sizing: border-box;text-align: center;}#sk-container-id-18 label.sk-toggleable__label-arrow:before {content: \"▸\";float: left;margin-right: 0.25em;color: #696969;}#sk-container-id-18 label.sk-toggleable__label-arrow:hover:before {color: black;}#sk-container-id-18 div.sk-estimator:hover label.sk-toggleable__label-arrow:before {color: black;}#sk-container-id-18 div.sk-toggleable__content {max-height: 0;max-width: 0;overflow: hidden;text-align: left;background-color: #f0f8ff;}#sk-container-id-18 div.sk-toggleable__content pre {margin: 0.2em;color: black;border-radius: 0.25em;background-color: #f0f8ff;}#sk-container-id-18 input.sk-toggleable__control:checked~div.sk-toggleable__content {max-height: 200px;max-width: 100%;overflow: auto;}#sk-container-id-18 input.sk-toggleable__control:checked~label.sk-toggleable__label-arrow:before {content: \"▾\";}#sk-container-id-18 div.sk-estimator input.sk-toggleable__control:checked~label.sk-toggleable__label {background-color: #d4ebff;}#sk-container-id-18 div.sk-label input.sk-toggleable__control:checked~label.sk-toggleable__label {background-color: #d4ebff;}#sk-container-id-18 input.sk-hidden--visually {border: 0;clip: rect(1px 1px 1px 1px);clip: rect(1px, 1px, 1px, 1px);height: 1px;margin: -1px;overflow: hidden;padding: 0;position: absolute;width: 1px;}#sk-container-id-18 div.sk-estimator {font-family: monospace;background-color: #f0f8ff;border: 1px dotted black;border-radius: 0.25em;box-sizing: border-box;margin-bottom: 0.5em;}#sk-container-id-18 div.sk-estimator:hover {background-color: #d4ebff;}#sk-container-id-18 div.sk-parallel-item::after {content: \"\";width: 100%;border-bottom: 1px solid gray;flex-grow: 1;}#sk-container-id-18 div.sk-label:hover label.sk-toggleable__label {background-color: #d4ebff;}#sk-container-id-18 div.sk-serial::before {content: \"\";position: absolute;border-left: 1px solid gray;box-sizing: border-box;top: 0;bottom: 0;left: 50%;z-index: 0;}#sk-container-id-18 div.sk-serial {display: flex;flex-direction: column;align-items: center;background-color: white;padding-right: 0.2em;padding-left: 0.2em;position: relative;}#sk-container-id-18 div.sk-item {position: relative;z-index: 1;}#sk-container-id-18 div.sk-parallel {display: flex;align-items: stretch;justify-content: center;background-color: white;position: relative;}#sk-container-id-18 div.sk-item::before, #sk-container-id-18 div.sk-parallel-item::before {content: \"\";position: absolute;border-left: 1px solid gray;box-sizing: border-box;top: 0;bottom: 0;left: 50%;z-index: -1;}#sk-container-id-18 div.sk-parallel-item {display: flex;flex-direction: column;z-index: 1;position: relative;background-color: white;}#sk-container-id-18 div.sk-parallel-item:first-child::after {align-self: flex-end;width: 50%;}#sk-container-id-18 div.sk-parallel-item:last-child::after {align-self: flex-start;width: 50%;}#sk-container-id-18 div.sk-parallel-item:only-child::after {width: 0;}#sk-container-id-18 div.sk-dashed-wrapped {border: 1px dashed gray;margin: 0 0.4em 0.5em 0.4em;box-sizing: border-box;padding-bottom: 0.4em;background-color: white;}#sk-container-id-18 div.sk-label label {font-family: monospace;font-weight: bold;display: inline-block;line-height: 1.2em;}#sk-container-id-18 div.sk-label-container {text-align: center;}#sk-container-id-18 div.sk-container {/* jupyter's `normalize.less` sets `[hidden] { display: none; }` but bootstrap.min.css set `[hidden] { display: none !important; }` so we also need the `!important` here to be able to override the default hidden behavior on the sphinx rendered scikit-learn.org. See: https://github.com/scikit-learn/scikit-learn/issues/21755 */display: inline-block !important;position: relative;}#sk-container-id-18 div.sk-text-repr-fallback {display: none;}</style><div id=\"sk-container-id-18\" class=\"sk-top-container\"><div class=\"sk-text-repr-fallback\"><pre>RandomForestClassifier(max_depth=4, random_state=2022)</pre><b>In a Jupyter environment, please rerun this cell to show the HTML representation or trust the notebook. <br />On GitHub, the HTML representation is unable to render, please try loading this page with nbviewer.org.</b></div><div class=\"sk-container\" hidden><div class=\"sk-item\"><div class=\"sk-estimator sk-toggleable\"><input class=\"sk-toggleable__control sk-hidden--visually\" id=\"sk-estimator-id-26\" type=\"checkbox\" checked><label for=\"sk-estimator-id-26\" class=\"sk-toggleable__label sk-toggleable__label-arrow\">RandomForestClassifier</label><div class=\"sk-toggleable__content\"><pre>RandomForestClassifier(max_depth=4, random_state=2022)</pre></div></div></div></div></div>"
            ]
          },
          "metadata": {},
          "execution_count": 159
        }
      ]
    },
    {
      "cell_type": "code",
      "source": [
        "y_train_opt_clf_rand = opt_clf_rand.predict(X_train_adasyn)\n",
        "y_val_opt_clf_rand = opt_clf_rand.predict(X_val)\n",
        "\n",
        "print(classification_report(y_train_adasyn, y_train_opt_clf_rand, target_names=[\"Temp < 20\", \"Temp >= 20\"]))\n",
        "print(classification_report(y_val, y_val_opt_clf_rand, target_names=[\"Temp < 20\", \"Temp >= 20\"]))\n",
        "\n",
        "\n",
        "y_train_opt_clf_rand_prob = opt_clf_rand.predict_proba(X_train_adasyn)\n",
        "y_val_opt_clf_rand_prob = opt_clf_rand.predict_proba(X_val)\n",
        "\n",
        "\n",
        "print(f\"ROC AUC Score Train: {roc_auc_score(y_train_adasyn, y_train_opt_clf_rand_prob[:, 1]) * 100:.4f} %\")\n",
        "print(f\"ROC AUC Score Val: {roc_auc_score(y_val, y_val_opt_clf_rand_prob[:, 1]) * 100:.4f} %\")"
      ],
      "metadata": {
        "colab": {
          "base_uri": "https://localhost:8080/"
        },
        "id": "OicIn-eNh2Np",
        "outputId": "aeed441a-888b-434d-baf2-919e2d75929e"
      },
      "execution_count": null,
      "outputs": [
        {
          "output_type": "stream",
          "name": "stdout",
          "text": [
            "              precision    recall  f1-score   support\n",
            "\n",
            "   Temp < 20       0.90      0.88      0.89      1464\n",
            "  Temp >= 20       0.88      0.90      0.89      1452\n",
            "\n",
            "    accuracy                           0.89      2916\n",
            "   macro avg       0.89      0.89      0.89      2916\n",
            "weighted avg       0.89      0.89      0.89      2916\n",
            "\n",
            "              precision    recall  f1-score   support\n",
            "\n",
            "   Temp < 20       0.73      0.85      0.78       341\n",
            "  Temp >= 20       0.67      0.48      0.56       212\n",
            "\n",
            "    accuracy                           0.71       553\n",
            "   macro avg       0.70      0.67      0.67       553\n",
            "weighted avg       0.70      0.71      0.70       553\n",
            "\n",
            "ROC AUC Score Train: 96.0259 %\n",
            "ROC AUC Score Val: 81.6418 %\n"
          ]
        }
      ]
    },
    {
      "cell_type": "code",
      "source": [],
      "metadata": {
        "id": "E2AyB50SPdGh"
      },
      "execution_count": null,
      "outputs": []
    },
    {
      "cell_type": "code",
      "source": [],
      "metadata": {
        "id": "nfw0-SLzREMo"
      },
      "execution_count": null,
      "outputs": []
    },
    {
      "cell_type": "markdown",
      "source": [
        "##Model 3 (Logistic Regression"
      ],
      "metadata": {
        "id": "3x9w8oE6ogtP"
      }
    },
    {
      "cell_type": "code",
      "source": [
        "#Split with time series\n",
        "cv_ls_rand = generate_list_timeseries_cv(X_train_rand)\n",
        "cv_ls_smote = generate_list_timeseries_cv(X_train_smote)\n",
        "cv_ls_bord = generate_list_timeseries_cv(X_train_bord)\n",
        "cv_ls_ada = generate_list_timeseries_cv(X_train_adasyn)"
      ],
      "metadata": {
        "id": "rSeQb7u8oyO-"
      },
      "execution_count": null,
      "outputs": []
    },
    {
      "cell_type": "code",
      "source": [
        "plt.figure(figsize=(20, 2))\n",
        "sns.lineplot(data=df_train_prepared.iloc[cv_ls_rand[0][0]], x=\"Id\", y=\"Indoor_temperature_room\", marker='o', linestyle='')\n",
        "sns.lineplot(data=df_train_prepared.iloc[cv_ls_rand[0][1]], x=\"Id\", y=\"Indoor_temperature_room\", marker='o', linestyle='')\n",
        "plt.xlim(0, 1500)\n",
        "plt.legend([\"Train\", \"Test\"])\n",
        "\n",
        "plt.figure(figsize=(20, 2))\n",
        "sns.lineplot(data=df_train_prepared.iloc[cv_ls_rand[1][0]], x=\"Id\", y=\"Indoor_temperature_room\", marker='o', linestyle='')\n",
        "sns.lineplot(data=df_train_prepared.iloc[cv_ls_rand[1][1]], x=\"Id\", y=\"Indoor_temperature_room\", marker='o', linestyle='')\n",
        "plt.xlim(0, 1500)\n",
        "plt.legend([\"Train\", \"Test\"])\n",
        "\n",
        "plt.figure(figsize=(20, 2))\n",
        "sns.lineplot(data=df_train_prepared.iloc[cv_ls_rand[2][0]], x=\"Id\", y=\"Indoor_temperature_room\", marker='o', linestyle='')\n",
        "sns.lineplot(data=df_train_prepared.iloc[cv_ls_rand[2][1]], x=\"Id\", y=\"Indoor_temperature_room\", marker='o', linestyle='')\n",
        "plt.xlim(0, 1500)\n",
        "plt.legend([\"Train\", \"Test\"])"
      ],
      "metadata": {
        "colab": {
          "base_uri": "https://localhost:8080/",
          "height": 642
        },
        "id": "doHlcz2ZzDB4",
        "outputId": "ff451d46-3f65-4b89-f969-b9e43b6718d7"
      },
      "execution_count": null,
      "outputs": [
        {
          "output_type": "execute_result",
          "data": {
            "text/plain": [
              "<matplotlib.legend.Legend at 0x7f55e56f6020>"
            ]
          },
          "metadata": {},
          "execution_count": 163
        },
        {
          "output_type": "display_data",
          "data": {
            "text/plain": [
              "<Figure size 2000x200 with 1 Axes>"
            ],
            "image/png": "[encoded data removed]"
          },
          "metadata": {}
        },
        {
          "output_type": "display_data",
          "data": {
            "text/plain": [
              "<Figure size 2000x200 with 1 Axes>"
            ],
            "image/png": "[encoded data removed]"
          },
          "metadata": {}
        },
        {
          "output_type": "display_data",
          "data": {
            "text/plain": [
              "<Figure size 2000x200 with 1 Axes>"
            ],
            "image/png": "[encoded data removed]"
          },
          "metadata": {}
        }
      ]
    },
    {
      "cell_type": "code",
      "source": [
        "from sklearn.linear_model import LogisticRegression\n",
        "import sklearn\n",
        "from sklearn.metrics import *\n",
        "from sklearn.model_selection import GridSearchCV"
      ],
      "metadata": {
        "id": "ilckmdAuRpS4"
      },
      "execution_count": null,
      "outputs": []
    },
    {
      "cell_type": "code",
      "source": [
        "param_grid = {\n",
        "    'penalty': ['l1', 'l2', 'elasticnet', 'none'],\n",
        "    'C': [0.00001, 0.0001, 0.001, 0.01, 0.1, 1, 10],\n",
        "    'solver': ['saga'],\n",
        "    'l1_ratio': [0.00001, 0.0001, 0.001, 0.01, 0.1, 1]\n",
        "}"
      ],
      "metadata": {
        "id": "lhfHnJVtRs_A"
      },
      "execution_count": null,
      "outputs": []
    },
    {
      "cell_type": "markdown",
      "source": [
        "### Random Oversampling"
      ],
      "metadata": {
        "id": "GQ5zS21qR1w6"
      }
    },
    {
      "cell_type": "code",
      "source": [
        "clf_log = LogisticRegression(random_state=2022, multi_class='ovr', n_jobs=-1)\n",
        "grid = GridSearchCV(estimator=clf_log,\n",
        "                    param_grid=param_grid,\n",
        "                    scoring=\"f1\",\n",
        "                    cv=cv_ls_rand,\n",
        "                    n_jobs=-1)\n",
        "\n",
        "grid.fit(X_train_rand, y_train_rand)\n",
        "print(grid.best_score_)"
      ],
      "metadata": {
        "colab": {
          "base_uri": "https://localhost:8080/"
        },
        "outputId": "59b9ae1a-613b-4ba0-accb-92c510e1e22a",
        "id": "uFx9HAybR1xA"
      },
      "execution_count": null,
      "outputs": [
        {
          "output_type": "stream",
          "name": "stdout",
          "text": [
            "0.6194419358356447\n"
          ]
        },
        {
          "output_type": "stream",
          "name": "stderr",
          "text": [
            "/usr/local/lib/python3.10/dist-packages/sklearn/linear_model/_logistic.py:1165: UserWarning: l1_ratio parameter is only used when penalty is 'elasticnet'. Got (penalty=l1)\n",
            "  warnings.warn(\n"
          ]
        }
      ]
    },
    {
      "cell_type": "code",
      "source": [
        "print(grid.best_params_)"
      ],
      "metadata": {
        "colab": {
          "base_uri": "https://localhost:8080/"
        },
        "id": "TfTs6bu1z_fz",
        "outputId": "ec9faac7-c8c7-49bf-d660-469a9d36de11"
      },
      "execution_count": null,
      "outputs": [
        {
          "output_type": "stream",
          "name": "stdout",
          "text": [
            "{'C': 1e-05, 'l1_ratio': 1e-05, 'penalty': 'l1', 'solver': 'saga'}\n"
          ]
        }
      ]
    },
    {
      "cell_type": "code",
      "source": [
        "opt_clf_log = LogisticRegression(**grid.best_params_, random_state=2022, n_jobs=-1)\n",
        "opt_clf_log.fit(X_train_rand, y_train_rand)\n",
        "\n",
        "y_train_opt_clf_log = opt_clf_log.predict(X_train_rand)\n",
        "y_val_opt_clf_log = opt_clf_log.predict(X_val)\n",
        "\n",
        "print(classification_report(y_train_rand, y_train_opt_clf_log, target_names=[\"Temp < 20\", \"Temp >= 20\"]))\n",
        "print(classification_report(y_val, y_val_opt_clf_log, target_names=[\"Temp < 20\", \"Temp >= 20\"]))\n",
        "\n",
        "\n",
        "y_train_opt_clf_log_prob = opt_clf_log.predict_proba(X_train_rand)\n",
        "y_val_opt_clf_log_prob = opt_clf_log.predict_proba(X_val)\n",
        "\n",
        "\n",
        "print(f\"ROC AUC Score Train: {roc_auc_score(y_train_rand, y_train_opt_clf_log_prob[:, 1]) * 100:.4f} %\")\n",
        "print(f\"ROC AUC Score Val: {roc_auc_score(y_val, y_val_opt_clf_log_prob[:, 1]) * 100:.4f} %\")"
      ],
      "metadata": {
        "colab": {
          "base_uri": "https://localhost:8080/"
        },
        "outputId": "e0fac995-27d2-46b3-c594-8a4af22b7fcf",
        "id": "yBhncIBWR1xA"
      },
      "execution_count": null,
      "outputs": [
        {
          "output_type": "stream",
          "name": "stdout",
          "text": [
            "              precision    recall  f1-score   support\n",
            "\n",
            "   Temp < 20       0.61      0.91      0.73      1464\n",
            "  Temp >= 20       0.82      0.42      0.56      1464\n",
            "\n",
            "    accuracy                           0.67      2928\n",
            "   macro avg       0.72      0.67      0.65      2928\n",
            "weighted avg       0.72      0.67      0.65      2928\n",
            "\n",
            "              precision    recall  f1-score   support\n",
            "\n",
            "   Temp < 20       0.71      0.88      0.78       341\n",
            "  Temp >= 20       0.68      0.42      0.51       212\n",
            "\n",
            "    accuracy                           0.70       553\n",
            "   macro avg       0.69      0.65      0.65       553\n",
            "weighted avg       0.70      0.70      0.68       553\n",
            "\n",
            "ROC AUC Score Train: 72.6466 %\n",
            "ROC AUC Score Val: 70.0271 %\n"
          ]
        },
        {
          "output_type": "stream",
          "name": "stderr",
          "text": [
            "/usr/local/lib/python3.10/dist-packages/sklearn/linear_model/_logistic.py:1165: UserWarning: l1_ratio parameter is only used when penalty is 'elasticnet'. Got (penalty=l1)\n",
            "  warnings.warn(\n"
          ]
        }
      ]
    },
    {
      "cell_type": "markdown",
      "source": [
        "### SMOTE - Synthetic Minority Over-sampling Technique"
      ],
      "metadata": {
        "id": "x3ODFiC8R1xA"
      }
    },
    {
      "cell_type": "code",
      "source": [
        "clf_log = LogisticRegression(random_state=2022, multi_class='ovr', n_jobs=-1)\n",
        "grid = GridSearchCV(estimator=clf_log,\n",
        "                    param_grid=param_grid,\n",
        "                    scoring=\"f1\",\n",
        "                    cv=cv_ls_smote,\n",
        "                    n_jobs=-1)\n",
        "\n",
        "grid.fit(X_train_smote, y_train_smote)\n",
        "print(grid.best_score_)\n",
        "print(grid.best_estimator_)"
      ],
      "metadata": {
        "colab": {
          "base_uri": "https://localhost:8080/"
        },
        "outputId": "788ddd17-21d5-4382-d818-2ea366a85dad",
        "id": "H1nIg0ZvR1xB"
      },
      "execution_count": null,
      "outputs": [
        {
          "output_type": "stream",
          "name": "stdout",
          "text": [
            "0.618461329498195\n",
            "LogisticRegression(C=1e-05, l1_ratio=1e-05, multi_class='ovr', n_jobs=-1,\n",
            "                   penalty='l1', random_state=2022, solver='saga')\n"
          ]
        },
        {
          "output_type": "stream",
          "name": "stderr",
          "text": [
            "/usr/local/lib/python3.10/dist-packages/sklearn/linear_model/_logistic.py:1165: UserWarning: l1_ratio parameter is only used when penalty is 'elasticnet'. Got (penalty=l1)\n",
            "  warnings.warn(\n"
          ]
        }
      ]
    },
    {
      "cell_type": "code",
      "source": [
        "opt_clf_log = LogisticRegression(**grid.best_params_, random_state=2022, n_jobs=-1)\n",
        "opt_clf_log.fit(X_train_smote, y_train_smote)\n",
        "\n",
        "y_train_opt_clf_log = opt_clf_log.predict(X_train_smote)\n",
        "y_val_opt_clf_log = opt_clf_log.predict(X_val)\n",
        "\n",
        "print(classification_report(y_train_smote, y_train_opt_clf_log, target_names=[\"Temp < 20\", \"Temp >= 20\"]))\n",
        "print(classification_report(y_val, y_val_opt_clf_log, target_names=[\"Temp < 20\", \"Temp >= 20\"]))\n",
        "\n",
        "\n",
        "y_train_opt_clf_log_prob = opt_clf_log.predict_proba(X_train_smote)\n",
        "y_val_opt_clf_log_prob = opt_clf_log.predict_proba(X_val)\n",
        "\n",
        "\n",
        "print(f\"ROC AUC Score Train: {roc_auc_score(y_train_smote, y_train_opt_clf_log_prob[:, 1]) * 100:.4f} %\")\n",
        "print(f\"ROC AUC Score Val: {roc_auc_score(y_val, y_val_opt_clf_log_prob[:, 1]) * 100:.4f} %\")"
      ],
      "metadata": {
        "colab": {
          "base_uri": "https://localhost:8080/"
        },
        "outputId": "83b2dda6-3a83-4aa4-abe8-c73b351b94f6",
        "id": "OcF3KvE1R1xB"
      },
      "execution_count": null,
      "outputs": [
        {
          "output_type": "stream",
          "name": "stdout",
          "text": [
            "              precision    recall  f1-score   support\n",
            "\n",
            "   Temp < 20       0.62      0.91      0.74      1464\n",
            "  Temp >= 20       0.83      0.43      0.57      1464\n",
            "\n",
            "    accuracy                           0.67      2928\n",
            "   macro avg       0.72      0.67      0.65      2928\n",
            "weighted avg       0.72      0.67      0.65      2928\n",
            "\n",
            "              precision    recall  f1-score   support\n",
            "\n",
            "   Temp < 20       0.71      0.88      0.78       341\n",
            "  Temp >= 20       0.68      0.42      0.51       212\n",
            "\n",
            "    accuracy                           0.70       553\n",
            "   macro avg       0.69      0.65      0.65       553\n",
            "weighted avg       0.70      0.70      0.68       553\n",
            "\n",
            "ROC AUC Score Train: 72.9360 %\n",
            "ROC AUC Score Val: 70.0271 %\n"
          ]
        },
        {
          "output_type": "stream",
          "name": "stderr",
          "text": [
            "/usr/local/lib/python3.10/dist-packages/sklearn/linear_model/_logistic.py:1165: UserWarning: l1_ratio parameter is only used when penalty is 'elasticnet'. Got (penalty=l1)\n",
            "  warnings.warn(\n"
          ]
        }
      ]
    },
    {
      "cell_type": "markdown",
      "source": [
        "### Borderline SMOTE"
      ],
      "metadata": {
        "id": "61O00IGGR1xB"
      }
    },
    {
      "cell_type": "code",
      "source": [
        "clf_log = LogisticRegression(random_state=2022, multi_class='ovr', n_jobs=-1)\n",
        "grid = GridSearchCV(estimator=clf_log,\n",
        "                    param_grid=param_grid,\n",
        "                    scoring=\"f1\",\n",
        "                    cv=cv_ls_bord,\n",
        "                    n_jobs=-1)\n",
        "\n",
        "grid.fit(X_train_bord, y_train_bord)\n",
        "print(grid.best_score_)\n",
        "print(grid.best_estimator_)"
      ],
      "metadata": {
        "colab": {
          "base_uri": "https://localhost:8080/"
        },
        "outputId": "dffb6426-f4d6-46f0-81ed-f6333ad25188",
        "id": "K1svSVPvR1xB"
      },
      "execution_count": null,
      "outputs": [
        {
          "output_type": "stream",
          "name": "stdout",
          "text": [
            "0.6079167637899905\n",
            "LogisticRegression(C=1e-05, l1_ratio=1e-05, multi_class='ovr', n_jobs=-1,\n",
            "                   penalty='l1', random_state=2022, solver='saga')\n"
          ]
        },
        {
          "output_type": "stream",
          "name": "stderr",
          "text": [
            "/usr/local/lib/python3.10/dist-packages/sklearn/linear_model/_logistic.py:1165: UserWarning: l1_ratio parameter is only used when penalty is 'elasticnet'. Got (penalty=l1)\n",
            "  warnings.warn(\n"
          ]
        }
      ]
    },
    {
      "cell_type": "code",
      "source": [
        "opt_clf_log = LogisticRegression(**grid.best_params_, random_state=2022, n_jobs=-1)\n",
        "opt_clf_log.fit(X_train_bord, y_train_bord)\n",
        "\n",
        "y_train_opt_clf_log = opt_clf_log.predict(X_train_bord)\n",
        "y_val_opt_clf_log = opt_clf_log.predict(X_val)\n",
        "\n",
        "print(classification_report(y_train_bord, y_train_opt_clf_log, target_names=[\"Temp < 20\", \"Temp >= 20\"]))\n",
        "print(classification_report(y_val, y_val_opt_clf_log, target_names=[\"Temp < 20\", \"Temp >= 20\"]))\n",
        "\n",
        "\n",
        "y_train_opt_clf_log_prob = opt_clf_log.predict_proba(X_train_bord)\n",
        "y_val_opt_clf_log_prob = opt_clf_log.predict_proba(X_val)\n",
        "\n",
        "\n",
        "print(f\"ROC AUC Score Train: {roc_auc_score(y_train_bord, y_train_opt_clf_log_prob[:, 1]) * 100:.4f} %\")\n",
        "print(f\"ROC AUC Score Val: {roc_auc_score(y_val, y_val_opt_clf_log_prob[:, 1]) * 100:.4f} %\")"
      ],
      "metadata": {
        "colab": {
          "base_uri": "https://localhost:8080/"
        },
        "outputId": "9b4577af-d3c0-49c9-f2be-bab9a78948b5",
        "id": "BdiVctKzR1xB"
      },
      "execution_count": null,
      "outputs": [
        {
          "output_type": "stream",
          "name": "stdout",
          "text": [
            "              precision    recall  f1-score   support\n",
            "\n",
            "   Temp < 20       0.60      0.90      0.72      1464\n",
            "  Temp >= 20       0.80      0.40      0.54      1464\n",
            "\n",
            "    accuracy                           0.65      2928\n",
            "   macro avg       0.70      0.65      0.63      2928\n",
            "weighted avg       0.70      0.65      0.63      2928\n",
            "\n",
            "              precision    recall  f1-score   support\n",
            "\n",
            "   Temp < 20       0.72      0.86      0.78       341\n",
            "  Temp >= 20       0.67      0.45      0.54       212\n",
            "\n",
            "    accuracy                           0.71       553\n",
            "   macro avg       0.69      0.66      0.66       553\n",
            "weighted avg       0.70      0.71      0.69       553\n",
            "\n",
            "ROC AUC Score Train: 69.0985 %\n",
            "ROC AUC Score Val: 71.3578 %\n"
          ]
        },
        {
          "output_type": "stream",
          "name": "stderr",
          "text": [
            "/usr/local/lib/python3.10/dist-packages/sklearn/linear_model/_logistic.py:1165: UserWarning: l1_ratio parameter is only used when penalty is 'elasticnet'. Got (penalty=l1)\n",
            "  warnings.warn(\n"
          ]
        }
      ]
    },
    {
      "cell_type": "markdown",
      "source": [
        "### Adaptive Synthetic (ADASYN) algorithm"
      ],
      "metadata": {
        "id": "CqbqthmHSWH0"
      }
    },
    {
      "cell_type": "code",
      "source": [
        "clf_log = LogisticRegression(random_state=2022, multi_class='ovr', n_jobs=-1)\n",
        "grid = GridSearchCV(estimator=clf_log,\n",
        "                    param_grid=param_grid,\n",
        "                    scoring=\"f1\",\n",
        "                    cv=cv_ls_ada,\n",
        "                    n_jobs=-1)\n",
        "\n",
        "grid.fit(X_train_adasyn, y_train_adasyn)\n",
        "print(grid.best_score_)\n",
        "print(grid.best_estimator_)"
      ],
      "metadata": {
        "colab": {
          "base_uri": "https://localhost:8080/"
        },
        "outputId": "6a39069a-213f-4987-fab5-54f169847c8f",
        "id": "eZf3hweESWH0"
      },
      "execution_count": null,
      "outputs": [
        {
          "output_type": "stream",
          "name": "stdout",
          "text": [
            "0.6151497010731519\n",
            "LogisticRegression(C=1e-05, l1_ratio=1e-05, multi_class='ovr', n_jobs=-1,\n",
            "                   penalty='l1', random_state=2022, solver='saga')\n"
          ]
        },
        {
          "output_type": "stream",
          "name": "stderr",
          "text": [
            "/usr/local/lib/python3.10/dist-packages/sklearn/linear_model/_logistic.py:1165: UserWarning: l1_ratio parameter is only used when penalty is 'elasticnet'. Got (penalty=l1)\n",
            "  warnings.warn(\n"
          ]
        }
      ]
    },
    {
      "cell_type": "code",
      "source": [
        "opt_clf_log = LogisticRegression(**grid.best_params_, random_state=2022, n_jobs=-1)\n",
        "opt_clf_log.fit(X_train_adasyn, y_train_adasyn)\n",
        "\n",
        "y_train_opt_clf_log = opt_clf_log.predict(X_train_adasyn)\n",
        "y_val_opt_clf_log = opt_clf_log.predict(X_val)\n",
        "\n",
        "print(classification_report(y_train_adasyn, y_train_opt_clf_log, target_names=[\"Temp < 20\", \"Temp >= 20\"]))\n",
        "print(classification_report(y_val, y_val_opt_clf_log, target_names=[\"Temp < 20\", \"Temp >= 20\"]))\n",
        "\n",
        "\n",
        "y_train_opt_clf_log_prob = opt_clf_log.predict_proba(X_train_adasyn)\n",
        "y_val_opt_clf_log_prob = opt_clf_log.predict_proba(X_val)\n",
        "\n",
        "\n",
        "print(f\"ROC AUC Score Train: {roc_auc_score(y_train_adasyn, y_train_opt_clf_log_prob[:, 1]) * 100:.4f} %\")\n",
        "print(f\"ROC AUC Score Val: {roc_auc_score(y_val, y_val_opt_clf_log_prob[:, 1]) * 100:.4f} %\")"
      ],
      "metadata": {
        "colab": {
          "base_uri": "https://localhost:8080/"
        },
        "outputId": "9a4a1d09-1ab8-45d2-b484-3650a4481a6e",
        "id": "sxXsIoo8SWH0"
      },
      "execution_count": null,
      "outputs": [
        {
          "output_type": "stream",
          "name": "stdout",
          "text": [
            "              precision    recall  f1-score   support\n",
            "\n",
            "   Temp < 20       0.64      0.90      0.75      1464\n",
            "  Temp >= 20       0.82      0.49      0.61      1452\n",
            "\n",
            "    accuracy                           0.69      2916\n",
            "   macro avg       0.73      0.69      0.68      2916\n",
            "weighted avg       0.73      0.69      0.68      2916\n",
            "\n",
            "              precision    recall  f1-score   support\n",
            "\n",
            "   Temp < 20       0.72      0.86      0.78       341\n",
            "  Temp >= 20       0.67      0.46      0.55       212\n",
            "\n",
            "    accuracy                           0.71       553\n",
            "   macro avg       0.69      0.66      0.66       553\n",
            "weighted avg       0.70      0.71      0.69       553\n",
            "\n",
            "ROC AUC Score Train: 72.7630 %\n",
            "ROC AUC Score Val: 71.5833 %\n"
          ]
        },
        {
          "output_type": "stream",
          "name": "stderr",
          "text": [
            "/usr/local/lib/python3.10/dist-packages/sklearn/linear_model/_logistic.py:1165: UserWarning: l1_ratio parameter is only used when penalty is 'elasticnet'. Got (penalty=l1)\n",
            "  warnings.warn(\n"
          ]
        }
      ]
    },
    {
      "cell_type": "code",
      "source": [],
      "metadata": {
        "id": "bjXB6mhYSifI"
      },
      "execution_count": null,
      "outputs": []
    },
    {
      "cell_type": "markdown",
      "source": [
        "##Model 4 (KNN)\n",
        "\n",
        "\n"
      ],
      "metadata": {
        "id": "Hh8RYRLdvWjW"
      }
    },
    {
      "cell_type": "code",
      "source": [
        "from sklearn.neighbors import KNeighborsClassifier"
      ],
      "metadata": {
        "id": "889gFQqTpGf7"
      },
      "execution_count": null,
      "outputs": []
    },
    {
      "cell_type": "code",
      "source": [
        "param_grid_knn = {\n",
        "    'p': [1, 2, 3, 4, 5],\n",
        "    'n_neighbors': [5, 7, 9, 11]\n",
        "}"
      ],
      "metadata": {
        "id": "dlw1AQdB3Eo3"
      },
      "execution_count": null,
      "outputs": []
    },
    {
      "cell_type": "markdown",
      "source": [
        "### Random Oversampling"
      ],
      "metadata": {
        "id": "SRYkap2i22iT"
      }
    },
    {
      "cell_type": "code",
      "source": [
        "clf_knn = KNeighborsClassifier()\n",
        "grid = GridSearchCV(estimator=clf_knn,\n",
        "                    param_grid=param_grid_knn,\n",
        "                    scoring=\"f1\",\n",
        "                    cv=cv_ls_rand,\n",
        "                    n_jobs=-1)\n",
        "\n",
        "grid.fit(X_train_rand, y_train_rand)\n",
        "print(grid.best_score_)\n",
        "print(grid.best_estimator_)"
      ],
      "metadata": {
        "colab": {
          "base_uri": "https://localhost:8080/"
        },
        "id": "bUy-mPrs2_Iw",
        "outputId": "668f3f69-930b-4851-b7bb-a81f9fc99514"
      },
      "execution_count": null,
      "outputs": [
        {
          "output_type": "stream",
          "name": "stdout",
          "text": [
            "0.6579367220657433\n",
            "KNeighborsClassifier(n_neighbors=9)\n"
          ]
        }
      ]
    },
    {
      "cell_type": "code",
      "source": [
        "print(grid.best_params_)"
      ],
      "metadata": {
        "colab": {
          "base_uri": "https://localhost:8080/"
        },
        "id": "doHsnaE136ZZ",
        "outputId": "a0d92865-133f-44cc-9be8-e820dbebaafb"
      },
      "execution_count": null,
      "outputs": [
        {
          "output_type": "stream",
          "name": "stdout",
          "text": [
            "{'n_neighbors': 9, 'p': 2}\n"
          ]
        }
      ]
    },
    {
      "cell_type": "code",
      "source": [
        "opt_clf_knn = KNeighborsClassifier(**grid.best_params_)\n",
        "opt_clf_knn.fit(X_train_rand, y_train_rand)\n",
        "\n",
        "y_train_opt_clf_knn = opt_clf_knn.predict(X_train_rand)\n",
        "y_val_opt_clf_knn = opt_clf_knn.predict(X_val)\n",
        "\n",
        "print(classification_report(y_train_rand, y_train_opt_clf_knn, target_names=[\"Temp < 20\", \"Temp >= 20\"]))\n",
        "print(classification_report(y_val, y_val_opt_clf_knn, target_names=[\"Temp < 20\", \"Temp >= 20\"]))\n",
        "\n",
        "\n",
        "y_train_opt_clf_knn_prob = opt_clf_knn.predict_proba(X_train_rand)\n",
        "y_val_opt_clf_knn_prob = opt_clf_knn.predict_proba(X_val)\n",
        "\n",
        "\n",
        "print(f\"ROC AUC Score Train: {roc_auc_score(y_train_rand, y_train_opt_clf_knn_prob[:, 1]) * 100:.4f} %\")\n",
        "print(f\"ROC AUC Score Val: {roc_auc_score(y_val, y_val_opt_clf_knn_prob[:, 1]) * 100:.4f} %\")"
      ],
      "metadata": {
        "colab": {
          "base_uri": "https://localhost:8080/"
        },
        "id": "PtttpmND2-_e",
        "outputId": "4b66ab21-5b4a-49eb-c81a-57e19f482ed6"
      },
      "execution_count": null,
      "outputs": [
        {
          "output_type": "stream",
          "name": "stdout",
          "text": [
            "              precision    recall  f1-score   support\n",
            "\n",
            "   Temp < 20       0.93      0.85      0.89      1464\n",
            "  Temp >= 20       0.86      0.94      0.90      1464\n",
            "\n",
            "    accuracy                           0.89      2928\n",
            "   macro avg       0.90      0.89      0.89      2928\n",
            "weighted avg       0.90      0.89      0.89      2928\n",
            "\n",
            "              precision    recall  f1-score   support\n",
            "\n",
            "   Temp < 20       0.72      0.79      0.75       341\n",
            "  Temp >= 20       0.59      0.50      0.55       212\n",
            "\n",
            "    accuracy                           0.68       553\n",
            "   macro avg       0.66      0.65      0.65       553\n",
            "weighted avg       0.67      0.68      0.67       553\n",
            "\n",
            "ROC AUC Score Train: 96.4238 %\n",
            "ROC AUC Score Val: 66.4534 %\n"
          ]
        }
      ]
    },
    {
      "cell_type": "markdown",
      "source": [
        "### SMOTE - Synthetic Minority Over-sampling Technique"
      ],
      "metadata": {
        "id": "jcYIW5e922fo"
      }
    },
    {
      "cell_type": "code",
      "source": [
        "clf_knn = KNeighborsClassifier()\n",
        "grid = GridSearchCV(estimator=clf_knn,\n",
        "                    param_grid=param_grid_knn,\n",
        "                    scoring=\"f1\",\n",
        "                    cv=cv_ls_smote,\n",
        "                    n_jobs=-1)\n",
        "\n",
        "grid.fit(X_train_smote, y_train_smote)\n",
        "print(grid.best_score_)\n",
        "print(grid.best_params_)"
      ],
      "metadata": {
        "colab": {
          "base_uri": "https://localhost:8080/"
        },
        "id": "Bd3zr5Q61B3x",
        "outputId": "fc16fbd9-5c55-42b1-dbda-89570aded326"
      },
      "execution_count": null,
      "outputs": [
        {
          "output_type": "stream",
          "name": "stdout",
          "text": [
            "0.6598343176226292\n",
            "{'n_neighbors': 9, 'p': 2}\n"
          ]
        }
      ]
    },
    {
      "cell_type": "code",
      "source": [
        "opt_clf_knn = KNeighborsClassifier(**grid.best_params_)\n",
        "opt_clf_knn.fit(X_train_smote, y_train_smote)\n",
        "\n",
        "y_train_opt_clf_knn = opt_clf_knn.predict(X_train_smote)\n",
        "y_val_opt_clf_knn = opt_clf_knn.predict(X_val)\n",
        "\n",
        "print(classification_report(y_train_smote, y_train_opt_clf_knn, target_names=[\"Temp < 20\", \"Temp >= 20\"]))\n",
        "print(classification_report(y_val, y_val_opt_clf_knn, target_names=[\"Temp < 20\", \"Temp >= 20\"]))\n",
        "\n",
        "\n",
        "y_train_opt_clf_knn_prob = opt_clf_knn.predict_proba(X_train_smote)\n",
        "y_val_opt_clf_knn_prob = opt_clf_knn.predict_proba(X_val)\n",
        "\n",
        "\n",
        "print(f\"ROC AUC Score Train: {roc_auc_score(y_train_smote, y_train_opt_clf_knn_prob[:, 1]) * 100:.4f} %\")\n",
        "print(f\"ROC AUC Score Val: {roc_auc_score(y_val, y_val_opt_clf_knn_prob[:, 1]) * 100:.4f} %\")"
      ],
      "metadata": {
        "colab": {
          "base_uri": "https://localhost:8080/"
        },
        "id": "8b45K_M02_iq",
        "outputId": "ae8a539a-45ab-437c-e4ef-7a989fa1b5e9"
      },
      "execution_count": null,
      "outputs": [
        {
          "output_type": "stream",
          "name": "stdout",
          "text": [
            "              precision    recall  f1-score   support\n",
            "\n",
            "   Temp < 20       0.95      0.85      0.90      1464\n",
            "  Temp >= 20       0.87      0.96      0.91      1464\n",
            "\n",
            "    accuracy                           0.91      2928\n",
            "   macro avg       0.91      0.91      0.91      2928\n",
            "weighted avg       0.91      0.91      0.91      2928\n",
            "\n",
            "              precision    recall  f1-score   support\n",
            "\n",
            "   Temp < 20       0.73      0.80      0.76       341\n",
            "  Temp >= 20       0.61      0.52      0.56       212\n",
            "\n",
            "    accuracy                           0.69       553\n",
            "   macro avg       0.67      0.66      0.66       553\n",
            "weighted avg       0.68      0.69      0.68       553\n",
            "\n",
            "ROC AUC Score Train: 96.9518 %\n",
            "ROC AUC Score Val: 67.1036 %\n"
          ]
        }
      ]
    },
    {
      "cell_type": "markdown",
      "source": [
        "### Borderline SMOTE"
      ],
      "metadata": {
        "id": "-wfA_i4-212I"
      }
    },
    {
      "cell_type": "code",
      "source": [
        "clf_knn = KNeighborsClassifier()\n",
        "grid = GridSearchCV(estimator=clf_knn,\n",
        "                    param_grid=param_grid_knn,\n",
        "                    scoring=\"f1\",\n",
        "                    cv=cv_ls_bord,\n",
        "                    n_jobs=-1)\n",
        "\n",
        "grid.fit(X_train_bord, y_train_bord)\n",
        "print(grid.best_score_)\n",
        "print(grid.best_params_)"
      ],
      "metadata": {
        "colab": {
          "base_uri": "https://localhost:8080/"
        },
        "id": "58NJd38Y6-Jl",
        "outputId": "70ecf6f3-152e-460a-efef-2882c367459f"
      },
      "execution_count": null,
      "outputs": [
        {
          "output_type": "stream",
          "name": "stdout",
          "text": [
            "0.648219440974301\n",
            "{'n_neighbors': 9, 'p': 2}\n"
          ]
        }
      ]
    },
    {
      "cell_type": "code",
      "source": [
        "opt_clf_knn = KNeighborsClassifier(**grid.best_params_)\n",
        "opt_clf_knn.fit(X_train_bord, y_train_bord)\n",
        "\n",
        "y_train_opt_clf_knn = opt_clf_knn.predict(X_train_bord)\n",
        "y_val_opt_clf_knn = opt_clf_knn.predict(X_val)\n",
        "\n",
        "print(classification_report(y_train_bord, y_train_opt_clf_knn, target_names=[\"Temp < 20\", \"Temp >= 20\"]))\n",
        "print(classification_report(y_val, y_val_opt_clf_knn, target_names=[\"Temp < 20\", \"Temp >= 20\"]))\n",
        "\n",
        "\n",
        "y_train_opt_clf_knn_prob = opt_clf_knn.predict_proba(X_train_bord)\n",
        "y_val_opt_clf_knn_prob = opt_clf_knn.predict_proba(X_val)\n",
        "\n",
        "\n",
        "print(f\"ROC AUC Score Train: {roc_auc_score(y_train_bord, y_train_opt_clf_knn_prob[:, 1]) * 100:.4f} %\")\n",
        "print(f\"ROC AUC Score Val: {roc_auc_score(y_val, y_val_opt_clf_knn_prob[:, 1]) * 100:.4f} %\")"
      ],
      "metadata": {
        "colab": {
          "base_uri": "https://localhost:8080/"
        },
        "id": "p2GZQ5TR3AG8",
        "outputId": "40211c77-2030-4229-a95f-9faeb16e02b4"
      },
      "execution_count": null,
      "outputs": [
        {
          "output_type": "stream",
          "name": "stdout",
          "text": [
            "              precision    recall  f1-score   support\n",
            "\n",
            "   Temp < 20       0.97      0.80      0.88      1464\n",
            "  Temp >= 20       0.83      0.97      0.90      1464\n",
            "\n",
            "    accuracy                           0.89      2928\n",
            "   macro avg       0.90      0.89      0.89      2928\n",
            "weighted avg       0.90      0.89      0.89      2928\n",
            "\n",
            "              precision    recall  f1-score   support\n",
            "\n",
            "   Temp < 20       0.72      0.74      0.73       341\n",
            "  Temp >= 20       0.56      0.54      0.55       212\n",
            "\n",
            "    accuracy                           0.66       553\n",
            "   macro avg       0.64      0.64      0.64       553\n",
            "weighted avg       0.66      0.66      0.66       553\n",
            "\n",
            "ROC AUC Score Train: 95.8702 %\n",
            "ROC AUC Score Val: 65.8904 %\n"
          ]
        }
      ]
    },
    {
      "cell_type": "code",
      "source": [],
      "metadata": {
        "id": "-KURgKnP3AEf"
      },
      "execution_count": null,
      "outputs": []
    },
    {
      "cell_type": "code",
      "source": [],
      "metadata": {
        "id": "m3lkP9Mi3AB3"
      },
      "execution_count": null,
      "outputs": []
    },
    {
      "cell_type": "markdown",
      "source": [
        "### Adaptive Synthetic (ADASYN) algorithm"
      ],
      "metadata": {
        "id": "dr-mzwFl21xI"
      }
    },
    {
      "cell_type": "code",
      "source": [
        "clf_knn = KNeighborsClassifier()\n",
        "grid = GridSearchCV(estimator=clf_knn,\n",
        "                    param_grid=param_grid_knn,\n",
        "                    scoring=\"f1\",\n",
        "                    cv=cv_ls_ada,\n",
        "                    n_jobs=-1)\n",
        "\n",
        "grid.fit(X_train_adasyn, y_train_adasyn)\n",
        "print(grid.best_score_)\n",
        "print(grid.best_params_)"
      ],
      "metadata": {
        "colab": {
          "base_uri": "https://localhost:8080/"
        },
        "id": "7fl7vyjX7HKd",
        "outputId": "10a3e2bf-3cff-4275-a03a-ce15f083dc2f"
      },
      "execution_count": null,
      "outputs": [
        {
          "output_type": "stream",
          "name": "stdout",
          "text": [
            "0.6493163897300948\n",
            "{'n_neighbors': 9, 'p': 2}\n"
          ]
        }
      ]
    },
    {
      "cell_type": "code",
      "source": [
        "opt_clf_knn = KNeighborsClassifier(**grid.best_params_)\n",
        "opt_clf_knn.fit(X_train_adasyn, y_train_adasyn)\n",
        "\n",
        "y_train_opt_clf_knn = opt_clf_knn.predict(X_train_adasyn)\n",
        "y_val_opt_clf_knn = opt_clf_knn.predict(X_val)\n",
        "\n",
        "print(classification_report(y_train_adasyn, y_train_opt_clf_knn, target_names=[\"Temp < 20\", \"Temp >= 20\"]))\n",
        "print(classification_report(y_val, y_val_opt_clf_knn, target_names=[\"Temp < 20\", \"Temp >= 20\"]))\n",
        "\n",
        "\n",
        "y_train_opt_clf_knn_prob = opt_clf_knn.predict_proba(X_train_adasyn)\n",
        "y_val_opt_clf_knn_prob = opt_clf_knn.predict_proba(X_val)\n",
        "\n",
        "\n",
        "print(f\"ROC AUC Score Train: {roc_auc_score(y_train_adasyn, y_train_opt_clf_knn_prob[:, 1]) * 100:.4f} %\")\n",
        "print(f\"ROC AUC Score Val: {roc_auc_score(y_val, y_val_opt_clf_knn_prob[:, 1]) * 100:.4f} %\")"
      ],
      "metadata": {
        "colab": {
          "base_uri": "https://localhost:8080/"
        },
        "id": "lLUVJzMV2zlS",
        "outputId": "1a21080b-ca5e-4dfc-d24d-3599f0b7b7af"
      },
      "execution_count": null,
      "outputs": [
        {
          "output_type": "stream",
          "name": "stdout",
          "text": [
            "              precision    recall  f1-score   support\n",
            "\n",
            "   Temp < 20       0.95      0.81      0.88      1464\n",
            "  Temp >= 20       0.83      0.96      0.89      1452\n",
            "\n",
            "    accuracy                           0.88      2916\n",
            "   macro avg       0.89      0.88      0.88      2916\n",
            "weighted avg       0.89      0.88      0.88      2916\n",
            "\n",
            "              precision    recall  f1-score   support\n",
            "\n",
            "   Temp < 20       0.72      0.74      0.73       341\n",
            "  Temp >= 20       0.56      0.54      0.55       212\n",
            "\n",
            "    accuracy                           0.66       553\n",
            "   macro avg       0.64      0.64      0.64       553\n",
            "weighted avg       0.66      0.66      0.66       553\n",
            "\n",
            "ROC AUC Score Train: 95.5086 %\n",
            "ROC AUC Score Val: 66.2383 %\n"
          ]
        }
      ]
    },
    {
      "cell_type": "markdown",
      "source": [
        "## Conclusion Classification"
      ],
      "metadata": {
        "id": "9nfsWHODu-XV"
      }
    },
    {
      "cell_type": "markdown",
      "source": [
        "\n",
        "| Rank | Model                                      | ROC AUC Score Val |\n",
        "|------|--------------------------------------------|------------------:|\n",
        "| 1    | RandomForest (ADASYN)                      |           81.641% |\n",
        "| 2    | DecisionTree (ADASYN)                      |           72.562% |\n",
        "| 3    | Logistic Regression (ADASYN)               |           71.583% |\n",
        "| 4    | Logistic Regression (Borderline SMOTE)     |           71.357% |\n",
        "| 5    | Logistic Regression (Random oversampling)  |           70.027% |\n",
        "| 6    | Logistic Regression (SMOTE)                |           70.027% |\n",
        "| 7    | KNN (SMOTE)                                |           67.103% |\n",
        "| 8    | KNN (Random oversampling)                  |           66.453% |\n",
        "| 9    | KNN (Borderline SMOTE)                     |           65.890% |\n",
        "| 10   | KNN (ADASYN)                               |           66.238 %  |\n",
        "| 11   | DecisionTree (Borderline SMOTE)            |           49.120% |\n",
        "| 12   | DecisionTree (SMOTE)                       |           43.242% |\n",
        "| 13   | DecisionTree (Random oversampling)         |           39.486% |\n",
        "\n",
        "\n",
        "Overall, the RandomForest model with ADASYN oversampling demonstrated the highest performance, followed by the DecisionTree (ADASYN) and Logistic Regression models with different oversampling techniques. The KNN models performed moderately well, while the DecisionTree models had the lowest performance among the evaluated models."
      ],
      "metadata": {
        "id": "yTLryqdlrfWB"
      }
    },
    {
      "cell_type": "markdown",
      "source": [
        "## Custom Scoring (Logistic Regression)"
      ],
      "metadata": {
        "id": "alZ2KuRE9ofC"
      }
    },
    {
      "cell_type": "markdown",
      "source": [
        "### Define Logic of Cost Function"
      ],
      "metadata": {
        "id": "tZKYLjBtQFPz"
      }
    },
    {
      "cell_type": "code",
      "source": [
        "0 -> temp < 20\n",
        "1 -> temp >= 20\n",
        "\n",
        "basis\n",
        "0 -> negative\n",
        "1 -> positive\n",
        "\n",
        "get score\n",
        "true 0 predict 0 -> acc 1 (true negative) | cost -> 0\n",
        "true 1 predict 1 -> acc 1 (true positive) | cost -> 0\n",
        "\n",
        "get penalty\n",
        "true 0 predict 1 -> acc 0 (false positive) | cost -> 100\n",
        "true 1 predict 0 -> acc 0 (false negative) | cost -> 0"
      ],
      "metadata": {
        "id": "MKlyNAlhHrXI"
      },
      "execution_count": null,
      "outputs": []
    },
    {
      "cell_type": "code",
      "source": [
        "def cost_electricity(y_trues, y_preds):\n",
        "  \"\"\"\n",
        "  This function defines the logic of the cost function.\n",
        "\n",
        "  Args:\n",
        "    y_true: A list of ground truth labels.\n",
        "    y_pred: A list of predicted labels.\n",
        "\n",
        "  Returns:\n",
        "    The cost of the model.\n",
        "  \"\"\"\n",
        "\n",
        "  # Get the number of samples.\n",
        "  num_samples = len(y_trues)\n",
        "\n",
        "  # Initialize the cost to 0.\n",
        "  cost = 0\n",
        "\n",
        "  # Iterate over all samples.\n",
        "  for i in range(num_samples):\n",
        "    # If the ground truth label is 0 and the predicted label is 1, then the cost is 100.\n",
        "    if y_trues[i] == 0 and y_preds[i] == 1:\n",
        "      cost += 100\n",
        "\n",
        "    # If the ground truth label is 1 and the predicted label is 0, then the cost is 0.\n",
        "    elif y_trues[i] == 1 and y_preds[i] == 0:\n",
        "      cost += 0\n",
        "\n",
        "    # Otherwise, the cost is 0.\n",
        "    else:\n",
        "      cost += 0\n",
        "\n",
        "  # Return the cost.\n",
        "  return cost\n"
      ],
      "metadata": {
        "id": "-cP7vkD1hlpr"
      },
      "execution_count": null,
      "outputs": []
    },
    {
      "cell_type": "code",
      "source": [
        "def avg_f1(y_trues, y_preds):\n",
        "    avg_f1 = (f1_score(y_trues, y_preds, pos_label=0) + f1_score(y_trues, y_preds, pos_label=1))/2\n",
        "    return avg_f1"
      ],
      "metadata": {
        "id": "kfB4DvowRcq0"
      },
      "execution_count": null,
      "outputs": []
    },
    {
      "cell_type": "code",
      "source": [
        "score_cost_electricity = make_scorer(cost_electricity, greater_is_better=False)\n",
        "score_avg_f1 = make_scorer(avg_f1, greater_is_better=True)"
      ],
      "metadata": {
        "id": "w6t3Y_EuHrEl"
      },
      "execution_count": null,
      "outputs": []
    },
    {
      "cell_type": "markdown",
      "source": [
        "### Random Oversampling"
      ],
      "metadata": {
        "id": "kK_i0If0xQOs"
      }
    },
    {
      "cell_type": "code",
      "source": [
        "clf_log = LogisticRegression(random_state=2022, multi_class='ovr', n_jobs=-1)\n",
        "grid = GridSearchCV(estimator=clf_log,\n",
        "                    param_grid=param_grid,\n",
        "                    scoring=score_cost_electricity,\n",
        "                    cv=cv_ls_rand,\n",
        "                    n_jobs=-1)\n",
        "\n",
        "grid.fit(X_train_rand, y_train_rand)\n",
        "print(grid.best_score_)\n",
        "print(grid.best_params_)"
      ],
      "metadata": {
        "colab": {
          "base_uri": "https://localhost:8080/"
        },
        "id": "pFARRrKCHq95",
        "outputId": "6f2c9af8-6cfe-4176-9264-30aa9dcca027"
      },
      "execution_count": null,
      "outputs": [
        {
          "output_type": "stream",
          "name": "stdout",
          "text": [
            "-140.0\n",
            "{'C': 1e-05, 'l1_ratio': 1e-05, 'penalty': 'l1', 'solver': 'saga'}\n"
          ]
        },
        {
          "output_type": "stream",
          "name": "stderr",
          "text": [
            "/usr/local/lib/python3.10/dist-packages/sklearn/linear_model/_logistic.py:1165: UserWarning: l1_ratio parameter is only used when penalty is 'elasticnet'. Got (penalty=l1)\n",
            "  warnings.warn(\n"
          ]
        }
      ]
    },
    {
      "cell_type": "code",
      "source": [
        "opt_clf_log = LogisticRegression(**grid.best_params_, random_state=2022, n_jobs=-1)\n",
        "opt_clf_log.fit(X_train_rand, y_train_rand)\n",
        "\n",
        "y_train_opt_clf_log = opt_clf_log.predict(X_train_rand)\n",
        "y_val_opt_clf_log = opt_clf_log.predict(X_val)\n",
        "\n",
        "print(classification_report(y_train_rand, y_train_opt_clf_log, target_names=[\"Temp < 20\", \"Temp >= 20\"]))\n",
        "print(classification_report(y_val, y_val_opt_clf_log, target_names=[\"Temp < 20\", \"Temp >= 20\"]))\n",
        "\n",
        "\n",
        "y_train_opt_clf_log_prob = opt_clf_log.predict_proba(X_train_rand)\n",
        "y_val_opt_clf_log_prob = opt_clf_log.predict_proba(X_val)\n",
        "\n",
        "print(f\"AVG Electricity Cost Train: {cost_electricity(y_train_rand, y_train_opt_clf_log)/len(y_train_rand):.4f} Baht\")\n",
        "print(f\"AVG Electricity Cost Val: {cost_electricity(y_val, y_val_opt_clf_log)/len(y_val):.4f} Baht\")\n",
        "\n",
        "print(f\"AVG F1 Score Train: {avg_f1(y_train_rand, y_train_opt_clf_log)*100:.4f} %\")\n",
        "print(f\"AVG F1 Score Val: {avg_f1(y_val, y_val_opt_clf_log)*100:.4f} %\")\n",
        "\n",
        "print(f\"ROC AUC Score Train: {roc_auc_score(y_train_rand, y_train_opt_clf_log_prob[:, 1]) * 100:.4f} %\")\n",
        "print(f\"ROC AUC Score Val: {roc_auc_score(y_val, y_val_opt_clf_log_prob[:, 1]) * 100:.4f} %\")"
      ],
      "metadata": {
        "id": "DT1iEn0ncWVk",
        "colab": {
          "base_uri": "https://localhost:8080/"
        },
        "outputId": "bdd46dac-b2d6-4db6-c31e-e74edb29153b"
      },
      "execution_count": null,
      "outputs": [
        {
          "output_type": "stream",
          "name": "stdout",
          "text": [
            "              precision    recall  f1-score   support\n",
            "\n",
            "   Temp < 20       0.61      0.91      0.73      1464\n",
            "  Temp >= 20       0.82      0.42      0.56      1464\n",
            "\n",
            "    accuracy                           0.67      2928\n",
            "   macro avg       0.72      0.67      0.65      2928\n",
            "weighted avg       0.72      0.67      0.65      2928\n",
            "\n",
            "              precision    recall  f1-score   support\n",
            "\n",
            "   Temp < 20       0.71      0.88      0.78       341\n",
            "  Temp >= 20       0.68      0.42      0.51       212\n",
            "\n",
            "    accuracy                           0.70       553\n",
            "   macro avg       0.69      0.65      0.65       553\n",
            "weighted avg       0.70      0.70      0.68       553\n",
            "\n",
            "AVG Electricity Cost Train: 4.5082 Baht\n",
            "AVG Electricity Cost Val: 7.5949 Baht\n",
            "AVG F1 Score Train: 64.6568 %\n",
            "AVG F1 Score Val: 64.8671 %\n",
            "ROC AUC Score Train: 72.6466 %\n",
            "ROC AUC Score Val: 70.0271 %\n"
          ]
        },
        {
          "output_type": "stream",
          "name": "stderr",
          "text": [
            "/usr/local/lib/python3.10/dist-packages/sklearn/linear_model/_logistic.py:1165: UserWarning: l1_ratio parameter is only used when penalty is 'elasticnet'. Got (penalty=l1)\n",
            "  warnings.warn(\n"
          ]
        }
      ]
    },
    {
      "cell_type": "code",
      "source": [],
      "metadata": {
        "id": "F5_5CD4hSxxK"
      },
      "execution_count": null,
      "outputs": []
    },
    {
      "cell_type": "markdown",
      "source": [
        "###SMOTE"
      ],
      "metadata": {
        "id": "R9shSGwc04fS"
      }
    },
    {
      "cell_type": "code",
      "source": [
        "clf_log = LogisticRegression(random_state=2022, multi_class='ovr', n_jobs=-1)\n",
        "grid = GridSearchCV(estimator=clf_log,\n",
        "                    param_grid=param_grid,\n",
        "                    scoring=score_cost_electricity,\n",
        "                    cv=cv_ls_smote,\n",
        "                    n_jobs=-1)\n",
        "\n",
        "grid.fit(X_train_smote, y_train_smote)\n",
        "print(grid.best_score_)\n",
        "print(grid.best_estimator_)"
      ],
      "metadata": {
        "colab": {
          "base_uri": "https://localhost:8080/"
        },
        "id": "TenENA-Lxdnr",
        "outputId": "34fb3f3e-4be0-4662-a205-063de4adc9bd"
      },
      "execution_count": null,
      "outputs": [
        {
          "output_type": "stream",
          "name": "stdout",
          "text": [
            "-140.0\n",
            "LogisticRegression(C=1e-05, l1_ratio=1e-05, multi_class='ovr', n_jobs=-1,\n",
            "                   penalty='l1', random_state=2022, solver='saga')\n"
          ]
        },
        {
          "output_type": "stream",
          "name": "stderr",
          "text": [
            "/usr/local/lib/python3.10/dist-packages/sklearn/linear_model/_logistic.py:1165: UserWarning: l1_ratio parameter is only used when penalty is 'elasticnet'. Got (penalty=l1)\n",
            "  warnings.warn(\n"
          ]
        }
      ]
    },
    {
      "cell_type": "code",
      "source": [
        "opt_clf_log = LogisticRegression(**grid.best_params_, random_state=2022, n_jobs=-1)\n",
        "opt_clf_log.fit(X_train_smote, y_train_smote)\n",
        "\n",
        "y_train_opt_clf_log = opt_clf_log.predict(X_train_smote)\n",
        "y_val_opt_clf_log = opt_clf_log.predict(X_val)\n",
        "\n",
        "print(classification_report(y_train_smote, y_train_opt_clf_log, target_names=[\"Temp < 20\", \"Temp >= 20\"]))\n",
        "print(classification_report(y_val, y_val_opt_clf_log, target_names=[\"Temp < 20\", \"Temp >= 20\"]))\n",
        "\n",
        "\n",
        "y_train_opt_clf_log_prob = opt_clf_log.predict_proba(X_train_smote)\n",
        "y_val_opt_clf_log_prob = opt_clf_log.predict_proba(X_val)\n",
        "\n",
        "print(f\"AVG Electricity Cost Train: {cost_electricity(y_train_smote, y_train_opt_clf_log)/len(y_train_smote):.4f} Baht\")\n",
        "print(f\"AVG Electricity Cost Val: {cost_electricity(y_val, y_val_opt_clf_log)/len(y_val):.4f} Baht\")\n",
        "\n",
        "print(f\"AVG F1 Score Train: {avg_f1(y_train_smote, y_train_opt_clf_log)*100:.4f} %\")\n",
        "print(f\"AVG F1 Score Val: {avg_f1(y_val, y_val_opt_clf_log)*100:.4f} %\")\n",
        "\n",
        "print(f\"ROC AUC Score Train: {roc_auc_score(y_train_rand, y_train_opt_clf_log_prob[:, 1]) * 100:.4f} %\")\n",
        "print(f\"ROC AUC Score Val: {roc_auc_score(y_val, y_val_opt_clf_log_prob[:, 1]) * 100:.4f} %\")"
      ],
      "metadata": {
        "colab": {
          "base_uri": "https://localhost:8080/"
        },
        "id": "xOAeOClk0ibZ",
        "outputId": "d2085c43-ad03-4017-e5d6-61bcb06eec34"
      },
      "execution_count": null,
      "outputs": [
        {
          "output_type": "stream",
          "name": "stdout",
          "text": [
            "              precision    recall  f1-score   support\n",
            "\n",
            "   Temp < 20       0.62      0.91      0.74      1464\n",
            "  Temp >= 20       0.83      0.43      0.57      1464\n",
            "\n",
            "    accuracy                           0.67      2928\n",
            "   macro avg       0.72      0.67      0.65      2928\n",
            "weighted avg       0.72      0.67      0.65      2928\n",
            "\n",
            "              precision    recall  f1-score   support\n",
            "\n",
            "   Temp < 20       0.71      0.88      0.78       341\n",
            "  Temp >= 20       0.68      0.42      0.51       212\n",
            "\n",
            "    accuracy                           0.70       553\n",
            "   macro avg       0.69      0.65      0.65       553\n",
            "weighted avg       0.70      0.70      0.68       553\n",
            "\n",
            "AVG Electricity Cost Train: 4.4740 Baht\n",
            "AVG Electricity Cost Val: 7.5949 Baht\n",
            "AVG F1 Score Train: 65.1954 %\n",
            "AVG F1 Score Val: 64.8671 %\n",
            "ROC AUC Score Train: 72.9360 %\n",
            "ROC AUC Score Val: 70.0271 %\n"
          ]
        },
        {
          "output_type": "stream",
          "name": "stderr",
          "text": [
            "/usr/local/lib/python3.10/dist-packages/sklearn/linear_model/_logistic.py:1165: UserWarning: l1_ratio parameter is only used when penalty is 'elasticnet'. Got (penalty=l1)\n",
            "  warnings.warn(\n"
          ]
        }
      ]
    },
    {
      "cell_type": "code",
      "source": [],
      "metadata": {
        "id": "MxseQkNi1PVH"
      },
      "execution_count": null,
      "outputs": []
    },
    {
      "cell_type": "markdown",
      "source": [
        "###Borderline SMOTE"
      ],
      "metadata": {
        "id": "hMNwc6IV1h6S"
      }
    },
    {
      "cell_type": "code",
      "source": [
        "clf_log = LogisticRegression(random_state=2022, multi_class='ovr', n_jobs=-1)\n",
        "grid = GridSearchCV(estimator=clf_log,\n",
        "                    param_grid=param_grid,\n",
        "                    scoring=score_cost_electricity,\n",
        "                    cv=cv_ls_bord,\n",
        "                    n_jobs=-1)\n",
        "\n",
        "grid.fit(X_train_bord, y_train_bord)\n",
        "print(grid.best_score_)\n",
        "print(grid.best_estimator_)"
      ],
      "metadata": {
        "colab": {
          "base_uri": "https://localhost:8080/"
        },
        "id": "heKHcO6r1PTY",
        "outputId": "162a8025-9497-434a-c628-abb0c0c641b8"
      },
      "execution_count": null,
      "outputs": [
        {
          "output_type": "stream",
          "name": "stdout",
          "text": [
            "-140.0\n",
            "LogisticRegression(C=1e-05, l1_ratio=1e-05, multi_class='ovr', n_jobs=-1,\n",
            "                   penalty='l1', random_state=2022, solver='saga')\n"
          ]
        },
        {
          "output_type": "stream",
          "name": "stderr",
          "text": [
            "/usr/local/lib/python3.10/dist-packages/sklearn/linear_model/_logistic.py:1165: UserWarning: l1_ratio parameter is only used when penalty is 'elasticnet'. Got (penalty=l1)\n",
            "  warnings.warn(\n"
          ]
        }
      ]
    },
    {
      "cell_type": "code",
      "source": [
        "opt_clf_log = LogisticRegression(**grid.best_params_, random_state=2022, n_jobs=-1)\n",
        "opt_clf_log.fit(X_train_bord, y_train_bord)\n",
        "\n",
        "y_train_opt_clf_log = opt_clf_log.predict(X_train_bord)\n",
        "y_val_opt_clf_log = opt_clf_log.predict(X_val)\n",
        "\n",
        "print(classification_report(y_train_bord, y_train_opt_clf_log, target_names=[\"Temp < 20\", \"Temp >= 20\"]))\n",
        "print(classification_report(y_val, y_val_opt_clf_log, target_names=[\"Temp < 20\", \"Temp >= 20\"]))\n",
        "\n",
        "\n",
        "y_train_opt_clf_log_prob = opt_clf_log.predict_proba(X_train_bord)\n",
        "y_val_opt_clf_log_prob = opt_clf_log.predict_proba(X_val)\n",
        "\n",
        "print(f\"AVG Electricity Cost Train: {cost_electricity(y_train_bord, y_train_opt_clf_log)/len(y_train_bord):.4f} Baht\")\n",
        "print(f\"AVG Electricity Cost Val: {cost_electricity(y_val, y_val_opt_clf_log)/len(y_val):.4f} Baht\")\n",
        "\n",
        "print(f\"AVG F1 Score Train: {avg_f1(y_train_bord, y_train_opt_clf_log)*100:.4f} %\")\n",
        "print(f\"AVG F1 Score Val: {avg_f1(y_val, y_val_opt_clf_log)*100:.4f} %\")\n",
        "\n",
        "print(f\"ROC AUC Score Train: {roc_auc_score(y_train_rand, y_train_opt_clf_log_prob[:, 1]) * 100:.4f} %\")\n",
        "print(f\"ROC AUC Score Val: {roc_auc_score(y_val, y_val_opt_clf_log_prob[:, 1]) * 100:.4f} %\")"
      ],
      "metadata": {
        "colab": {
          "base_uri": "https://localhost:8080/"
        },
        "id": "v6TD962z1PPw",
        "outputId": "2cb36037-e686-468f-ea1d-dff696df3a6e"
      },
      "execution_count": null,
      "outputs": [
        {
          "output_type": "stream",
          "name": "stdout",
          "text": [
            "              precision    recall  f1-score   support\n",
            "\n",
            "   Temp < 20       0.60      0.90      0.72      1464\n",
            "  Temp >= 20       0.80      0.40      0.54      1464\n",
            "\n",
            "    accuracy                           0.65      2928\n",
            "   macro avg       0.70      0.65      0.63      2928\n",
            "weighted avg       0.70      0.65      0.63      2928\n",
            "\n",
            "              precision    recall  f1-score   support\n",
            "\n",
            "   Temp < 20       0.72      0.86      0.78       341\n",
            "  Temp >= 20       0.67      0.45      0.54       212\n",
            "\n",
            "    accuracy                           0.71       553\n",
            "   macro avg       0.69      0.66      0.66       553\n",
            "weighted avg       0.70      0.71      0.69       553\n",
            "\n",
            "AVG Electricity Cost Train: 4.9863 Baht\n",
            "AVG Electricity Cost Val: 8.4991 Baht\n",
            "AVG F1 Score Train: 62.9116 %\n",
            "AVG F1 Score Val: 66.1901 %\n",
            "ROC AUC Score Train: 69.0985 %\n",
            "ROC AUC Score Val: 71.3578 %\n"
          ]
        },
        {
          "output_type": "stream",
          "name": "stderr",
          "text": [
            "/usr/local/lib/python3.10/dist-packages/sklearn/linear_model/_logistic.py:1165: UserWarning: l1_ratio parameter is only used when penalty is 'elasticnet'. Got (penalty=l1)\n",
            "  warnings.warn(\n"
          ]
        }
      ]
    },
    {
      "cell_type": "markdown",
      "source": [
        "###ADASYN"
      ],
      "metadata": {
        "id": "EceNzM9w13gw"
      }
    },
    {
      "cell_type": "code",
      "source": [
        "clf_log = LogisticRegression(random_state=2022, multi_class='ovr', n_jobs=-1)\n",
        "grid = GridSearchCV(estimator=clf_log,\n",
        "                    param_grid=param_grid,\n",
        "                    scoring=score_cost_electricity,\n",
        "                    cv=cv_ls_ada,\n",
        "                    n_jobs=-1)\n",
        "\n",
        "grid.fit(X_train_adasyn, y_train_adasyn)\n",
        "print(grid.best_score_)\n",
        "print(grid.best_estimator_)"
      ],
      "metadata": {
        "colab": {
          "base_uri": "https://localhost:8080/"
        },
        "id": "Ae5rp_g21PNJ",
        "outputId": "6b655d0d-86a6-4295-9f13-47fdec4d2746"
      },
      "execution_count": null,
      "outputs": [
        {
          "output_type": "stream",
          "name": "stdout",
          "text": [
            "-130.0\n",
            "LogisticRegression(C=1e-05, l1_ratio=1e-05, multi_class='ovr', n_jobs=-1,\n",
            "                   penalty='l1', random_state=2022, solver='saga')\n"
          ]
        },
        {
          "output_type": "stream",
          "name": "stderr",
          "text": [
            "/usr/local/lib/python3.10/dist-packages/sklearn/linear_model/_logistic.py:1165: UserWarning: l1_ratio parameter is only used when penalty is 'elasticnet'. Got (penalty=l1)\n",
            "  warnings.warn(\n"
          ]
        }
      ]
    },
    {
      "cell_type": "code",
      "source": [
        "opt_clf_log = LogisticRegression(**grid.best_params_, random_state=2022, n_jobs=-1)\n",
        "opt_clf_log.fit(X_train_adasyn, y_train_adasyn)\n",
        "\n",
        "y_train_opt_clf_log = opt_clf_log.predict(X_train_adasyn)\n",
        "y_val_opt_clf_log = opt_clf_log.predict(X_val)\n",
        "\n",
        "print(classification_report(y_train_adasyn, y_train_opt_clf_log, target_names=[\"Temp < 20\", \"Temp >= 20\"]))\n",
        "print(classification_report(y_val, y_val_opt_clf_log, target_names=[\"Temp < 20\", \"Temp >= 20\"]))\n",
        "\n",
        "\n",
        "y_train_opt_clf_log_prob = opt_clf_log.predict_proba(X_train_adasyn)\n",
        "y_val_opt_clf_log_prob = opt_clf_log.predict_proba(X_val)\n",
        "\n",
        "print(f\"AVG Electricity Cost Train: {cost_electricity(y_train_adasyn, y_train_opt_clf_log)/len(y_train_adasyn):.4f} Baht\")\n",
        "print(f\"AVG Electricity Cost Val: {cost_electricity(y_val, y_val_opt_clf_log)/len(y_val):.4f} Baht\")\n",
        "\n",
        "print(f\"AVG F1 Score Train: {avg_f1(y_train_adasyn, y_train_opt_clf_log)*100:.4f} %\")\n",
        "print(f\"AVG F1 Score Val: {avg_f1(y_val, y_val_opt_clf_log)*100:.4f} %\")\n",
        "\n",
        "print(f\"ROC AUC Score Train: {roc_auc_score(y_train_adasyn, y_train_opt_clf_log_prob[:, 1]) * 100:.4f} %\")\n",
        "print(f\"ROC AUC Score Val: {roc_auc_score(y_val, y_val_opt_clf_log_prob[:, 1]) * 100:.4f} %\")"
      ],
      "metadata": {
        "colab": {
          "base_uri": "https://localhost:8080/"
        },
        "id": "ABrOrc-n1PKq",
        "outputId": "77d01cc5-af05-4979-9553-a19eafde5743"
      },
      "execution_count": null,
      "outputs": [
        {
          "output_type": "stream",
          "name": "stderr",
          "text": [
            "/usr/local/lib/python3.10/dist-packages/sklearn/linear_model/_logistic.py:1165: UserWarning: l1_ratio parameter is only used when penalty is 'elasticnet'. Got (penalty=l1)\n",
            "  warnings.warn(\n"
          ]
        },
        {
          "output_type": "stream",
          "name": "stdout",
          "text": [
            "              precision    recall  f1-score   support\n",
            "\n",
            "   Temp < 20       0.64      0.90      0.75      1464\n",
            "  Temp >= 20       0.82      0.49      0.61      1452\n",
            "\n",
            "    accuracy                           0.69      2916\n",
            "   macro avg       0.73      0.69      0.68      2916\n",
            "weighted avg       0.73      0.69      0.68      2916\n",
            "\n",
            "              precision    recall  f1-score   support\n",
            "\n",
            "   Temp < 20       0.72      0.86      0.78       341\n",
            "  Temp >= 20       0.67      0.46      0.55       212\n",
            "\n",
            "    accuracy                           0.71       553\n",
            "   macro avg       0.69      0.66      0.66       553\n",
            "weighted avg       0.70      0.71      0.69       553\n",
            "\n",
            "AVG Electricity Cost Train: 5.1783 Baht\n",
            "AVG Electricity Cost Val: 8.8608 Baht\n",
            "AVG F1 Score Train: 67.9266 %\n",
            "AVG F1 Score Val: 66.3877 %\n",
            "ROC AUC Score Train: 72.7630 %\n",
            "ROC AUC Score Val: 71.5833 %\n"
          ]
        }
      ]
    },
    {
      "cell_type": "markdown",
      "source": [
        "##Conclusion Custom scoring"
      ],
      "metadata": {
        "id": "RNklHUifwrJA"
      }
    },
    {
      "cell_type": "markdown",
      "source": [
        "\n",
        "| Technique       | AVG Electricity Cost Train | AVG Electricity Cost Val | AVG F1 Score Train | AVG F1 Score Val | ROC AUC Score Train | ROC AUC Score Val |\n",
        "|-----------------|---------------------------|-------------------------|--------------------|------------------|---------------------|-------------------|\n",
        "| Random oversampling | 4.5082 Baht | 7.5949 Baht | 64.6568% | 64.8671% | 72.6466% | 70.0271% |\n",
        "| SMOTE           | 4.4740 Baht                | 7.5949 Baht             | 65.1954%           | 64.8671%         | 72.9360%                | 70.0271%             |\n",
        "| Borderline SMOTE | 4.9863 Baht                | 8.4991 Baht             | 62.9116%           | 66.1901%         | 69.0985%                | 71.3578%             |\n",
        "| ADASYN          | 5.1783 Baht                | 8.8608 Baht             | 67.9266%           | 66.3877%         | 72.7630%                | 71.5833%             |\n",
        "\n",
        "Considering the focus on lower costs, the Random oversampling and SMOTE techniques appear to be more favorable choices, as they have lower average electricity costs compared to Borderline SMOTE and ADASYN."
      ],
      "metadata": {
        "id": "MUrSRY7Bwee1"
      }
    },
    {
      "cell_type": "code",
      "source": [],
      "metadata": {
        "id": "I1fVsvUc1O9R"
      },
      "execution_count": null,
      "outputs": []
    },
    {
      "cell_type": "markdown",
      "source": [
        "## Model 5  (LGBM with Optuna)"
      ],
      "metadata": {
        "id": "IzAjT9CyGtJb"
      }
    },
    {
      "cell_type": "code",
      "source": [
        "!pip install optuna"
      ],
      "metadata": {
        "colab": {
          "base_uri": "https://localhost:8080/"
        },
        "id": "0aehy3MvGs__",
        "outputId": "72c2929c-cbb6-4726-972d-977d0d108802"
      },
      "execution_count": null,
      "outputs": [
        {
          "output_type": "stream",
          "name": "stdout",
          "text": [
            "Looking in indexes: https://pypi.org/simple, https://us-python.pkg.dev/colab-wheels/public/simple/\n",
            "Collecting optuna\n",
            "  Downloading optuna-3.2.0-py3-none-any.whl (390 kB)\n",
            "\u001b[2K     \u001b[90m━━━━━━━━━━━━━━━━━━━━━━━━━━━━━━━━━━━━━━━\u001b[0m \u001b[32m390.6/390.6 kB\u001b[0m \u001b[31m7.5 MB/s\u001b[0m eta \u001b[36m0:00:00\u001b[0m\n",
            "\u001b[?25hCollecting alembic>=1.5.0 (from optuna)\n",
            "  Downloading alembic-1.11.1-py3-none-any.whl (224 kB)\n",
            "\u001b[2K     \u001b[90m━━━━━━━━━━━━━━━━━━━━━━━━━━━━━━━━━━━━━━\u001b[0m \u001b[32m224.5/224.5 kB\u001b[0m \u001b[31m19.1 MB/s\u001b[0m eta \u001b[36m0:00:00\u001b[0m\n",
            "\u001b[?25hCollecting cmaes>=0.9.1 (from optuna)\n",
            "  Downloading cmaes-0.9.1-py3-none-any.whl (21 kB)\n",
            "Collecting colorlog (from optuna)\n",
            "  Downloading colorlog-6.7.0-py2.py3-none-any.whl (11 kB)\n",
            "Requirement already satisfied: numpy in /usr/local/lib/python3.10/dist-packages (from optuna) (1.22.4)\n",
            "Requirement already satisfied: packaging>=20.0 in /usr/local/lib/python3.10/dist-packages (from optuna) (23.1)\n",
            "Requirement already satisfied: sqlalchemy>=1.3.0 in /usr/local/lib/python3.10/dist-packages (from optuna) (2.0.10)\n",
            "Requirement already satisfied: tqdm in /usr/local/lib/python3.10/dist-packages (from optuna) (4.65.0)\n",
            "Requirement already satisfied: PyYAML in /usr/local/lib/python3.10/dist-packages (from optuna) (6.0)\n",
            "Collecting Mako (from alembic>=1.5.0->optuna)\n",
            "  Downloading Mako-1.2.4-py3-none-any.whl (78 kB)\n",
            "\u001b[2K     \u001b[90m━━━━━━━━━━━━━━━━━━━━━━━━━━━━━━━━━━━━━━━━\u001b[0m \u001b[32m78.7/78.7 kB\u001b[0m \u001b[31m8.6 MB/s\u001b[0m eta \u001b[36m0:00:00\u001b[0m\n",
            "\u001b[?25hRequirement already satisfied: typing-extensions>=4 in /usr/local/lib/python3.10/dist-packages (from alembic>=1.5.0->optuna) (4.5.0)\n",
            "Requirement already satisfied: greenlet!=0.4.17 in /usr/local/lib/python3.10/dist-packages (from sqlalchemy>=1.3.0->optuna) (2.0.2)\n",
            "Requirement already satisfied: MarkupSafe>=0.9.2 in /usr/local/lib/python3.10/dist-packages (from Mako->alembic>=1.5.0->optuna) (2.1.2)\n",
            "Installing collected packages: Mako, colorlog, cmaes, alembic, optuna\n",
            "Successfully installed Mako-1.2.4 alembic-1.11.1 cmaes-0.9.1 colorlog-6.7.0 optuna-3.2.0\n"
          ]
        }
      ]
    },
    {
      "cell_type": "code",
      "source": [
        "!pip install lightgbm"
      ],
      "metadata": {
        "colab": {
          "base_uri": "https://localhost:8080/"
        },
        "id": "JaQxy5BLGs99",
        "outputId": "f2150d77-7c94-4b1d-bcf4-2b86d689e7a3"
      },
      "execution_count": null,
      "outputs": [
        {
          "output_type": "stream",
          "name": "stdout",
          "text": [
            "Looking in indexes: https://pypi.org/simple, https://us-python.pkg.dev/colab-wheels/public/simple/\n",
            "Requirement already satisfied: lightgbm in /usr/local/lib/python3.10/dist-packages (3.3.5)\n",
            "Requirement already satisfied: wheel in /usr/local/lib/python3.10/dist-packages (from lightgbm) (0.40.0)\n",
            "Requirement already satisfied: numpy in /usr/local/lib/python3.10/dist-packages (from lightgbm) (1.22.4)\n",
            "Requirement already satisfied: scipy in /usr/local/lib/python3.10/dist-packages (from lightgbm) (1.10.1)\n",
            "Requirement already satisfied: scikit-learn!=0.22.0 in /usr/local/lib/python3.10/dist-packages (from lightgbm) (1.2.2)\n",
            "Requirement already satisfied: joblib>=1.1.1 in /usr/local/lib/python3.10/dist-packages (from scikit-learn!=0.22.0->lightgbm) (1.2.0)\n",
            "Requirement already satisfied: threadpoolctl>=2.0.0 in /usr/local/lib/python3.10/dist-packages (from scikit-learn!=0.22.0->lightgbm) (3.1.0)\n"
          ]
        }
      ]
    },
    {
      "cell_type": "code",
      "source": [
        "import lightgbm as lgb\n",
        "import optuna"
      ],
      "metadata": {
        "id": "xc-cVV4qGs78"
      },
      "execution_count": null,
      "outputs": []
    },
    {
      "cell_type": "code",
      "source": [
        "def objective(trial):\n",
        "    params = {\n",
        "        'metric': 'logloss',\n",
        "        'random_state': 42,\n",
        "        'n_estimators': 300,\n",
        "        'learning_rate': 0.1,\n",
        "        'reg_alpha': trial.suggest_loguniform('reg_alpha', 1e-3, 10.0),\n",
        "        'reg_lambda': trial.suggest_loguniform('reg_lambda', 1e-3, 10.0),\n",
        "        'colsample_bytree': trial.suggest_categorical('colsample_bytree', [0.3,0.4,0.5,0.6,0.7,0.8,0.9, 1.0]),\n",
        "        'subsample': trial.suggest_categorical('subsample', [0.4,0.5,0.6,0.7,0.8,1.0]),\n",
        "        'max_depth': trial.suggest_categorical('max_depth', [10,20,30,40,50]),\n",
        "        'num_leaves' : trial.suggest_int('num_leaves', 1, 100),\n",
        "        'min_child_samples': trial.suggest_int('min_child_samples', 1, 300),\n",
        "        'cat_smooth' : trial.suggest_int('cat_smooth', 1, 100)\n",
        "    }\n",
        "    model = lgb.LGBMClassifier(**params)\n",
        "\n",
        "    model.fit(X_train, y_train)\n",
        "\n",
        "    y_val_pred = model.predict(X_val)\n",
        "    cost = cost_electricity(y_val, y_val_pred)\n",
        "\n",
        "    return cost"
      ],
      "metadata": {
        "id": "RWB3zzrYGs50"
      },
      "execution_count": null,
      "outputs": []
    },
    {
      "cell_type": "code",
      "source": [
        "#Discretize label columns\n",
        "df_train[\"Temp_Class\"] = get_classs_temps(df_train[\"Indoor_temperature_room\"].values)"
      ],
      "metadata": {
        "id": "arFwKulMIJCs"
      },
      "execution_count": null,
      "outputs": []
    },
    {
      "cell_type": "code",
      "source": [
        "df_train[\"Temp_Class\"].value_counts(normalize=True)"
      ],
      "metadata": {
        "colab": {
          "base_uri": "https://localhost:8080/"
        },
        "outputId": "ae05913d-a20e-45bb-a7b0-25230757279c",
        "id": "kOMxInoaIJCt"
      },
      "execution_count": null,
      "outputs": [
        {
          "output_type": "execute_result",
          "data": {
            "text/plain": [
              "0    0.653039\n",
              "1    0.346961\n",
              "Name: Temp_Class, dtype: float64"
            ]
          },
          "metadata": {},
          "execution_count": 13
        }
      ]
    },
    {
      "cell_type": "code",
      "source": [
        "#Define features columns\n",
        "FEATURES_COLUMNS = [\n",
        "    \"CO2_room\",\n",
        "    \"Relative_humidity_room\",\n",
        "    \"Meteo_Sun_irradiance\",\n",
        "    'Meteo_Rain',\n",
        "    'Meteo_Sun_dusk',\n",
        "    'Meteo_Wind',\n",
        "    'Meteo_Sun_light_in_west_facade',\n",
        "    'Meteo_Sun_light_in_east_facade',\n",
        "    'Outdoor_relative_humidity_Sensor',\n",
        "    'Day_of_the_week'\n",
        "]"
      ],
      "metadata": {
        "id": "lgLtNLgiIJCt"
      },
      "execution_count": null,
      "outputs": []
    },
    {
      "cell_type": "code",
      "source": [
        "#Define X_train,X_val,y_train,y_val\n",
        "df_train_prepared, df_valid_prepared = split_train_test2(df_train, FEATURES_COLUMNS, train_size=0.8)\n",
        "print(f\"Train shape: {df_train_prepared.shape}\")\n",
        "print(f\"Val shape: {df_valid_prepared.shape}\")\n",
        "\n",
        "X_train = df_train_prepared[FEATURES_COLUMNS].values\n",
        "X_val = df_valid_prepared[FEATURES_COLUMNS].values\n",
        "\n",
        "y_train = df_train_prepared[\"Temp_Class\"].values\n",
        "y_val = df_valid_prepared[\"Temp_Class\"].values\n",
        "\n",
        "print(f\"X Train shape: {X_train.shape}\")\n",
        "print(f\"X Val shape: {X_val.shape}\")\n",
        "print(f\"Y Train shape: {y_train.shape}\")\n",
        "print(f\"Y Val shape: {y_val.shape}\")"
      ],
      "metadata": {
        "colab": {
          "base_uri": "https://localhost:8080/"
        },
        "outputId": "83483af5-7177-46bd-d79e-52e946c997c0",
        "id": "RrYnE_XdIJCt"
      },
      "execution_count": null,
      "outputs": [
        {
          "output_type": "stream",
          "name": "stdout",
          "text": [
            "Train shape: (2211, 13)\n",
            "Val shape: (553, 13)\n",
            "X Train shape: (2211, 10)\n",
            "X Val shape: (553, 10)\n",
            "Y Train shape: (2211,)\n",
            "Y Val shape: (553,)\n"
          ]
        }
      ]
    },
    {
      "cell_type": "code",
      "source": [
        "find_params = True\n",
        "if find_params:\n",
        "    study = optuna.create_study(\n",
        "        direction='minimize',\n",
        "        pruner=optuna.pruners.MedianPruner(n_warmup_steps=20),\n",
        "        study_name='small')\n",
        "    study.optimize(objective, n_trials=20)"
      ],
      "metadata": {
        "colab": {
          "base_uri": "https://localhost:8080/"
        },
        "id": "p1VTAF6dGs3r",
        "outputId": "8715b56a-2dd9-4ade-b91f-e56d0d3559d0"
      },
      "execution_count": null,
      "outputs": [
        {
          "output_type": "stream",
          "name": "stderr",
          "text": [
            "[I 2023-06-15 04:09:40,463] A new study created in memory with name: small\n",
            "<ipython-input-20-446c122f5b50>:7: FutureWarning: suggest_loguniform has been deprecated in v3.0.0. This feature will be removed in v6.0.0. See https://github.com/optuna/optuna/releases/tag/v3.0.0. Use suggest_float(..., log=True) instead.\n",
            "  'reg_alpha': trial.suggest_loguniform('reg_alpha', 1e-3, 10.0),\n",
            "<ipython-input-20-446c122f5b50>:8: FutureWarning: suggest_loguniform has been deprecated in v3.0.0. This feature will be removed in v6.0.0. See https://github.com/optuna/optuna/releases/tag/v3.0.0. Use suggest_float(..., log=True) instead.\n",
            "  'reg_lambda': trial.suggest_loguniform('reg_lambda', 1e-3, 10.0),\n",
            "[I 2023-06-15 04:09:40,642] Trial 0 finished with value: 3400.0 and parameters: {'reg_alpha': 0.21903653570769155, 'reg_lambda': 0.027589027811189937, 'colsample_bytree': 0.5, 'subsample': 1.0, 'max_depth': 40, 'num_leaves': 87, 'min_child_samples': 128, 'cat_smooth': 66}. Best is trial 0 with value: 3400.0.\n",
            "<ipython-input-20-446c122f5b50>:7: FutureWarning: suggest_loguniform has been deprecated in v3.0.0. This feature will be removed in v6.0.0. See https://github.com/optuna/optuna/releases/tag/v3.0.0. Use suggest_float(..., log=True) instead.\n",
            "  'reg_alpha': trial.suggest_loguniform('reg_alpha', 1e-3, 10.0),\n",
            "<ipython-input-20-446c122f5b50>:8: FutureWarning: suggest_loguniform has been deprecated in v3.0.0. This feature will be removed in v6.0.0. See https://github.com/optuna/optuna/releases/tag/v3.0.0. Use suggest_float(..., log=True) instead.\n",
            "  'reg_lambda': trial.suggest_loguniform('reg_lambda', 1e-3, 10.0),\n",
            "[I 2023-06-15 04:09:40,856] Trial 1 finished with value: 3700.0 and parameters: {'reg_alpha': 1.4989888031154848, 'reg_lambda': 0.7083656230139806, 'colsample_bytree': 1.0, 'subsample': 1.0, 'max_depth': 10, 'num_leaves': 100, 'min_child_samples': 15, 'cat_smooth': 39}. Best is trial 0 with value: 3400.0.\n",
            "<ipython-input-20-446c122f5b50>:7: FutureWarning: suggest_loguniform has been deprecated in v3.0.0. This feature will be removed in v6.0.0. See https://github.com/optuna/optuna/releases/tag/v3.0.0. Use suggest_float(..., log=True) instead.\n",
            "  'reg_alpha': trial.suggest_loguniform('reg_alpha', 1e-3, 10.0),\n",
            "<ipython-input-20-446c122f5b50>:8: FutureWarning: suggest_loguniform has been deprecated in v3.0.0. This feature will be removed in v6.0.0. See https://github.com/optuna/optuna/releases/tag/v3.0.0. Use suggest_float(..., log=True) instead.\n",
            "  'reg_lambda': trial.suggest_loguniform('reg_lambda', 1e-3, 10.0),\n",
            "[I 2023-06-15 04:09:40,965] Trial 2 finished with value: 4000.0 and parameters: {'reg_alpha': 0.0030651860587265337, 'reg_lambda': 0.00121611060174439, 'colsample_bytree': 0.7, 'subsample': 0.7, 'max_depth': 10, 'num_leaves': 31, 'min_child_samples': 259, 'cat_smooth': 36}. Best is trial 0 with value: 3400.0.\n",
            "<ipython-input-20-446c122f5b50>:7: FutureWarning: suggest_loguniform has been deprecated in v3.0.0. This feature will be removed in v6.0.0. See https://github.com/optuna/optuna/releases/tag/v3.0.0. Use suggest_float(..., log=True) instead.\n",
            "  'reg_alpha': trial.suggest_loguniform('reg_alpha', 1e-3, 10.0),\n",
            "<ipython-input-20-446c122f5b50>:8: FutureWarning: suggest_loguniform has been deprecated in v3.0.0. This feature will be removed in v6.0.0. See https://github.com/optuna/optuna/releases/tag/v3.0.0. Use suggest_float(..., log=True) instead.\n",
            "  'reg_lambda': trial.suggest_loguniform('reg_lambda', 1e-3, 10.0),\n",
            "[I 2023-06-15 04:09:41,090] Trial 3 finished with value: 4500.0 and parameters: {'reg_alpha': 0.005746644685114446, 'reg_lambda': 0.0036129000364116867, 'colsample_bytree': 0.9, 'subsample': 0.6, 'max_depth': 20, 'num_leaves': 7, 'min_child_samples': 270, 'cat_smooth': 38}. Best is trial 0 with value: 3400.0.\n",
            "<ipython-input-20-446c122f5b50>:7: FutureWarning: suggest_loguniform has been deprecated in v3.0.0. This feature will be removed in v6.0.0. See https://github.com/optuna/optuna/releases/tag/v3.0.0. Use suggest_float(..., log=True) instead.\n",
            "  'reg_alpha': trial.suggest_loguniform('reg_alpha', 1e-3, 10.0),\n",
            "<ipython-input-20-446c122f5b50>:8: FutureWarning: suggest_loguniform has been deprecated in v3.0.0. This feature will be removed in v6.0.0. See https://github.com/optuna/optuna/releases/tag/v3.0.0. Use suggest_float(..., log=True) instead.\n",
            "  'reg_lambda': trial.suggest_loguniform('reg_lambda', 1e-3, 10.0),\n",
            "[I 2023-06-15 04:09:41,174] Trial 4 finished with value: 4100.0 and parameters: {'reg_alpha': 6.109418681056412, 'reg_lambda': 0.010037401373979626, 'colsample_bytree': 0.4, 'subsample': 0.7, 'max_depth': 40, 'num_leaves': 17, 'min_child_samples': 269, 'cat_smooth': 44}. Best is trial 0 with value: 3400.0.\n",
            "<ipython-input-20-446c122f5b50>:7: FutureWarning: suggest_loguniform has been deprecated in v3.0.0. This feature will be removed in v6.0.0. See https://github.com/optuna/optuna/releases/tag/v3.0.0. Use suggest_float(..., log=True) instead.\n",
            "  'reg_alpha': trial.suggest_loguniform('reg_alpha', 1e-3, 10.0),\n",
            "<ipython-input-20-446c122f5b50>:8: FutureWarning: suggest_loguniform has been deprecated in v3.0.0. This feature will be removed in v6.0.0. See https://github.com/optuna/optuna/releases/tag/v3.0.0. Use suggest_float(..., log=True) instead.\n",
            "  'reg_lambda': trial.suggest_loguniform('reg_lambda', 1e-3, 10.0),\n",
            "[I 2023-06-15 04:09:41,272] Trial 5 finished with value: 4100.0 and parameters: {'reg_alpha': 0.11698021773842954, 'reg_lambda': 0.14300727203809888, 'colsample_bytree': 1.0, 'subsample': 0.4, 'max_depth': 10, 'num_leaves': 4, 'min_child_samples': 209, 'cat_smooth': 91}. Best is trial 0 with value: 3400.0.\n",
            "<ipython-input-20-446c122f5b50>:7: FutureWarning: suggest_loguniform has been deprecated in v3.0.0. This feature will be removed in v6.0.0. See https://github.com/optuna/optuna/releases/tag/v3.0.0. Use suggest_float(..., log=True) instead.\n",
            "  'reg_alpha': trial.suggest_loguniform('reg_alpha', 1e-3, 10.0),\n",
            "<ipython-input-20-446c122f5b50>:8: FutureWarning: suggest_loguniform has been deprecated in v3.0.0. This feature will be removed in v6.0.0. See https://github.com/optuna/optuna/releases/tag/v3.0.0. Use suggest_float(..., log=True) instead.\n",
            "  'reg_lambda': trial.suggest_loguniform('reg_lambda', 1e-3, 10.0),\n",
            "[I 2023-06-15 04:09:41,400] Trial 6 finished with value: 3600.0 and parameters: {'reg_alpha': 0.006130467970914897, 'reg_lambda': 0.026401609499477684, 'colsample_bytree': 0.6, 'subsample': 0.8, 'max_depth': 30, 'num_leaves': 85, 'min_child_samples': 177, 'cat_smooth': 17}. Best is trial 0 with value: 3400.0.\n",
            "<ipython-input-20-446c122f5b50>:7: FutureWarning: suggest_loguniform has been deprecated in v3.0.0. This feature will be removed in v6.0.0. See https://github.com/optuna/optuna/releases/tag/v3.0.0. Use suggest_float(..., log=True) instead.\n",
            "  'reg_alpha': trial.suggest_loguniform('reg_alpha', 1e-3, 10.0),\n",
            "<ipython-input-20-446c122f5b50>:8: FutureWarning: suggest_loguniform has been deprecated in v3.0.0. This feature will be removed in v6.0.0. See https://github.com/optuna/optuna/releases/tag/v3.0.0. Use suggest_float(..., log=True) instead.\n",
            "  'reg_lambda': trial.suggest_loguniform('reg_lambda', 1e-3, 10.0),\n",
            "[I 2023-06-15 04:09:41,687] Trial 7 finished with value: 2800.0 and parameters: {'reg_alpha': 0.004514437905904553, 'reg_lambda': 0.5663148141597366, 'colsample_bytree': 0.3, 'subsample': 0.7, 'max_depth': 40, 'num_leaves': 84, 'min_child_samples': 36, 'cat_smooth': 36}. Best is trial 7 with value: 2800.0.\n",
            "<ipython-input-20-446c122f5b50>:7: FutureWarning: suggest_loguniform has been deprecated in v3.0.0. This feature will be removed in v6.0.0. See https://github.com/optuna/optuna/releases/tag/v3.0.0. Use suggest_float(..., log=True) instead.\n",
            "  'reg_alpha': trial.suggest_loguniform('reg_alpha', 1e-3, 10.0),\n",
            "<ipython-input-20-446c122f5b50>:8: FutureWarning: suggest_loguniform has been deprecated in v3.0.0. This feature will be removed in v6.0.0. See https://github.com/optuna/optuna/releases/tag/v3.0.0. Use suggest_float(..., log=True) instead.\n",
            "  'reg_lambda': trial.suggest_loguniform('reg_lambda', 1e-3, 10.0),\n",
            "[I 2023-06-15 04:09:41,784] Trial 8 finished with value: 4300.0 and parameters: {'reg_alpha': 0.05895291064604004, 'reg_lambda': 9.232995404786665, 'colsample_bytree': 0.4, 'subsample': 0.8, 'max_depth': 50, 'num_leaves': 88, 'min_child_samples': 258, 'cat_smooth': 35}. Best is trial 7 with value: 2800.0.\n",
            "<ipython-input-20-446c122f5b50>:7: FutureWarning: suggest_loguniform has been deprecated in v3.0.0. This feature will be removed in v6.0.0. See https://github.com/optuna/optuna/releases/tag/v3.0.0. Use suggest_float(..., log=True) instead.\n",
            "  'reg_alpha': trial.suggest_loguniform('reg_alpha', 1e-3, 10.0),\n",
            "<ipython-input-20-446c122f5b50>:8: FutureWarning: suggest_loguniform has been deprecated in v3.0.0. This feature will be removed in v6.0.0. See https://github.com/optuna/optuna/releases/tag/v3.0.0. Use suggest_float(..., log=True) instead.\n",
            "  'reg_lambda': trial.suggest_loguniform('reg_lambda', 1e-3, 10.0),\n",
            "[I 2023-06-15 04:09:42,021] Trial 9 finished with value: 3400.0 and parameters: {'reg_alpha': 0.004644763245114851, 'reg_lambda': 0.0392866628246993, 'colsample_bytree': 0.7, 'subsample': 1.0, 'max_depth': 50, 'num_leaves': 32, 'min_child_samples': 86, 'cat_smooth': 52}. Best is trial 7 with value: 2800.0.\n",
            "<ipython-input-20-446c122f5b50>:7: FutureWarning: suggest_loguniform has been deprecated in v3.0.0. This feature will be removed in v6.0.0. See https://github.com/optuna/optuna/releases/tag/v3.0.0. Use suggest_float(..., log=True) instead.\n",
            "  'reg_alpha': trial.suggest_loguniform('reg_alpha', 1e-3, 10.0),\n",
            "<ipython-input-20-446c122f5b50>:8: FutureWarning: suggest_loguniform has been deprecated in v3.0.0. This feature will be removed in v6.0.0. See https://github.com/optuna/optuna/releases/tag/v3.0.0. Use suggest_float(..., log=True) instead.\n",
            "  'reg_lambda': trial.suggest_loguniform('reg_lambda', 1e-3, 10.0),\n",
            "[I 2023-06-15 04:09:42,459] Trial 10 finished with value: 2900.0 and parameters: {'reg_alpha': 0.0012208582847054476, 'reg_lambda': 0.6286047919719374, 'colsample_bytree': 0.3, 'subsample': 0.5, 'max_depth': 40, 'num_leaves': 59, 'min_child_samples': 1, 'cat_smooth': 5}. Best is trial 7 with value: 2800.0.\n",
            "<ipython-input-20-446c122f5b50>:7: FutureWarning: suggest_loguniform has been deprecated in v3.0.0. This feature will be removed in v6.0.0. See https://github.com/optuna/optuna/releases/tag/v3.0.0. Use suggest_float(..., log=True) instead.\n",
            "  'reg_alpha': trial.suggest_loguniform('reg_alpha', 1e-3, 10.0),\n",
            "<ipython-input-20-446c122f5b50>:8: FutureWarning: suggest_loguniform has been deprecated in v3.0.0. This feature will be removed in v6.0.0. See https://github.com/optuna/optuna/releases/tag/v3.0.0. Use suggest_float(..., log=True) instead.\n",
            "  'reg_lambda': trial.suggest_loguniform('reg_lambda', 1e-3, 10.0),\n",
            "[I 2023-06-15 04:09:43,222] Trial 11 finished with value: 2900.0 and parameters: {'reg_alpha': 0.001160542522826506, 'reg_lambda': 0.576634906047867, 'colsample_bytree': 0.3, 'subsample': 0.5, 'max_depth': 40, 'num_leaves': 62, 'min_child_samples': 6, 'cat_smooth': 2}. Best is trial 7 with value: 2800.0.\n",
            "<ipython-input-20-446c122f5b50>:7: FutureWarning: suggest_loguniform has been deprecated in v3.0.0. This feature will be removed in v6.0.0. See https://github.com/optuna/optuna/releases/tag/v3.0.0. Use suggest_float(..., log=True) instead.\n",
            "  'reg_alpha': trial.suggest_loguniform('reg_alpha', 1e-3, 10.0),\n",
            "<ipython-input-20-446c122f5b50>:8: FutureWarning: suggest_loguniform has been deprecated in v3.0.0. This feature will be removed in v6.0.0. See https://github.com/optuna/optuna/releases/tag/v3.0.0. Use suggest_float(..., log=True) instead.\n",
            "  'reg_lambda': trial.suggest_loguniform('reg_lambda', 1e-3, 10.0),\n",
            "[I 2023-06-15 04:09:44,689] Trial 12 finished with value: 3000.0 and parameters: {'reg_alpha': 0.001109104330601475, 'reg_lambda': 0.6497065696536354, 'colsample_bytree': 0.3, 'subsample': 0.5, 'max_depth': 40, 'num_leaves': 62, 'min_child_samples': 63, 'cat_smooth': 14}. Best is trial 7 with value: 2800.0.\n",
            "<ipython-input-20-446c122f5b50>:7: FutureWarning: suggest_loguniform has been deprecated in v3.0.0. This feature will be removed in v6.0.0. See https://github.com/optuna/optuna/releases/tag/v3.0.0. Use suggest_float(..., log=True) instead.\n",
            "  'reg_alpha': trial.suggest_loguniform('reg_alpha', 1e-3, 10.0),\n",
            "<ipython-input-20-446c122f5b50>:8: FutureWarning: suggest_loguniform has been deprecated in v3.0.0. This feature will be removed in v6.0.0. See https://github.com/optuna/optuna/releases/tag/v3.0.0. Use suggest_float(..., log=True) instead.\n",
            "  'reg_lambda': trial.suggest_loguniform('reg_lambda', 1e-3, 10.0),\n",
            "[I 2023-06-15 04:09:45,439] Trial 13 finished with value: 4100.0 and parameters: {'reg_alpha': 0.016924473703845175, 'reg_lambda': 3.9069117490527256, 'colsample_bytree': 0.8, 'subsample': 0.5, 'max_depth': 40, 'num_leaves': 62, 'min_child_samples': 56, 'cat_smooth': 20}. Best is trial 7 with value: 2800.0.\n",
            "<ipython-input-20-446c122f5b50>:7: FutureWarning: suggest_loguniform has been deprecated in v3.0.0. This feature will be removed in v6.0.0. See https://github.com/optuna/optuna/releases/tag/v3.0.0. Use suggest_float(..., log=True) instead.\n",
            "  'reg_alpha': trial.suggest_loguniform('reg_alpha', 1e-3, 10.0),\n",
            "<ipython-input-20-446c122f5b50>:8: FutureWarning: suggest_loguniform has been deprecated in v3.0.0. This feature will be removed in v6.0.0. See https://github.com/optuna/optuna/releases/tag/v3.0.0. Use suggest_float(..., log=True) instead.\n",
            "  'reg_lambda': trial.suggest_loguniform('reg_lambda', 1e-3, 10.0),\n",
            "[I 2023-06-15 04:09:45,601] Trial 14 finished with value: 3000.0 and parameters: {'reg_alpha': 0.023874475765100624, 'reg_lambda': 0.1651744726780885, 'colsample_bytree': 0.3, 'subsample': 0.7, 'max_depth': 30, 'num_leaves': 46, 'min_child_samples': 117, 'cat_smooth': 76}. Best is trial 7 with value: 2800.0.\n",
            "<ipython-input-20-446c122f5b50>:7: FutureWarning: suggest_loguniform has been deprecated in v3.0.0. This feature will be removed in v6.0.0. See https://github.com/optuna/optuna/releases/tag/v3.0.0. Use suggest_float(..., log=True) instead.\n",
            "  'reg_alpha': trial.suggest_loguniform('reg_alpha', 1e-3, 10.0),\n",
            "<ipython-input-20-446c122f5b50>:8: FutureWarning: suggest_loguniform has been deprecated in v3.0.0. This feature will be removed in v6.0.0. See https://github.com/optuna/optuna/releases/tag/v3.0.0. Use suggest_float(..., log=True) instead.\n",
            "  'reg_lambda': trial.suggest_loguniform('reg_lambda', 1e-3, 10.0),\n",
            "[I 2023-06-15 04:09:45,884] Trial 15 finished with value: 3200.0 and parameters: {'reg_alpha': 0.0011005194817868085, 'reg_lambda': 2.0350529668517185, 'colsample_bytree': 0.3, 'subsample': 0.4, 'max_depth': 20, 'num_leaves': 74, 'min_child_samples': 38, 'cat_smooth': 2}. Best is trial 7 with value: 2800.0.\n",
            "<ipython-input-20-446c122f5b50>:7: FutureWarning: suggest_loguniform has been deprecated in v3.0.0. This feature will be removed in v6.0.0. See https://github.com/optuna/optuna/releases/tag/v3.0.0. Use suggest_float(..., log=True) instead.\n",
            "  'reg_alpha': trial.suggest_loguniform('reg_alpha', 1e-3, 10.0),\n",
            "<ipython-input-20-446c122f5b50>:8: FutureWarning: suggest_loguniform has been deprecated in v3.0.0. This feature will be removed in v6.0.0. See https://github.com/optuna/optuna/releases/tag/v3.0.0. Use suggest_float(..., log=True) instead.\n",
            "  'reg_lambda': trial.suggest_loguniform('reg_lambda', 1e-3, 10.0),\n",
            "[I 2023-06-15 04:09:46,071] Trial 16 finished with value: 3100.0 and parameters: {'reg_alpha': 0.011971756122998884, 'reg_lambda': 0.21852964652849768, 'colsample_bytree': 0.3, 'subsample': 0.7, 'max_depth': 40, 'num_leaves': 48, 'min_child_samples': 92, 'cat_smooth': 56}. Best is trial 7 with value: 2800.0.\n",
            "<ipython-input-20-446c122f5b50>:7: FutureWarning: suggest_loguniform has been deprecated in v3.0.0. This feature will be removed in v6.0.0. See https://github.com/optuna/optuna/releases/tag/v3.0.0. Use suggest_float(..., log=True) instead.\n",
            "  'reg_alpha': trial.suggest_loguniform('reg_alpha', 1e-3, 10.0),\n",
            "<ipython-input-20-446c122f5b50>:8: FutureWarning: suggest_loguniform has been deprecated in v3.0.0. This feature will be removed in v6.0.0. See https://github.com/optuna/optuna/releases/tag/v3.0.0. Use suggest_float(..., log=True) instead.\n",
            "  'reg_lambda': trial.suggest_loguniform('reg_lambda', 1e-3, 10.0),\n",
            "[I 2023-06-15 04:09:46,819] Trial 17 finished with value: 2000.0 and parameters: {'reg_alpha': 0.0027427490923823744, 'reg_lambda': 1.737592657955828, 'colsample_bytree': 0.9, 'subsample': 0.6, 'max_depth': 40, 'num_leaves': 77, 'min_child_samples': 1, 'cat_smooth': 25}. Best is trial 17 with value: 2000.0.\n",
            "<ipython-input-20-446c122f5b50>:7: FutureWarning: suggest_loguniform has been deprecated in v3.0.0. This feature will be removed in v6.0.0. See https://github.com/optuna/optuna/releases/tag/v3.0.0. Use suggest_float(..., log=True) instead.\n",
            "  'reg_alpha': trial.suggest_loguniform('reg_alpha', 1e-3, 10.0),\n",
            "<ipython-input-20-446c122f5b50>:8: FutureWarning: suggest_loguniform has been deprecated in v3.0.0. This feature will be removed in v6.0.0. See https://github.com/optuna/optuna/releases/tag/v3.0.0. Use suggest_float(..., log=True) instead.\n",
            "  'reg_lambda': trial.suggest_loguniform('reg_lambda', 1e-3, 10.0),\n",
            "[I 2023-06-15 04:09:47,170] Trial 18 finished with value: 3300.0 and parameters: {'reg_alpha': 0.03199963220030264, 'reg_lambda': 2.6737137017020873, 'colsample_bytree': 0.9, 'subsample': 0.6, 'max_depth': 40, 'num_leaves': 100, 'min_child_samples': 45, 'cat_smooth': 24}. Best is trial 17 with value: 2000.0.\n",
            "<ipython-input-20-446c122f5b50>:7: FutureWarning: suggest_loguniform has been deprecated in v3.0.0. This feature will be removed in v6.0.0. See https://github.com/optuna/optuna/releases/tag/v3.0.0. Use suggest_float(..., log=True) instead.\n",
            "  'reg_alpha': trial.suggest_loguniform('reg_alpha', 1e-3, 10.0),\n",
            "<ipython-input-20-446c122f5b50>:8: FutureWarning: suggest_loguniform has been deprecated in v3.0.0. This feature will be removed in v6.0.0. See https://github.com/optuna/optuna/releases/tag/v3.0.0. Use suggest_float(..., log=True) instead.\n",
            "  'reg_lambda': trial.suggest_loguniform('reg_lambda', 1e-3, 10.0),\n",
            "[I 2023-06-15 04:09:47,350] Trial 19 finished with value: 3900.0 and parameters: {'reg_alpha': 0.0028896468944682244, 'reg_lambda': 8.223062559457734, 'colsample_bytree': 0.9, 'subsample': 0.6, 'max_depth': 20, 'num_leaves': 77, 'min_child_samples': 179, 'cat_smooth': 28}. Best is trial 17 with value: 2000.0.\n"
          ]
        }
      ]
    },
    {
      "cell_type": "code",
      "source": [
        "study.best_params"
      ],
      "metadata": {
        "colab": {
          "base_uri": "https://localhost:8080/"
        },
        "id": "b7I7xy2ZUycR",
        "outputId": "5190617a-17cf-4339-a31b-dcf9d583eab0"
      },
      "execution_count": null,
      "outputs": [
        {
          "output_type": "execute_result",
          "data": {
            "text/plain": [
              "{'reg_alpha': 0.0027427490923823744,\n",
              " 'reg_lambda': 1.737592657955828,\n",
              " 'colsample_bytree': 0.9,\n",
              " 'subsample': 0.6,\n",
              " 'max_depth': 40,\n",
              " 'num_leaves': 77,\n",
              " 'min_child_samples': 1,\n",
              " 'cat_smooth': 25}"
            ]
          },
          "metadata": {},
          "execution_count": 36
        }
      ]
    },
    {
      "cell_type": "code",
      "source": [
        "best_params = study.best_params"
      ],
      "metadata": {
        "id": "qoGNbDH8U-9c"
      },
      "execution_count": null,
      "outputs": []
    },
    {
      "cell_type": "code",
      "source": [
        "fixed_params = {\n",
        "    'metric': 'logloss',\n",
        "    'random_state': 42,\n",
        "    'n_estimators': 300,\n",
        "    'learning_rate': 0.1,\n",
        "}"
      ],
      "metadata": {
        "id": "KEBBcQ9PGs1p"
      },
      "execution_count": null,
      "outputs": []
    },
    {
      "cell_type": "code",
      "source": [
        "merged_params = {\n",
        "    **best_params, **fixed_params\n",
        "}"
      ],
      "metadata": {
        "id": "4dmp_19bVGmo"
      },
      "execution_count": null,
      "outputs": []
    },
    {
      "cell_type": "code",
      "source": [
        "model = lgb.LGBMClassifier(**merged_params)\n",
        "model.fit(X_train, y_train)\n",
        "\n",
        "y_train_pred = model.predict(X_train)\n",
        "y_val_pred = model.predict(X_val)\n",
        "\n",
        "cost_train = cost_electricity(y_train, y_train_pred) / len(y_train)\n",
        "cost_val = cost_electricity(y_val, y_val_pred) / len(y_val)\n",
        "\n",
        "y_train_model_prob = model.predict_proba(X_train)\n",
        "y_val_model_prob = model.predict_proba(X_val)"
      ],
      "metadata": {
        "id": "6vtNYLCtGszr"
      },
      "execution_count": null,
      "outputs": []
    },
    {
      "cell_type": "code",
      "source": [
        "check_performance_metrics(y_train, y_train_pred, y_val, y_val_pred)"
      ],
      "metadata": {
        "colab": {
          "base_uri": "https://localhost:8080/"
        },
        "id": "oExl2OQvQ3ES",
        "outputId": "6256e8dc-ff7e-496f-e45c-219c0fc3d901"
      },
      "execution_count": null,
      "outputs": [
        {
          "output_type": "stream",
          "name": "stdout",
          "text": [
            "              precision    recall  f1-score   support\n",
            "\n",
            "   Temp < 20       1.00      1.00      1.00      1464\n",
            "  Temp >= 20       1.00      1.00      1.00       747\n",
            "\n",
            "    accuracy                           1.00      2211\n",
            "   macro avg       1.00      1.00      1.00      2211\n",
            "weighted avg       1.00      1.00      1.00      2211\n",
            "\n",
            "              precision    recall  f1-score   support\n",
            "\n",
            "   Temp < 20       0.71      0.94      0.81       341\n",
            "  Temp >= 20       0.80      0.37      0.51       212\n",
            "\n",
            "    accuracy                           0.72       553\n",
            "   macro avg       0.75      0.66      0.66       553\n",
            "weighted avg       0.74      0.72      0.69       553\n",
            "\n",
            "ROC AUC Score Train: 100.0000 %\n",
            "ROC AUC Score Val: 85.3608 %\n",
            "AVG Electricity Cost Train: 0.0000 Baht\n",
            "AVG Electricity Cost Val: 3.6166 Baht\n",
            "AVG F1 Score Train: 100.0000 %\n",
            "AVG F1 Score Val: 65.7793 %\n"
          ]
        }
      ]
    }
  ]
}